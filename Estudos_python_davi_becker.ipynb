{
  "nbformat": 4,
  "nbformat_minor": 0,
  "metadata": {
    "colab": {
      "provenance": [],
      "name": "Estudos_python_davi_becker.ipynb",
      "mount_file_id": "https://gist.github.com/VonBeckera/890cc00392789d5dd836094d4c7fd563#file-untitled1-ipynb",
      "authorship_tag": "ABX9TyMiip6I+6No+gNGEWmn2Nri",
      "include_colab_link": true
    },
    "kernelspec": {
      "name": "python3",
      "display_name": "Python 3"
    },
    "language_info": {
      "name": "python"
    }
  },
  "cells": [
    {
      "cell_type": "markdown",
      "metadata": {
        "id": "view-in-github",
        "colab_type": "text"
      },
      "source": [
        "<a href=\"https://colab.research.google.com/github/VonBeckera/Eclipse/blob/main/Estudos_python_davi_becker.ipynb\" target=\"_parent\"><img src=\"https://colab.research.google.com/assets/colab-badge.svg\" alt=\"Open In Colab\"/></a>"
      ]
    },
    {
      "cell_type": "code",
      "execution_count": null,
      "metadata": {
        "id": "kCjFpoujXt6Q"
      },
      "outputs": [],
      "source": [
        "#1 Manipulando Strings\n",
        "\n",
        "a = input('Digite uma palavra: ')\n",
        "print('O tipo digitado é: ', type(a))\n",
        "print('O tipo digitado tem espaços: ', a.isspace())\n",
        "print('O tipo digitado é um número: ', a.isnumeric())\n",
        "print('O tipo digitado é alfa numerico: ', a.isalnum())\n",
        "print('O tipo digitado e alfabetico: ', a.isalpha())\n",
        "print('O tipo está capitalizado: ', a.istitle())"
      ]
    },
    {
      "cell_type": "code",
      "source": [
        "#Exmplos de precedencias\n",
        "# Exemplo 1\n",
        "n1 = 5\n",
        "n2 = 2\n",
        "n3 = 3\n",
        "s = n1+n2*n3\n",
        "print(s)\n",
        "\n",
        "# Exemplo 2\n",
        "n4 = 3\n",
        "n5 = 5\n",
        "n6 = 4\n",
        "n7 = 2\n",
        "s1 = n4*n5+n6**n7\n",
        "print(s1)\n",
        "# Exemplo 3\n",
        "\n",
        "n8 = 3\n",
        "n9 = 5\n",
        "n0 = 4\n",
        "n11 = 2\n",
        "s2 = n8*(n9+n0)**n11\n",
        "print(s2)\n"
      ],
      "metadata": {
        "id": "OTqlNsOIVpOC"
      },
      "execution_count": null,
      "outputs": []
    },
    {
      "cell_type": "markdown",
      "source": [
        "# Aula 07\n"
      ],
      "metadata": {
        "id": "E_VeYbVjZphx"
      }
    },
    {
      "cell_type": "code",
      "source": [
        "nome = input('Qual o seu nome? ')\n",
        "print(f'Seja Bem Vindo {nome}!')"
      ],
      "metadata": {
        "id": "hgXzhrxiZufz"
      },
      "execution_count": null,
      "outputs": []
    },
    {
      "cell_type": "code",
      "source": [
        "n1 = int(input('Digite um valor ' ))\n",
        "n2 = int(input('Digite outro valor ' ))\n",
        "print(f'A soma vale {n1+n2}')"
      ],
      "metadata": {
        "id": "S5y-FCZYdcIT"
      },
      "execution_count": null,
      "outputs": []
    },
    {
      "cell_type": "code",
      "source": [
        "# Conversão de valores em dólar\n",
        "\n",
        "d = float(input('Digite o valor que você tem na carteria: '))\n",
        "c = d/5.07\n",
        "print(f'O valor de {d} Reais equivale a {c:.2f} dólares')"
      ],
      "metadata": {
        "id": "884aqXEPBNxF"
      },
      "execution_count": null,
      "outputs": []
    },
    {
      "cell_type": "code",
      "source": [
        "#Calcular desconto de x% do valor de um produto\n",
        "n = input('Digite seu nome para acessar o sistema: ')\n",
        "print(f'Seja bem vido {n} ao sistema de cáculos de descontos')\n",
        "v = float(input('Digite o valor do produto: '))\n",
        "d = float(input('Digite o valor do desconto: '))\n",
        "c = v - (v * d / 100)\n",
        "print(f'O valor final com o Desconto de {d:.0f}% é de R${c:.2f}')"
      ],
      "metadata": {
        "id": "sqGLri-Plo38"
      },
      "execution_count": null,
      "outputs": []
    },
    {
      "cell_type": "code",
      "source": [
        "# Calcular a área de uma parede retangular e a quantidade de tinta a ser usada\n",
        "# 1 litro de tinta pinta 2m² de parede\n",
        "# Área - Base(b) x Altura(h)\n",
        "n = input('Digite seu nome ')\n",
        "print(f'Seja Bem vindo {n} ao sistema de cácluo de pintura de área construída')\n",
        "b = float(input('Digite o valor da Base em metros: ' ))\n",
        "h = float(input('Digite o valor da altura em metros: ' ))\n",
        "a = (b*h)\n",
        "t = (a / 2)\n",
        "print(f'A área tem {a} m² e a quantidade de tinta nescessária para pintar é de {t} Litros de tinta')"
      ],
      "metadata": {
        "id": "Mv8zfPK5GTX6"
      },
      "execution_count": null,
      "outputs": []
    },
    {
      "cell_type": "code",
      "source": [
        "#Teste de ocultar senha\n",
        "import getpass\n",
        "s = getpass.getpass(prompt='Digite sua senha ')\n",
        "s2 = \"123\"\n",
        "\n",
        "if s == s2:\n",
        "    print('Seja Bem vindo ao sistema')\n",
        "\n",
        "else:\n",
        "    print('Senha inválida!')"
      ],
      "metadata": {
        "id": "UeOXKxFfnsfK"
      },
      "execution_count": null,
      "outputs": []
    },
    {
      "cell_type": "code",
      "source": [
        "#Ler salário e mostre o novo salário com 15% de aumento\n",
        "n = input('Digite seu nome: ')\n",
        "print(f'Seja bem vindo {n} ao sistema de cálculo de salários')\n",
        "print('Este sistema irá calcular o aumento salarial de 15% sobre o salário informado')\n",
        "s = float(input('Informe o valor do salário: '))\n",
        "c = (s * 0.15)+s\n",
        "p = c-s\n",
        "print(f'O salário de R${s:.2f} com aumento de 15% é de R${c:.2f} o valor do aumento foi de R$: {p:.2f}')\n"
      ],
      "metadata": {
        "id": "-zVgTejoFRdr"
      },
      "execution_count": null,
      "outputs": []
    },
    {
      "cell_type": "code",
      "source": [
        "#Sucessor e antecessor de um número digitado\n",
        "n = int(input('Digite um número: '))\n",
        "print(f'O sucessor do número {n} é: {n+1}, é seu antecessor é: {n-1}')"
      ],
      "metadata": {
        "id": "fbSSh6e3K-XR"
      },
      "execution_count": null,
      "outputs": []
    },
    {
      "cell_type": "code",
      "source": [
        "#Crie um algoritmo que leia um número e mostre o seu dobro, triplo e raiz quadrada.\n",
        "import math\n",
        "n = int(input('Digite um número e vamos calulcar seu dobro, triplo e raiz quadrada: '))\n",
        "d = n*2\n",
        "t = n*3\n",
        "r = math.sqrt(n)\n",
        "l = n**(1/2)\n",
        "print(f'O dobro do número {n} é: {d}\\n ---- O triplo de {n} é: {t}\\n ---- A raiz quadrada de {n} é: {r}')\n",
        "print(l)"
      ],
      "metadata": {
        "id": "K1nTRN9SMHlx"
      },
      "execution_count": null,
      "outputs": []
    },
    {
      "cell_type": "code",
      "source": [
        "#Desenvolva um programa que leia as duas notas de um aluno, calcule e mostre a sua média.\n",
        "import getpass\n",
        "n = input('Digite seu nome: ')\n",
        "s2 = \"123\"\n",
        "\n",
        "while True:\n",
        "    s = getpass.getpass(prompt='Digite sua senha: ')\n",
        "    if s == s2:\n",
        "        print(f'Seja bem vindo {n} ao sistema de notas e médias acadêmicas')\n",
        "        break\n",
        "    else:\n",
        "        print('Senha inválida, tente novamente.')\n",
        "\n",
        "while True:\n",
        "    op = int(input('Digite 1 para sair ou 2 para um novo aluno: '))\n",
        "\n",
        "    if op == 1:\n",
        "        print('Obrigado por utilizar nosso sistema, até logo!')\n",
        "        break\n",
        "\n",
        "    elif op == 2:\n",
        "        a = input('Digite o nome do aluno: ')\n",
        "        nota1 = float(input(f'Digite a primeira nota do Aluno {a}: '))\n",
        "        nota2 = float(input(f'Digite a segunda nota do aluno {a}: '))\n",
        "        media = (nota1 + nota2) / 2\n",
        "\n",
        "        if media >= 7:\n",
        "            print(f'O aluno {a} foi aprovado com Média {media}')\n",
        "        else:\n",
        "            print(f'O aluno {a} foi reprovado com média {media}')"
      ],
      "metadata": {
        "id": "lJlv1MqNPLrr"
      },
      "execution_count": null,
      "outputs": []
    },
    {
      "cell_type": "code",
      "source": [
        "#Programa de conversão de metros para CM e MM\n",
        "\n",
        "me = int(input('Digite o valor em metros: '))\n",
        "cm = me*100 \n",
        "mm = me*1000\n",
        "print(f'O valor de {me} metros equivale a: {cm} Centímetros e {mm} Milímetros')\n"
      ],
      "metadata": {
        "id": "EUVG-xbMZeEH"
      },
      "execution_count": null,
      "outputs": []
    },
    {
      "cell_type": "code",
      "source": [
        "#Tabuada de um número digitado\n",
        "print('Bem vindo a tabuada de um número digitado')\n",
        "n = int(input('Digite um número: '))\n",
        "print(f'{n} x {1} = {n*1}')\n",
        "print(f'{n} x {2} = {n*2}')\n",
        "print(f'{n} x {3} = {n*3}')\n",
        "print(f'{n} x {4} = {n*4}')\n",
        "print(f'{n} x {5} = {n*5}')\n",
        "print(f'{n} x {6} = {n*6}')\n",
        "print(f'{n} x {7} = {n*7}')\n",
        "print(f'{n} x {8} = {n*8}')\n",
        "print(f'{n} x {9} = {n*9}')\n",
        "print(f'{n} x {10} = {n*10}')"
      ],
      "metadata": {
        "id": "ldM09OBobYP2"
      },
      "execution_count": null,
      "outputs": []
    },
    {
      "cell_type": "code",
      "source": [
        "print('Bem vindo a tabuada de um número digitado')\n",
        "n = int(input('Digite um número: '))\n",
        "for i in range(1, 11):\n",
        "    print(f'{n} x {i} = {n*i}')"
      ],
      "metadata": {
        "id": "Z8_xN1UMwfJJ"
      },
      "execution_count": null,
      "outputs": []
    },
    {
      "cell_type": "code",
      "source": [
        "#Convertendo temperatura\n",
        "\n",
        "t = float(input('Digite a temperatura em Celsius: '))\n",
        "f1 = (1.8 * t) + 32\n",
        "print(f'Converter {t}°C para a escala Fahrenheit : {f1}°')\n"
      ],
      "metadata": {
        "id": "CQNSdQ7HNwQP"
      },
      "execution_count": null,
      "outputs": []
    },
    {
      "cell_type": "code",
      "source": [
        "# Escreva um programa que pergunte a quantidade de Km percorridos por \n",
        "#um carro alugado e a quantidade de dias pelos quais ele foi alugado.\n",
        "#Calcule o preço a pagar, sabendo que o carro custa R$60 por dia e R$0,15 por Km rodado.\n",
        "\n",
        "print('Seja bem vido ao Locacar')\n",
        "d = 60\n",
        "d2 = int(input('Informe a quantidade de dias de locação: '))\n",
        "km = float(input('Informe a kilometragem final: '))\n",
        "cpkm = km * 0.15\n",
        "cd = d * d2\n",
        "cf = cd+cpkm\n",
        "print(f' O custo das diárias de {d2} dias foram de R${cd:.2f}\\n o custo da kilomêtragem de {km} KM foi de R${cpkm:.2f}\\n o valor final a ser pago pelo aluguel do veículo é de R$ {cf:.2f}')\n",
        "\n"
      ],
      "metadata": {
        "id": "vz_HUvGVsVBH"
      },
      "execution_count": null,
      "outputs": []
    },
    {
      "cell_type": "markdown",
      "source": [
        "MÓDULO 2\n"
      ],
      "metadata": {
        "id": "FvUwHZoIxPtJ"
      }
    },
    {
      "cell_type": "code",
      "source": [
        "!pip install emoji\n",
        "import emoji\n",
        "print(emoji.emojize(\"Olá mundo :sunglasses: \"))"
      ],
      "metadata": {
        "id": "d14LXRHFxTdq"
      },
      "execution_count": null,
      "outputs": []
    },
    {
      "cell_type": "code",
      "source": [
        "from math import trunc\n",
        "n = float(input('Digite um numero qualquer: '))\n",
        "print(f' A porção inteira do número digitado {n} é: {trunc(n)}')"
      ],
      "metadata": {
        "id": "6AdqIN3f6lA4"
      },
      "execution_count": null,
      "outputs": []
    },
    {
      "cell_type": "code",
      "source": [
        "from math import hypot\n",
        "copo = int(input('Digite o valor do cateto oposto: '))\n",
        "cadj = int(input('Digite o valor do cateto adjacente: '))\n",
        "\n",
        "hip = hypot(copo,cadj)\n",
        "\n",
        "print(f'O valor da Hipotenusa é: {hip}')\n",
        "\n"
      ],
      "metadata": {
        "id": "-6Ddn5aEQRqx"
      },
      "execution_count": null,
      "outputs": []
    },
    {
      "cell_type": "code",
      "source": [
        "from  math import sin,cos,tan,radians\n",
        "\n",
        "a = int(input('Digite o valor do ângulo: '))\n",
        "\n",
        "r = math.radians(a)\n",
        "cosseno = math.cos(r)\n",
        "seno = math.sin(r)\n",
        "tangente = math.tan(r)\n",
        "\n",
        "print(f'O valor do seno é {sin(r)} do cosseno é {cos(r)} e da tangente é {tan(r)} o ângulo em radianos é de {r}')\n",
        "\n"
      ],
      "metadata": {
        "id": "cSFcUiHwSOSf"
      },
      "execution_count": null,
      "outputs": []
    },
    {
      "cell_type": "code",
      "source": [
        "from random import choice\n",
        "nome = input('Digite o Primeiro nome: ')\n",
        "nome2 = input('Digite o segundo nome: ')\n",
        "nome3 = input('Digite o terceiro nome: ')\n",
        "nome4 = input('Digite o quarto nome: ')\n",
        "lista = [nome, nome2, nome3, nome4]\n",
        "escolhido = choice(lista)\n",
        "print(f'O aluno escolhido é: {escolhido}')"
      ],
      "metadata": {
        "id": "2BUr5iaGV_yf"
      },
      "execution_count": null,
      "outputs": []
    },
    {
      "cell_type": "code",
      "source": [
        "import random\n",
        "nome = input('Digite o Primeiro nome: ')\n",
        "nome2 = input('Digite o segundo nome: ')\n",
        "nome3 = input('Digite o terceiro nome: ')\n",
        "nome4 = input('Digite o quarto nome: ')\n",
        "lista = [nome, nome2, nome3, nome4]\n",
        "random.shuffle(lista)\n",
        "print(f'A ordem de apresentação será: {lista}')\n",
        "\n"
      ],
      "metadata": {
        "id": "qzZ6TG7_QOnv"
      },
      "execution_count": null,
      "outputs": []
    },
    {
      "cell_type": "code",
      "source": [
        "import random\n",
        "\n",
        "nomes = []\n",
        "\n",
        "print(\"Digite 4 nomes separados por enter: \")\n",
        "\n",
        "for i in range(4):\n",
        "    nome = input()\n",
        "    nomes.append(nome)\n",
        "\n",
        "aluno = random.choice(nomes)\n",
        "\n",
        "print(f'O nome é: {aluno}')\n",
        "\n"
      ],
      "metadata": {
        "id": "VJp0D2W0XRYD"
      },
      "execution_count": null,
      "outputs": []
    },
    {
      "cell_type": "code",
      "source": [
        "import random\n",
        "nomes = ['Davi','Pedro','Raissa','Claudia','Silvia','Amanda','Fabiana']\n",
        "sorteados = random.sample(nomes, 7)\n",
        "for i , nome in enumerate(sorteados):\n",
        "  print(f'{i + 1}º nome sorteado: {nome}')\n"
      ],
      "metadata": {
        "id": "GBfEmtEf-MMu"
      },
      "execution_count": null,
      "outputs": []
    },
    {
      "cell_type": "code",
      "source": [
        "!pip install pygame\n",
        "import pygame\n",
        "pygame.init()\n",
        "pygame.mixer.init()\n",
        "pygame.mixer.music.load(\"/content/drive/MyDrive/Contas/teste.mp3\")\n",
        "pygame.mixer.music.play()\n",
        "\n",
        "\n"
      ],
      "metadata": {
        "id": "7vj_wGNWS-Wf"
      },
      "execution_count": null,
      "outputs": []
    },
    {
      "cell_type": "code",
      "source": [
        "import requests\n",
        "\n",
        "url = \"https://justa-falta.vercel.app/#\"\n",
        "payload = {\"q\": \"' OR (SELECT COUNT(*) FROM all_tables) > 1 --\"}\n",
        "\n",
        "response = requests.get(url, params=payload)\n",
        "\n",
        "if \"error\" not in response.text:\n",
        "    print(\"SQL Injection vulnerability detected!\")\n",
        "else:\n",
        "    print(\"No SQL Injection vulnerability detected.\")"
      ],
      "metadata": {
        "id": "Gao-uJ7fL20n",
        "colab": {
          "base_uri": "https://localhost:8080/"
        },
        "outputId": "1a25249c-4ae6-4f48-d9d3-e681a231e680"
      },
      "execution_count": null,
      "outputs": [
        {
          "output_type": "stream",
          "name": "stdout",
          "text": [
            "SQL Injection vulnerability detected!\n"
          ]
        }
      ]
    },
    {
      "cell_type": "markdown",
      "source": [
        "AULA 09 - Manipulando Textos"
      ],
      "metadata": {
        "id": "dsu5naaMJz5p"
      }
    },
    {
      "cell_type": "code",
      "source": [
        "#manipulando texto\n",
        "\n",
        "frase = ('CURSO EM VIDEO PYTHON')# variavel frase recebendo valor (\"\")\n",
        "frase2 = ('CURSO EM VIDEO PYTHON')# variavel frase recebendo valor (\"\")\n",
        "\n",
        "nova_frase = frase.replace('VIDEO','XUXA ')#Substituindo uma string da frase por outra metodo replace\n",
        "\n",
        "#palavra_antiga = input(f'Digite a palavra antiga que voce quer substiruir na frase {frase}: ')\n",
        "#palavra_nova = input(f'Digite agora a palavra nova que sera inserida no lugar da palavara digita {palavra_antiga}: ')\n",
        "#frase3 = frase.replace(palavra_antiga, palavra_nova)\n",
        "\n",
        "\n",
        "\n",
        "frase_maiuscula = frase2.upper()#converte tudo para maisculo\n",
        "\n",
        "frase_minuscula = frase.lower()#capitalize(): esse método converte a primeira letra da string para maiúscula e as demais para minúsculas.\n",
        "\n",
        "frase_primeira_letra = frase.capitalize()\n",
        "\n",
        "contador = len(frase) #len () faz a contagem de todas as strings da frase\n",
        "\n",
        "a = frase.count('o') #count() faz a contagem de um determinado numero de vezes que um caracter ou palavra se repete\n",
        "\n",
        "indice = frase.find('em')#étodo de string que retorna o índice da primeira ocorrência de uma sub-string em uma string\n",
        "\n",
        "frasse_Title = frase.title()#title(): esse método converte a primeira letra de cada palavra da string para maiúscula e as demais para minúsculas.\n",
        "\n",
        "dividido = frase.split()\n",
        "\n",
        "#print(frase3)\n",
        "#print(frase[3])\n",
        "#\n",
        "print(frase.find('VIDEO'))\n",
        "print(dividido)\n",
        "print(dividido[3])\n",
        "#print(frasse_Title)\n",
        "#print(frase_primeira_letra)\n",
        "#print(frase_minuscula)\n",
        "#print(frase_maiuscula)\n",
        "#print(nova_frase)\n",
        "#print(indice)#indice da primeira ocorrência de uma sub-string em uma string\n",
        "#print(a)# imprime o numero de ocorrencias de um caracter string ou palavras\n",
        "#print(contador)# imprime o numero total de caracteres de uma string\n",
        "#print(frase[5:21])# começa do indice 5 e vai até o indice 21\n",
        "#print(frase[9:21:2])# começa a ler do indice 9 ao 21(esclui o 21)pulando 2 casas por vez\n",
        "#print(frase[:21])# ler do indice 0 até onde foi informado, neste caso 21 ele imprime a frase toda pois ela tem 21 indices"
      ],
      "metadata": {
        "id": "_WqkuvD9J6Bi"
      },
      "execution_count": null,
      "outputs": []
    },
    {
      "cell_type": "code",
      "source": [
        "!pip install phonenumbers\n",
        "import phonenumbers\n",
        "from phonenumbers import geocoder\n",
        "\n",
        "fone = phonenumbers.parse('+5541999590192')\n",
        "print('\\nLocalização\\n')\n",
        "print(geocoder.description_for_number(fone, 'PT'));\n"
      ],
      "metadata": {
        "id": "w6U7XYrlKCdy"
      },
      "execution_count": null,
      "outputs": []
    },
    {
      "cell_type": "code",
      "source": [
        "import tkinter as tk\n",
        "from tkinter import messagebox\n",
        "\n",
        "root = tk.Tk()\n",
        "root.withdraw()\n",
        "\n",
        "result = messagebox.askquestion(\"Question\", \"Do you want to continue?\")\n",
        "\n",
        "if result == 'yes':\n",
        "    print(\"User wants to continue\")\n",
        "else:\n",
        "    print(\"User does not want to continue\")"
      ],
      "metadata": {
        "id": "9HxF3s3DgLPs"
      },
      "execution_count": null,
      "outputs": []
    },
    {
      "cell_type": "code",
      "source": [
        "#Exercício Python 22: Crie um programa que leia o nome completo de uma pessoa e mostre:\n",
        "\n",
        "#– O nome com todas as letras maiúsculas e minúsculas.\n",
        "\n",
        "#– Quantas letras ao todo (sem considerar espaços).\n",
        "\n",
        "#– Quantas letras tem o primeiro nome.\n",
        "\n",
        "\n",
        "\n",
        "nome = str(input('Digite seu nome e sobrenome: ')).strip()\n",
        "\n",
        "nome1 = nome.split()[0]\n",
        "contnome1 = len(nome1)\n",
        "print(f'O seu primero nome é: \"{nome1}\" , e contém {contnome1} letras')\n",
        "\n",
        "print(f'Seu nome em maisculo é: {nome.upper()}')\n",
        "print(f'Seu nome em minusculo é:{nome.lower()}')\n",
        "espaço = nome.replace(\" \", \"\")\n",
        "cont = len(espaço)\n",
        "print(f'Seu nome todo tem {cont} letras')\n"
      ],
      "metadata": {
        "id": "SJe4GhbwoXJN"
      },
      "execution_count": null,
      "outputs": []
    },
    {
      "cell_type": "code",
      "source": [
        "#Exercício Python 23: Faça um programa que leia um número de 0 a 9999 e mostre na tela cada um dos dígitos separados.\n",
        "\n",
        "\n",
        "\n",
        "n = int(input('Digite um número de 0 a 9999: '))\n",
        "unidade = n % 10\n",
        "dezena = (n // 10) % 10\n",
        "centena = (n // 100 ) % 10\n",
        "milhar =  (n // 1000) % 10\n",
        "print(f'unidade {unidade}\\ndezena {dezena}\\ncentena {centena}\\nmilhar {milhar}\\n')"
      ],
      "metadata": {
        "id": "h3BMM4O1szzu"
      },
      "execution_count": null,
      "outputs": []
    },
    {
      "cell_type": "code",
      "source": [
        "#024: Crie um programa que leia o nome de uma cidade diga se ela começa ou não com o nome \"SANTO\".\n",
        "\n",
        "cidade = str(input('Digite o nome da cidade: ')).upper()\n",
        "if cidade.split()[0] == 'SANTO':\n",
        "  print('A cidade começa com o nome SANTO ')\n",
        "else:\n",
        "   print('A cidade não começa com o nome SANTO') \n",
        "\n"
      ],
      "metadata": {
        "id": "iBDdILJ5u7SN"
      },
      "execution_count": null,
      "outputs": []
    },
    {
      "cell_type": "code",
      "source": [
        "#Exercício Python 24: Crie um programa que leia o nome de uma cidade diga se ela começa ou não com o nome “SANTO”.\n",
        "\n",
        "c = str(input('Digite o nome da sua cidade: ')).strip()\n",
        "v = c.split()[0].upper() == 'SANTO'\n",
        "print(f'A cidade digitada {c}\\n e para santo {v}')\n"
      ],
      "metadata": {
        "id": "nsG9iRQ1qn0V"
      },
      "execution_count": null,
      "outputs": []
    },
    {
      "cell_type": "code",
      "source": [
        "cidade = input(\"Digite o nome da cidade: \")\n",
        "\n",
        "if cidade.upper().startswith(\"SANTO\"):\n",
        "    print(\"O nome da cidade começa com SANTO\")\n",
        "else:\n",
        "    print(\"O nome da cidade não começa com SANTO\")"
      ],
      "metadata": {
        "id": "kc2dBy5IwtIc"
      },
      "execution_count": null,
      "outputs": []
    },
    {
      "cell_type": "code",
      "source": [
        "#025: Crie um programa que leia o nome de uma pessoa e diga se ela tem \"SILVA\" no nome.\n",
        "\n",
        "name = str(input('Digite seu nome completo: ')).upper()\n",
        "\n",
        "if name.find('SILVA') != -1:\n",
        "  print(f'O nome {name} tem SILVA')\n",
        "else:\n",
        "  print(f'O nome {name} não tem SILVA') "
      ],
      "metadata": {
        "id": "LSp19bUFzgiz"
      },
      "execution_count": null,
      "outputs": []
    },
    {
      "cell_type": "code",
      "source": [
        "#025: Crie um programa que leia o nome de uma pessoa e diga se ela tem \"SILVA\" no nome.\n",
        "\n",
        "name = str(input('Digite seu nome completo: ')).upper()\n",
        "\n",
        "if 'SILVA' in name:\n",
        "  print(f'O nome {name} tem SILVA')\n",
        "else:\n",
        "  print(f'O nome {name} não tem SILVA') "
      ],
      "metadata": {
        "id": "AvdYdZTc1x_U"
      },
      "execution_count": null,
      "outputs": []
    },
    {
      "cell_type": "code",
      "source": [
        "n = str(input(\"Digite seu nome completo: \")).strip()\n",
        "print(f'Existe \"Silva\" no seu nome? { \"SILVA\" in n.upper() }')"
      ],
      "metadata": {
        "id": "nBAK7i4vtkhY"
      },
      "execution_count": null,
      "outputs": []
    },
    {
      "cell_type": "code",
      "source": [
        "#026: Faça um programa que leia uma frase pelo teclado e mostre quantas \n",
        "#vezes aparece a letra \"A\", em que posição ela aparece a primeira vez e em que posição ela aparece a última vez.\n",
        "palavra = str(input('Digite uma frase: ')).upper()\n",
        "\n",
        "rep = palavra.count('A')\n",
        "primeira = palavra.find('A')\n",
        "ultima = palavra.rfind('A')\n",
        "\n",
        "print(f'A frase {palavra} tem a letra \"A\" {rep} vezes\\n a primeira posição é em {primeira}\\n e a ultima posição é em {ultima}\\n')\n"
      ],
      "metadata": {
        "id": "6QWeFDft2EFK"
      },
      "execution_count": null,
      "outputs": []
    },
    {
      "cell_type": "code",
      "source": [
        "#027: Faça um programa que leia o nome completo de uma pessoa, mostrando em seguida o primeiro e o último nome separadamente.\n",
        "nome_completo = str(input('Digite seu nome completo: '))\n",
        "lista = nome_completo.split()\n",
        "\n",
        "primeiro_nome = lista[0]\n",
        "\n",
        "ultimo_nome = lista[-1]\n",
        "\n",
        "print(f'O primeiro nome de {nome_completo}\\n é {primeiro_nome}\\n e o último nome é {ultimo_nome}\\n ')\n"
      ],
      "metadata": {
        "id": "YwEWimoT3gD7"
      },
      "execution_count": null,
      "outputs": []
    },
    {
      "cell_type": "markdown",
      "source": [
        "MÓDULO 10"
      ],
      "metadata": {
        "id": "2DoTTwxzwf4j"
      }
    },
    {
      "cell_type": "code",
      "source": [
        "n = str(input('Digite seu nome: ')).upper()\n",
        "if n == 'DAVI':\n",
        "  print(f'Seja bem vindo {n}')\n",
        "else:\n",
        "  print('Usuario não autorizado')  \n",
        "print('Sessão Finalizada')  "
      ],
      "metadata": {
        "id": "8j2ThXNHwjr9"
      },
      "execution_count": null,
      "outputs": []
    },
    {
      "cell_type": "code",
      "source": [
        "print('Seja Bem vindo digite seu nome e senha')\n",
        "n = str(input('Digite seu nome: ')).upper()\n",
        "s = int(input('Digite sua senha: '))\n",
        "if n == 'DAVI' and s == 123:\n",
        "    print('Seja bem vindo ao sistema de notas')\n",
        "    nota1 = float(input('Digite a primeira nota: '))\n",
        "    nota2 = float(input('Digite a segunda nota: '))\n",
        "    media = (nota1+nota2)/2\n",
        "    if media >= 6.0:\n",
        "      print(f'Parabéns aluno aprovado com média {media}')\n",
        "    else:\n",
        "        print('Aluno em recuperação')\n",
        "else:\n",
        "  print('Usuário não registrado e senha inválida')\n",
        "print('FIM DO PROGRAMA')          \n"
      ],
      "metadata": {
        "id": "cWALQ9g_yV4j"
      },
      "execution_count": null,
      "outputs": []
    },
    {
      "cell_type": "code",
      "source": [
        "#exercício 28 gerar um numero aleatorio e verificar se o numero digitado e o correto\n",
        "import random\n",
        "from time import sleep\n",
        "print('- \\u2620 -'*20)\n",
        "print('Pensei em um número: ? ')\n",
        "print('- \\u2620 -'*20)\n",
        "sorteio = random.randint(0,5)\n",
        "n = int(input('Digite um numero entre 0 e 5 e veja se voce advinhou o numero que pensei: '))\n",
        "print('Processando...')\n",
        "sleep(4)\n",
        "if n == sorteio:\n",
        "  print('Parabéns você acertou \\U0001F973!!')\n",
        "else:\n",
        "  print(f'Não foi dessa vez ótario {sorteio} \\U0001F921!')  \n"
      ],
      "metadata": {
        "id": "LCYdw2A31dS6"
      },
      "execution_count": null,
      "outputs": []
    },
    {
      "cell_type": "code",
      "source": [
        "#29 Radar eletrônico\n",
        "print('Qual a velocidade atual do seu veículo: ')\n",
        "v = int(input('Digite a velocidade atual: '))\n",
        "multa = (v - 80)*7\n",
        "vat = v - 80\n",
        "\n",
        "if v > 80:\n",
        "   print(f'A sua velocidade de {v}Km/h você esta acima do limite de velocidadee em {vat}km/h \\U0001F480 e isso gerou uma multa de R${multa:.2f} \\U0001F973!! ')\n",
        "   \n",
        "else:\n",
        "  print('Você está no limite correto de velocidade da via' )  "
      ],
      "metadata": {
        "id": "vPLwPZtl7c0r"
      },
      "execution_count": null,
      "outputs": []
    },
    {
      "cell_type": "code",
      "source": [
        "# 30 par ou ímpar\n",
        "\n",
        "p = int(input('Digite um número inteiro: '))\n",
        "\n",
        "if p % 2 == 0 :\n",
        "  print('O numero é PAR')\n",
        "\n",
        "else:\n",
        "  print('O número e ímpar')  \n"
      ],
      "metadata": {
        "id": "V_qZR4kG6vta"
      },
      "execution_count": null,
      "outputs": []
    },
    {
      "cell_type": "code",
      "source": [
        "#31\n",
        "#custo da passagem da viajem\n",
        "\n",
        "km = float(input('Digite a distancia em KM da viajem: '))\n",
        "\n",
        "if km <= 200:\n",
        "  custo = km * 0.50\n",
        "else:\n",
        "   custo = km * 0.45 \n",
        "   \n",
        "print(f'O valor da passagem de {km}Km é de R${custo}')\n",
        "\n"
      ],
      "metadata": {
        "id": "hUJJEFGX_ccw"
      },
      "execution_count": null,
      "outputs": []
    },
    {
      "cell_type": "code",
      "source": [
        "#32 Verificar se o ano e Bissexto\n",
        "from datetime import date\n",
        "ano = int(input('Digite o ano:   ou 0 para verificar o ano atual'))\n",
        "\n",
        "if ano == 0:\n",
        "  ano = date.today().year\n",
        "\n",
        "if ano % 4 == 0 and (ano % 100 != 0 or ano % 400 == 0):\n",
        "  print(f'O ano {ano} é Bissexto')\n",
        "\n",
        "else:\n",
        "  print(f'O ano {ano} não é Bissexto')  \n"
      ],
      "metadata": {
        "id": "ZF90bYZlCR16",
        "colab": {
          "base_uri": "https://localhost:8080/"
        },
        "outputId": "af746108-06ef-4547-8b73-3f0e64077f46"
      },
      "execution_count": null,
      "outputs": [
        {
          "output_type": "stream",
          "name": "stdout",
          "text": [
            "Digite o ano:   ou 0 para verificar o ano atual2023\n",
            "O ano 2023 não é Bissexto\n"
          ]
        }
      ]
    },
    {
      "cell_type": "code",
      "source": [
        "# 33 maior ou menor número dentre 3\n",
        "\n",
        "n1 = int(input('Digite um número: '))\n",
        "n2 = int(input('Digite número 2: '))\n",
        "n3 = int(input('Digite o número 3: '))\n",
        "\n",
        "if n1 > n2 and n1 > n3:\n",
        "  print(f'O numero {n1} é maior')\n",
        "  \n",
        "elif n2 > n1 and n2 > n3:\n",
        "  print(f'O número {n2} é maior')\n",
        "\n",
        "else:\n",
        "  print(f'O numero {n3} é maior')\n",
        "\n",
        "if n1 < n2 and n1 < n3:\n",
        "  print(f'O número {n1} é menor')\n",
        "\n",
        "elif n2 < n1 and n2 < n3:\n",
        "   print(f'O número {n2} é menor') \n",
        "\n",
        "else:\n",
        "  print(f'O número {n3} é menor')       "
      ],
      "metadata": {
        "id": "PZOBYI9mElU5"
      },
      "execution_count": null,
      "outputs": []
    },
    {
      "cell_type": "code",
      "source": [
        "# 34 cálculo de sálario\n",
        "\n",
        "print('m =====Bem vindo ao sistema de Cálculo de salário=====')\n",
        "\n",
        "s = float(input('Digite o valor atual do salário do funcionário R$'))\n",
        "\n",
        "if s <= 1250.00:\n",
        "  ns = s + ((s*15)/100)\n",
        "else:\n",
        "  ns = s + ((s*10 )/ 100)  \n",
        "print(f'O novo salário é de R${ns}')"
      ],
      "metadata": {
        "id": "SvjCWcwqIf5B"
      },
      "execution_count": null,
      "outputs": []
    },
    {
      "cell_type": "code",
      "source": [
        "#35 formando um triângulo\n",
        "!pip install colorama\n",
        "import matplotlib.pyplot as plt\n",
        "from time import sleep\n",
        "import colorama\n",
        "from colorama import Fore\n",
        "\n",
        "a = float(input('Digite uma valor para a primeira reta : '))\n",
        "b = float(input('Digite uma valor para a segunda reta : '))\n",
        "c = float(input('Digite uma valor para a terceira reta : '))\n",
        "\n",
        "if a < b + c and b < a + c and c < a + b:\n",
        "  # Calcula as coordenadas dos três vértices do triângulo\n",
        "  x1, y1 = 0, 0\n",
        "  x2, y2 = c, 0\n",
        "  x3 = (a**2 - b**2 + c**2) / (2 * c)\n",
        "  y3 = (a**2 - x3**2)**0.5\n",
        "\n",
        "  # Plota o triângulo\n",
        "  plt.plot([x1, x2, x3, x1], [y1, y2, y3, y1])\n",
        "\n",
        "\n",
        "  print('Processando...')\n",
        "  sleep(2)\n",
        "\n",
        "  #if a == b == c:\n",
        "   #print('Triângulo equilátero')\n",
        "   #print('Processando...')\n",
        "   #sleep(2)\n",
        "   #plt.show()\n",
        "\n",
        "  #elif a == b and a != c or a == c and a != b or b == c and b != a:\n",
        "  # print('Triângulo isosceles')  \n",
        "  # print('Processando...')\n",
        "  # sleep(2)\n",
        "  # plt.show()\n",
        "\n",
        "  #else:\n",
        "  # print('Triangulo escaleno')\n",
        "  # print('Processando...')\n",
        "  # sleep(2)\n",
        "  # plt.show()  \n",
        "\n",
        "  print('Podemos formar um triangulo ')\n",
        "  plt.show()\n",
        "\n",
        "else:\n",
        " print(Fore.RED + 'Não é possivel fazer um \\u25B2' + Fore.RESET)"
      ],
      "metadata": {
        "id": "j2063oSeLj4e"
      },
      "execution_count": null,
      "outputs": []
    },
    {
      "cell_type": "markdown",
      "source": [
        "MUNDO 2 Aulas em vídeo"
      ],
      "metadata": {
        "id": "2mSIm-ww94eu"
      }
    },
    {
      "cell_type": "code",
      "source": [
        "#36 - Calculando emprestimo de uma casa\n",
        "casa = float(input('Digite o valor do imovél R$ '))\n",
        "tempo = int(input('Digite o numeros de parcelas em meses: '))\n",
        "salario = float(input('Digite o valor do seu salário R$ '))\n",
        "\n",
        "prestação = casa / tempo\n",
        "\n",
        "salario_novo = salario * 0.3\n",
        "\n",
        "if prestação <= salario_novo:\n",
        "   print('emprestimo aceito') \n",
        "\n",
        "   print(f'O Valor das Parcelas a serem pagas em {tempo} Meses é de R${prestação:.2f} ao Mês')\n",
        "\n",
        "\n",
        "else:\n",
        "  print(f'Empréstimo negado o valor da presção R${prestação:.2f} excede o valor de 30% do seu salário')\n",
        "  "
      ],
      "metadata": {
        "colab": {
          "base_uri": "https://localhost:8080/"
        },
        "id": "NykjDOIV98fI",
        "outputId": "79bb20e9-39e7-40cd-e0ae-51ce46705c0a"
      },
      "execution_count": null,
      "outputs": [
        {
          "output_type": "stream",
          "name": "stdout",
          "text": [
            "Digite o valor do imovél R$ 150000\n",
            "Digite o numeros de parcelas em meses: 60\n",
            "Digite o valor do seu salário R$ 12000\n",
            "emprestimo aceito\n",
            "O Valor das Parcelas a serem pagas em 60 Meses é de R$2500.00 ao Mês\n"
          ]
        }
      ]
    },
    {
      "cell_type": "code",
      "source": [
        "casa = float(input('\\033[35mQual o valor da casa\\033[m? '))\n",
        "salário = float(input('\\033[36mQual é o seu salário\\033[m? '))\n",
        "anos = float(input('\\033[32mEm quantos anos você vai pagar\\033[m? '))\n",
        "prestação = casa / (anos * 12)\n",
        "\n",
        "print('-=-' * 20)\n",
        "if salário * 0.30 >= prestação:\n",
        "    print('\\033[4mParabéns, seu financiamento foi aprovado\\033[m!!!')\n",
        "else:\n",
        "    print('\\033[4mDesculpe, mas seu financiamento foi negado\\033[m')"
      ],
      "metadata": {
        "id": "w4VTUIFUYwQL"
      },
      "execution_count": null,
      "outputs": []
    },
    {
      "cell_type": "code",
      "source": [
        "#37 - Transforme um numero em binario, octal e hexadecimal\n",
        "\n",
        "n = int(input('\\033[33m Digite um número inteiro: ' ))\n",
        "\n",
        "opção = int(input('''\\033[34m\n",
        "[1] para binário \n",
        "[2] para octal \n",
        "[3] para hexadecimal \\n'''))\n",
        "\n",
        "if opção == 1 :\n",
        "  binario = bin(n)\n",
        "  print(f'\\033[33m O numero {n} em Binario é {binario[2:]}')\n",
        "elif opção == 2: \n",
        "  octal = oct(n)\n",
        "  print(f'\\033[33m O número {n} em octal é de {octal[2:]}')\n",
        "elif opção == 3:\n",
        "  hexa = hex(n)\n",
        "  print(f'\\033[33m O número {n} em hexadecimal é de {hexa[2:]}')\n",
        "\n",
        "else:\n",
        "   print('Número inválido!') \n"
      ],
      "metadata": {
        "id": "P2H64jWJdn6T",
        "colab": {
          "base_uri": "https://localhost:8080/"
        },
        "outputId": "3fb3366b-b719-4367-b75f-a6cce3bc3fdd"
      },
      "execution_count": null,
      "outputs": [
        {
          "output_type": "stream",
          "name": "stdout",
          "text": [
            "\u001b[33m Digite um número inteiro: 22\n",
            "\u001b[34m\n",
            "[1] para binário \n",
            "[2] para octal \n",
            "[3] para hexadecimal \n",
            "3\n",
            "\u001b[33m O número 22 em hexadecimal é de 16\n"
          ]
        }
      ]
    },
    {
      "cell_type": "code",
      "source": [
        "n1 = int(input('Digite o primeiro numero: '))\n",
        "n2 = int(input('Digite o segundo numero: '))\n",
        "\n",
        "if n1 > n2:\n",
        "  print(f'O primeiro número digitado e Maior')\n",
        "\n",
        "elif n2 > n1:\n",
        "  print('O segundo numero digitado e Maior')  \n",
        "\n",
        "else:\n",
        "  print('Os Numeros são iguais ')\n"
      ],
      "metadata": {
        "id": "aBrXZ06SogOR",
        "colab": {
          "base_uri": "https://localhost:8080/"
        },
        "outputId": "663cd3c4-7059-4f59-925d-5b41a1159bc9"
      },
      "execution_count": null,
      "outputs": [
        {
          "output_type": "stream",
          "name": "stdout",
          "text": [
            "Digite o primeiro numero: 2\n",
            "Digite o segundo numero: 2\n",
            "Os Numeros são iguais \n"
          ]
        }
      ]
    },
    {
      "cell_type": "code",
      "source": [
        "\n",
        "from datetime import date #importando a biblioteca datatime\n",
        "\n",
        "#lendo o ano de nascimento do usuario\n",
        "ano_nascimento = int(input('Digite seu ano de nascimento com 4 digitos: '))\n",
        "\n",
        "#selecionando o ano atual\n",
        "ano_atual = date.today().year\n",
        "\n",
        "#calculando a idade da pessoa\n",
        "idade = ano_atual - ano_nascimento\n",
        "\n",
        "#verificando a data digitada\n",
        "if ano_nascimento <= 1900:\n",
        "  print(f'Data {ano_nascimento} inválida')\n",
        "else:  \n",
        "#verificando se a idade e maior de 18 anos e quanto anos passaram do alistamento\n",
        " if idade > 18:\n",
        "  exc = idade - 18 #calculando anos que passaram para se alistar\n",
        "\n",
        "  ano_alistamento = ano_atual - exc #calculando o ano de alistamento\n",
        "\n",
        "  print(f'Você excedeu o limite de alistamento em {exc} anos, seu alistamento foi em {ano_alistamento}')\n",
        "\n",
        "# verificando se a idade e menor de 18 anos e informando os anos que faltam par se alistar  \n",
        " elif idade < 18:\n",
        "\n",
        "  exc = 18 - idade #calculando anos que faltam para se alistar\n",
        "\n",
        "  ano_alistamento = ano_atual + exc #calculando o ano de alistamento\n",
        "\n",
        "  print(f'Voce ainda esta fora do prazo de alistamento sua idade é de {idade} anos, ainda faltam {exc} anos, seu alistamento é em {ano_alistamento}')\n",
        "\n",
        "# se a idade for igual a 18 anos informa que deve se alisatar \n",
        " else:\n",
        "  print('Você está no prazo de alistamento, procure uma unidade militar mais próxima e evite penalidades!')  \n",
        "\n",
        "\n",
        "\n",
        "\n"
      ],
      "metadata": {
        "id": "XL_rC1Vrjva3",
        "colab": {
          "base_uri": "https://localhost:8080/"
        },
        "outputId": "1728cfbe-1cd0-4c02-8899-fca69ed8eb0a"
      },
      "execution_count": null,
      "outputs": [
        {
          "output_type": "stream",
          "name": "stdout",
          "text": [
            "Digite seu ano de nascimento com 4 digitos: 1975\n",
            "Você excedeu o limite de alistamento em 30 anos, seu alistamento foi em 1993\n"
          ]
        }
      ]
    },
    {
      "cell_type": "code",
      "source": [
        "#40 calcue a média e mostre aprovado, em recuperação e reprovado\n",
        "\n",
        "mes = '\\033[36mCácluo de Média do aluno'\n",
        "larg = 130\n",
        "print('\\033[1;33;42m=-=' * 20 + 'Bem vindo' + '=-=' * 20 + '\\033[0m')\n",
        "print(mes.center(larg))\n",
        "print('\\033[33;42m' + '=-=' * 20 + '=-=' * 23 + '\\033[0m')\n",
        "\n",
        "nota1 = float(input('Digite a primeira nota do Aluno: \\n'))\n",
        "\n",
        "nota2 = float(input('Digite a  segunda nota do Aluno: \\n'))\n",
        "\n",
        "media = (nota1 + nota2) / 2\n",
        "\n",
        "if media >= 7.0:\n",
        "  print(f'\\033[32mAluno aprovado! com média  {media:.2f}')\n",
        "\n",
        "elif media >= 5.0 and media <= 6.9:\n",
        "  print(f'\\033[33mAluno está em recuperação com média  {media:.2f}')\n",
        "\n",
        "else:\n",
        "  print(f'\\033[31mAluno está reprovado! com média  {media:.2f}')  \n",
        "\n",
        "\n"
      ],
      "metadata": {
        "id": "-bEC-74pTbvk"
      },
      "execution_count": null,
      "outputs": []
    },
    {
      "cell_type": "code",
      "source": [
        "#41 ler uma data de nascimento e mostrar a categoria dela de acordo com a idade\n",
        "\n",
        "#importando a biblioteca datetime para calcular a idade aatual\n",
        "import datetime\n",
        "\n",
        "#Inserindo o nome da pessoas a ser analisado\n",
        "nome = str(input('Digite o nome da Pessoa: '))\n",
        "\n",
        "#pegando a data de nascimeto da pessoa\n",
        "nascimento = int(input('Digite seu ano de Nascimento com 4 dígitos: '))\n",
        "\n",
        "#verificando a idade atual da pessoa\n",
        "idade = date.today().year - nascimento\n",
        "\n",
        "#Fazendo a verificação das categorias de acordo com a idade\n",
        "\n",
        "if idade <= 9 :\n",
        "  print(f'{nome} você pertence a categoria MIRIM'),\n",
        "\n",
        "elif idade > 9 and idade <= 14:\n",
        "  print(f'{nome} Você pertence a categoria INFANTIL')  \n",
        "\n",
        "elif idade > 14 and idade <= 19:\n",
        "  print(f'{nome} você pertence a categoria JÚNIOR') \n",
        "\n",
        "elif idade == 20:\n",
        "  print(f'{nome} Você pertence a categoria SÊNIOR')\n",
        "\n",
        "else:\n",
        "  print(f'{nome} você pertence a categoria MASTER')\n",
        "\n",
        "                 ##FIM##"
      ],
      "metadata": {
        "id": "_1rnd1HUuwtf"
      },
      "execution_count": null,
      "outputs": []
    },
    {
      "cell_type": "code",
      "source": [
        "#42 Verificando se é possivel construir um triângulo e se for qual seria o triângulo\n",
        "!pip install colorama\n",
        "import matplotlib.pyplot as plt\n",
        "from time import sleep\n",
        "import colorama\n",
        "from colorama import Fore\n",
        "\n",
        "a = float(input('Digite uma valor para a primeira reta : '))\n",
        "b = float(input('Digite uma valor para a segunda reta : '))\n",
        "c = float(input('Digite uma valor para a terceira reta : '))\n",
        "\n",
        "if a < b + c and b < a + c and c < a + b:\n",
        "  # Calcula as coordenadas dos três vértices do triângulo\n",
        "  x1, y1 = 0, 0\n",
        "  x2, y2 = c, 0\n",
        "  x3 = (a**2 - b**2 + c**2) / (2 * c)\n",
        "  y3 = (a**2 - x3**2)**0.5\n",
        "\n",
        "  # Plota o triângulo\n",
        "  plt.plot([x1, x2, x3, x1], [y1, y2, y3, y1])\n",
        "\n",
        "\n",
        "  print('Processando...')\n",
        "  sleep(2)\n",
        "\n",
        "  if a == b == c:\n",
        "   print('Triângulo equilátero')\n",
        "   print('Processando...')\n",
        "   sleep(2)\n",
        "   plt.show()\n",
        "\n",
        "  elif a == b and a != c or a == c and a != b or b == c and b != a:\n",
        "   print('Triângulo isosceles')  \n",
        "   print('Processando...')\n",
        "   sleep(2)\n",
        "   plt.show()\n",
        "\n",
        "  else:\n",
        "   print('Triangulo escaleno')\n",
        "   print('Processando...')\n",
        "   sleep(2)\n",
        "   plt.show()  \n",
        "\n",
        "#print('Podemos formar um triangulo ')\n",
        "#plt.show()\n",
        "\n",
        "else:\n",
        " print(Fore.RED + 'Não é possivel fazer um \\u25B2' + Fore.RESET)"
      ],
      "metadata": {
        "id": "mngO-ryxL27P"
      },
      "execution_count": null,
      "outputs": []
    },
    {
      "cell_type": "code",
      "source": [
        "#43 IMC\n",
        "peso = int(input('Digite seu peso: '))\n",
        "altura = float(input('Digite sua altura: '))\n",
        "alt = pow(altura,2)\n",
        "#mc = peso/alt\n",
        "#print(mc)\n",
        "IMC = peso / alt #(altura * altura)\n",
        "\n",
        "\n",
        "if IMC < 18.5:\n",
        "  print(f'\\033[33mSeu índice de Massa Corporal é de: {IMC:.2f} você está abaixo do Peso Ideal ')\n",
        "\n",
        "elif IMC >= 18.5 and IMC <= 25:\n",
        "  print(f'\\033[34mSeu índice de Massa Corporal é de: {IMC:.2f} você está no Peso Ideal ')\n",
        "\n",
        "elif IMC > 25 and IMC <= 30:\n",
        "  print(f'\\033[35mSeu índice de Massa Corporal é de: {IMC:.2f} você está com sobrePeso ')\n",
        "\n",
        "elif IMC > 30 and IMC <= 40:\n",
        "  print(f'\\033[32mSeu índice de Massa Corporal é de: {IMC:.2f} você está Obeso ') \n",
        "\n",
        "else :\n",
        "  print(f'\\033[33mSeu índice de Massa Corporal é de: {IMC:.2f} você está com obesidade morbida \\U0001F480')\n"
      ],
      "metadata": {
        "id": "IgIQJj_KUXFa"
      },
      "execution_count": null,
      "outputs": []
    },
    {
      "cell_type": "code",
      "source": [
        "#44 Calculando valor a ser pago\n",
        "\n",
        "valor_normal = float(input('Digite o valor do produto R$'))\n",
        "op = int(input('''Escolha a Forma de Pagamento: \n",
        "[1] Á vista ou Cheque\n",
        "[2] Á vista no cartão\n",
        "[3] Até 2x no cartão\n",
        "[4] 3x ou mais parcelas\\n''' ))\n",
        "\n",
        "if op == 1:\n",
        "  dez = ((valor_normal /100)*10)\n",
        "  desconto = valor_normal - ((valor_normal /100)*10)\n",
        "  print(f'Valor a Pagar R${desconto:.2f}\\no valor do desconto foi de R${dez:.2f}')\n",
        "\n",
        "elif op == 2:\n",
        "    cinco = ((valor_normal /100)*5)\n",
        "    desconto = valor_normal - ((valor_normal /100)*5)\n",
        "    print(f'Valor a Pagar R${desconto:.2f}\\n o valor do desconto foi de R${cinco:.2f}')\n",
        "\n",
        "elif op == 3:\n",
        "    p = valor_normal / 2\n",
        "    print(f'O valor a pagar R${valor_normal:.2f}\\n em 2 parcelas de R${p:.2f}')\n",
        "\n",
        "elif op == 4:\n",
        "  j = valor_normal + (valor_normal *20 / 100)\n",
        "  qtd_parcelas = int(input('Informe o Número de Parcelas a partir de 3x '))\n",
        "  valor_parcelas = j / qtd_parcelas\n",
        "  print(f'O valor a pagar R${j:.2f} com juros em {qtd_parcelas}X de {valor_parcelas:.2f}')\n",
        "\n",
        "else:\n",
        "  print('Opção Inválida!')  "
      ],
      "metadata": {
        "id": "PaOf9DmmcxfZ",
        "colab": {
          "base_uri": "https://localhost:8080/"
        },
        "outputId": "b53bf65f-27cb-43b5-e7c4-51bcedeccda6"
      },
      "execution_count": null,
      "outputs": [
        {
          "output_type": "stream",
          "name": "stdout",
          "text": [
            "Digite o valor do produto R$3000\n",
            "Escolha a Forma de Pagamento: \n",
            "[1] Á vista ou Cheque\n",
            "[2] Á vista no cartão\n",
            "[3] Até 2x no cartão\n",
            "[4] 3x ou mais parcelas\n",
            "4\n",
            "Informe o Número de Parcelas a partir de 3x 4\n",
            "O valor a pagar R$3600.00 com juros em 4X de 900.00\n"
          ]
        }
      ]
    },
    {
      "cell_type": "code",
      "source": [
        "import random\n",
        "from time import sleep\n",
        "opçoes = ['Pedra', 'Papel','Tesoura']\n",
        "\n",
        "op = str(input('''Digite:\n",
        "Pedra\n",
        "Papel\n",
        "Tesoura \\n\\n''')).upper()\n",
        "\n",
        "maquina = random.choice(opçoes).upper()\n",
        "print('-==-'*40)\n",
        "print('JO')\n",
        "sleep(1)\n",
        "print('KEN')\n",
        "sleep(1)\n",
        "print('PO')\n",
        "sleep(1)\n",
        "print('-==-'*40)\n",
        "\n",
        "print(f\"Você escolheu: {op}\")\n",
        "print(f\"O computador escolheu: {maquina}\")\n",
        "print('-==-'*40)\n",
        "if op == 'PEDRA' and maquina == 'TESOURA' or op == 'PAPEL' and maquina == 'PEDRA' or op == 'TESOURA' and maquina == 'PAPEL' :\n",
        "  print('Parabéns você Ganhou')\n",
        "\n",
        "elif op == 'PEDRA' and maquina == 'PAPEL' or op == 'PAPEL' and maquina == 'TESOURA' or op == 'TESOURA' and maquina == 'PEDRA':\n",
        "  print('Infelizmente você Perdeu ')\n",
        "\n",
        "elif op == maquina:\n",
        "  print('Houve um empate!') \n",
        "\n",
        "else:\n",
        "  print('Opção inválida')     \n",
        "\n",
        "\n"
      ],
      "metadata": {
        "colab": {
          "base_uri": "https://localhost:8080/"
        },
        "id": "sYjzpUo9itIv",
        "outputId": "d9cddca0-7227-4297-c769-debf7d9176be"
      },
      "execution_count": null,
      "outputs": [
        {
          "output_type": "stream",
          "name": "stdout",
          "text": [
            "Digite:\n",
            "Pedra\n",
            "Papel\n",
            "Tesoura \n",
            "\n",
            "papel\n",
            "-==--==--==--==--==--==--==--==--==--==--==--==--==--==--==--==--==--==--==--==--==--==--==--==--==--==--==--==--==--==--==--==--==--==--==--==--==--==--==--==-\n",
            "JO\n",
            "KEN\n",
            "PO\n",
            "-==--==--==--==--==--==--==--==--==--==--==--==--==--==--==--==--==--==--==--==--==--==--==--==--==--==--==--==--==--==--==--==--==--==--==--==--==--==--==--==-\n",
            "Você escolheu: PAPEL\n",
            "O computador escolheu: TESOURA\n",
            "-==--==--==--==--==--==--==--==--==--==--==--==--==--==--==--==--==--==--==--==--==--==--==--==--==--==--==--==--==--==--==--==--==--==--==--==--==--==--==--==-\n",
            "Infelizmente você Perdeu \n"
          ]
        }
      ]
    },
    {
      "cell_type": "code",
      "source": [
        "for i in range(0,22,2+2):\n",
        "  print(i)\n"
      ],
      "metadata": {
        "colab": {
          "base_uri": "https://localhost:8080/"
        },
        "id": "vY32IiOQrEQf",
        "outputId": "142a0978-553d-4994-f6b4-097a93309fc6"
      },
      "execution_count": null,
      "outputs": [
        {
          "output_type": "stream",
          "name": "stdout",
          "text": [
            "0\n",
            "4\n",
            "8\n",
            "12\n",
            "16\n",
            "20\n"
          ]
        }
      ]
    },
    {
      "cell_type": "code",
      "source": [
        "import random\n",
        "from time import sleep\n",
        "\n",
        "print(10*'-==-==','Bem vindo ao jogo de advinhação','-==-=='*10)\n",
        "sleep(2)\n",
        "\n",
        "while True:\n",
        " \n",
        " print('Pensei em número tente advinhar!!!')\n",
        " pc = random.randint(0,10)\n",
        " sleep(2)\n",
        " \n",
        " try:\n",
        "        numero = int(input('Digite um número de 0 a 10: '))\n",
        " except ValueError:\n",
        "        print('Digite apenas números de 0 a 10.')\n",
        "        continue\n",
        "\n",
        " print('Analisando número digitado AGUARDE!')\n",
        " sleep(2)\n",
        "\n",
        " if numero == pc:\n",
        "  print(f'\\033[32mParabéns você venceu! o número que pensei foi {pc}')\n",
        " else:\n",
        "  print(f'\\033[33mvocê perdeu,o número que pensei foi {pc} tente de novo') \n",
        "\n",
        "  op = str(input('Deseja tentar novamente?\\n S - SIM === N - NÃO\\n ')).upper()\n",
        "  if op == 'S' or op == 'SIM':\n",
        "    print('Recomeçando....')\n",
        "    sleep(2)\n",
        "  else:\n",
        "    print('FIM DO JOGO')\n",
        "    break\n",
        "\n",
        "\n"
      ],
      "metadata": {
        "id": "OHOtZLH410Ht"
      },
      "execution_count": null,
      "outputs": []
    },
    {
      "cell_type": "code",
      "source": [
        "#46 Faça um programa que mostre na tela uma contagem regressiva \n",
        "#para o estouro de fogos de artifício, indo de 10 até 0, com uma pausa de 1 segundo entre eles.\n",
        "from time import sleep\n",
        "for c in range(10,-1,-1):\n",
        "  print(c)\n",
        "  sleep(1)\n",
        "print('-=-==-= FOGOS ESTOURADOS!!!\\U0001F386 -=-==-=')\n",
        "sleep(1)"
      ],
      "metadata": {
        "colab": {
          "base_uri": "https://localhost:8080/"
        },
        "id": "swe_-s3Jhoyt",
        "outputId": "710e2b13-ceb9-4e51-854c-5878685cefc3"
      },
      "execution_count": null,
      "outputs": [
        {
          "output_type": "stream",
          "name": "stdout",
          "text": [
            "10\n",
            "9\n",
            "8\n",
            "7\n",
            "6\n",
            "5\n",
            "4\n",
            "3\n",
            "2\n",
            "1\n",
            "0\n",
            "-=-==-= FOGOS ESTOURADOS!!!🎆 -=-==-=\n"
          ]
        }
      ]
    },
    {
      "cell_type": "code",
      "source": [
        "#sorteando 6 numeros entre 1 e 60\n",
        "import random\n",
        "from time import sleep\n",
        "lista = []\n",
        "for a in range(6):\n",
        "  n =  random.randint(1, 60) #input('Digite um nome ') #int(input('digite um numero ')) \n",
        "  lista.append(n)\n",
        "for n in  lista: #range(100):\n",
        " #print(n, end=' ') \n",
        " #print(n, end=' ')\n",
        " #print(n)\n",
        " #print(n, end=' ')\n",
        " print(n, end=' ')\n",
        " sleep(1)\n",
        "#s = random.randint(lista)\n",
        "\n"
      ],
      "metadata": {
        "id": "wiY7RF9JkjlE"
      },
      "execution_count": null,
      "outputs": []
    },
    {
      "cell_type": "code",
      "source": [
        "#Testando um print de load\n",
        "from time import sleep\n",
        "for a in range(6):\n",
        "  print('.', end='' )\n",
        "  #print('Parabéns', end= ' ')\n",
        "  sleep(1)\n",
        "  "
      ],
      "metadata": {
        "id": "Fz9SgexCX_wY",
        "outputId": "4daf32b6-da49-4d76-c155-5993d8902b2c",
        "colab": {
          "base_uri": "https://localhost:8080/"
        }
      },
      "execution_count": null,
      "outputs": [
        {
          "output_type": "stream",
          "name": "stdout",
          "text": [
            "......"
          ]
        }
      ]
    },
    {
      "cell_type": "code",
      "source": [
        "#47 Mostrar todos os números pares entre 1 e 50\n",
        "from time import sleep\n",
        "for c in range (2,51,2):\n",
        "  sleep(1)\n",
        "  print(c, end = \" - \")\n"
      ],
      "metadata": {
        "colab": {
          "base_uri": "https://localhost:8080/"
        },
        "id": "kFa9rO_LJSvY",
        "outputId": "baf5bae7-d052-4c58-d835-a72828a96920"
      },
      "execution_count": null,
      "outputs": [
        {
          "output_type": "stream",
          "name": "stdout",
          "text": [
            "2 - 4 - 6 - 8 - 10 - 12 - 14 - 16 - 18 - 20 - 22 - 24 - 26 - 28 - 30 - 32 - 34 - 36 - 38 - 40 - 42 - 44 - 46 - 48 - 50 - "
          ]
        }
      ]
    },
    {
      "cell_type": "code",
      "source": [
        "#48 Soma de todos os numeros impares entre 1 e 500\n",
        "soma = 0\n",
        "cont = 0\n",
        "for c in range (1,501,2):\n",
        "  #SOMENTE NUMROS ÍMPARES\n",
        "  #if c % 2 !=0:\n",
        "   #print(c, end = \" - \")\n",
        "  if c % 3 ==0:\n",
        "   #print(f'Os números multiplos de 3 são: {c}')\n",
        "   soma +=  c\n",
        "   cont += 1\n",
        "print(f'A soma dos {cont} números multiplos de 3 é de: {soma}')\n"
      ],
      "metadata": {
        "colab": {
          "base_uri": "https://localhost:8080/"
        },
        "id": "MD-AWYmqQbil",
        "outputId": "d96ba30b-8925-4101-fdc1-528017cf2ca9"
      },
      "execution_count": null,
      "outputs": [
        {
          "output_type": "stream",
          "name": "stdout",
          "text": [
            "A soma dos 83 números multiplos de 3 é de: 20667\n"
          ]
        }
      ]
    },
    {
      "cell_type": "code",
      "source": [
        "for c in range(1,501,2):\n",
        "  if c % 3 == 0:\n",
        "     print(c, end = ' ')\n"
      ],
      "metadata": {
        "colab": {
          "base_uri": "https://localhost:8080/"
        },
        "id": "HSQ43taGuund",
        "outputId": "f6fa34e1-b7d7-4b6d-d0f8-0404dd485976"
      },
      "execution_count": null,
      "outputs": [
        {
          "output_type": "stream",
          "name": "stdout",
          "text": [
            "3 9 15 21 27 33 39 45 51 57 63 69 75 81 87 93 99 105 111 117 123 129 135 141 147 153 159 165 171 177 183 189 195 201 207 213 219 225 231 237 243 249 255 261 267 273 279 285 291 297 303 309 315 321 327 333 339 345 351 357 363 369 375 381 387 393 399 405 411 417 423 429 435 441 447 453 459 465 471 477 483 489 495 "
          ]
        }
      ]
    },
    {
      "cell_type": "code",
      "source": [
        "#49\n",
        "print('Bem vindo a tabuada de um número digitado')\n",
        "n = int(input('Digite um número: '))\n",
        "for i in range(1, 11):\n",
        "    print(f'{n} x {i} = {n*i}')"
      ],
      "metadata": {
        "id": "lAok37V_Xp3F"
      },
      "execution_count": null,
      "outputs": []
    },
    {
      "cell_type": "code",
      "source": [
        "#50 Desenvolva um programa que leia seis \n",
        "#números inteiros e mostre a soma apenas daqueles que forem pares. Se o valor digitado for ímpar, desconsidere-o.\n",
        "\n",
        "\n",
        "n = []\n",
        "soma = 0\n",
        "cont = 0\n",
        "print('Digite seis números inteiros: ')\n",
        "for c in range(1,7):\n",
        " n = int(input((f'Digite o {c}º valor: ')))\n",
        " if n %2 == 0 :\n",
        "  soma += n\n",
        "  cont += 1\n",
        "print(f'A soma dos numeros pares é: {soma} e existem {cont} numeros pares')"
      ],
      "metadata": {
        "colab": {
          "base_uri": "https://localhost:8080/"
        },
        "id": "Lu6O360AYndl",
        "outputId": "91a97814-8d47-436a-8212-18bc92864827"
      },
      "execution_count": null,
      "outputs": [
        {
          "output_type": "stream",
          "name": "stdout",
          "text": [
            "Digite seis números inteiros: \n",
            "Digite o 1º valor: 2\n",
            "Digite o 2º valor: 1\n",
            "Digite o 3º valor: 1\n",
            "Digite o 4º valor: 3\n",
            "Digite o 5º valor: 8\n",
            "Digite o 6º valor: 95\n",
            "A soma dos numeros pares é: 10 e existem 2 numero pares\n"
          ]
        }
      ]
    },
    {
      "cell_type": "code",
      "source": [
        "#51 Desenvolva um programa que leia o primeiro termo e a razão de uma PA. No final, mostre os 10 primeiros termos dessa progressão.\n",
        "a1 = int(input('Digite um termo: '))\n",
        "r = int(input('Digite a razão: '))\n",
        "for c in range(1,11):\n",
        "  an = a1 + (c - 1) * r\n",
        "  print(an, end = \" \")\n"
      ],
      "metadata": {
        "colab": {
          "base_uri": "https://localhost:8080/"
        },
        "id": "4pBjpB0Zb_lm",
        "outputId": "30a0512f-8932-4554-8510-d8e9e5b05cad"
      },
      "execution_count": null,
      "outputs": [
        {
          "output_type": "stream",
          "name": "stdout",
          "text": [
            "Digite um termo: 2\n",
            "Digite a razão: 3\n",
            "2 5 8 11 14 17 20 23 26 29 "
          ]
        }
      ]
    },
    {
      "cell_type": "code",
      "source": [
        "#52 Faça um programa que leia um número inteiro e diga se ele é ou não um número primo.\n",
        "n = int(input('Digite um numero : '))\n",
        "tot=0\n",
        "for c in range(1,n+1):\n",
        "  if n % c == 0:\n",
        "      print('\\33[34m', end =' ')\n",
        "      tot += 1\n",
        "  else:\n",
        "      print('\\33[33m', end = ' ') \n",
        "  print(f'{c}', end = ' ')    \n",
        "print(f'\\n\\033[m O numero {n} foi divisivel {tot} vezes', end = ' ') \n",
        "\n",
        "if tot == 2:\n",
        "  print('O número é primo')\n",
        "else:\n",
        "  print('O número não é primo')  \n",
        "\n",
        "     \n"
      ],
      "metadata": {
        "colab": {
          "base_uri": "https://localhost:8080/"
        },
        "id": "xUv5fT_pgGGO",
        "outputId": "c26c25cd-c8b8-4919-b356-1d5f3ce43319"
      },
      "execution_count": null,
      "outputs": [
        {
          "output_type": "stream",
          "name": "stdout",
          "text": [
            "Digite um numero : 13\n",
            "\u001b[34m 1 \u001b[33m 2 \u001b[33m 3 \u001b[33m 4 \u001b[33m 5 \u001b[33m 6 \u001b[33m 7 \u001b[33m 8 \u001b[33m 9 \u001b[33m 10 \u001b[33m 11 \u001b[33m 12 \u001b[34m 13 \n",
            "\u001b[m O numero 13 foi divisivel 2 vezes O número é primo\n"
          ]
        }
      ]
    },
    {
      "cell_type": "code",
      "source": [
        "# versão avançada Faça um programa que leia um número inteiro e diga se ele é ou não um número primo.\n",
        "\n",
        "def is_prime(n):\n",
        "    if n <= 1:\n",
        "        return False\n",
        "    for i in range(2, int(n**0.5)+1):\n",
        "        if n % i == 0:\n",
        "            return False\n",
        "    return True\n",
        "\n",
        "n = int(input('Digite um número: '))\n",
        "if is_prime(n):\n",
        "    print(f\"{n} é primo.\")\n",
        "else:\n",
        "    print(f\"{n} não é primo.\")"
      ],
      "metadata": {
        "colab": {
          "base_uri": "https://localhost:8080/"
        },
        "id": "mopwLeP8IIBZ",
        "outputId": "8a950223-c559-4207-e7f5-ee7281e9b327"
      },
      "execution_count": null,
      "outputs": [
        {
          "output_type": "stream",
          "name": "stdout",
          "text": [
            "Digite um número: 33\n",
            "33 não é primo.\n"
          ]
        }
      ]
    },
    {
      "cell_type": "code",
      "source": [
        "#53 Crie um programa que leia uma frase qualquer e diga se ela é um palíndromo, desconsiderando os espaços.\n",
        "frase = str(input('Digite uma frase e vamos ver se ela é um PALINDRO: ')).strip().upper()\n",
        "palavra = frase.split()\n",
        "junto = ''.join(palavra)\n",
        "inverso = junto[::-1]\n",
        "#for letra in range (len(junto) - 1, -1, -1):\n",
        " #  inverso += junto[letra]\n",
        "\n",
        "#palavra_reversa = palavra[::-1]\n",
        "if inverso == junto:\n",
        "  print(f'{inverso} é um palindro')\n",
        "else:\n",
        "  print('Não é palindro')  \n",
        "\n"
      ],
      "metadata": {
        "id": "LWuqLLg_ioxN",
        "colab": {
          "base_uri": "https://localhost:8080/"
        },
        "outputId": "eca49f39-b863-4d4e-f405-872ba8335d91"
      },
      "execution_count": null,
      "outputs": [
        {
          "output_type": "stream",
          "name": "stdout",
          "text": [
            "Digite uma frase e vamos ver se ela é um PALINDRO: anotaram a data da maratona\n",
            "ANOTARAMADATADAMARATONA é um palindro\n"
          ]
        }
      ]
    },
    {
      "cell_type": "code",
      "source": [
        "#54 ler 7 idades e diga quantas já são maiores de idade e quantas não são\n",
        "import datetime\n",
        "from datetime import date\n",
        "nascimento = []\n",
        "tot = 0\n",
        "tot2 = 0\n",
        "for i in range (1,8):\n",
        "  nascimento = int(input(f'Digite o {i}º ano de nascimento: '))\n",
        "  idade = date.today().year - nascimento\n",
        "  if idade >= 21:\n",
        "    tot += 1\n",
        "  else:\n",
        "    tot2 += 1\n",
        "\n",
        "\n",
        "print(f'Temos {tot2} pessoas menores de idade é {tot} pessoas maiores de idade')\n",
        "\n",
        " \n"
      ],
      "metadata": {
        "colab": {
          "base_uri": "https://localhost:8080/"
        },
        "id": "niZESxMZkQC0",
        "outputId": "ddb3465a-4106-4708-ecb1-a6cbd565f1ee"
      },
      "execution_count": null,
      "outputs": [
        {
          "output_type": "stream",
          "name": "stdout",
          "text": [
            "Digite o 1º ano de nascimento: 1980\n",
            "Digite o 2º ano de nascimento: 2020\n",
            "Digite o 3º ano de nascimento: 1970\n",
            "Digite o 4º ano de nascimento: 2016\n",
            "Digite o 5º ano de nascimento: 1969\n",
            "Digite o 6º ano de nascimento: 2023\n",
            "Digite o 7º ano de nascimento: 1985\n",
            "Temos 3 pessoas menores é 4 pessoas maiores\n"
          ]
        }
      ]
    },
    {
      "cell_type": "code",
      "source": [
        "#55 leia peso de 5 pessoas e diga o maior peso e o menor peso\n",
        "pesos = []\n",
        "cont = 0\n",
        "cont2 = 0\n",
        "for i in range (1,6):\n",
        "  peso = float(input(f'Digite o {i} peso: '))\n",
        "  pesos.append(peso) \n",
        "  menor_peso = min(pesos)\n",
        "  maior_peso = max(pesos)\n",
        "  #if menor_peso < maior_peso:\n",
        "    #cont += 1\n",
        "  #print(_'Menor peso {menor_peso}')\n",
        "  #else:\n",
        "    #cont2 += 1\n",
        "  #print(f'O maior peso é {maior_peso}')  \n",
        "print(f'O menor peso lido foi {menor_peso}Kg e o maior peso lido foi {maior_peso}Kg')  \n",
        "\n",
        " "
      ],
      "metadata": {
        "id": "go9ma9Kuroz1",
        "colab": {
          "base_uri": "https://localhost:8080/"
        },
        "outputId": "6aa26ee7-3078-4f00-9cd2-ad5a283d9654"
      },
      "execution_count": null,
      "outputs": [
        {
          "output_type": "stream",
          "name": "stdout",
          "text": [
            "Digite o 1 peso: 100\n",
            "Digite o 2 peso: 200\n",
            "Digite o 3 peso: 300\n",
            "Digite o 4 peso: 400\n",
            "Digite o 5 peso: 500\n",
            "O menor peso lido foi 100.0Kg e o maior peso lido foi 500.0Kg\n"
          ]
        }
      ]
    },
    {
      "cell_type": "code",
      "source": [
        "#56 Leia nome idade e sexo de 4 pessoas e mostre a idade media do grupo, o nome do homen mais velho e quantas mulheres tem mais de 20 anos\n",
        "\n",
        "somaidade = 0\n",
        "mediaidade = 0\n",
        "maior_idade_homen = 0\n",
        "nome_do_homen_mais_velho ='Não existe Homens nesta lista '\n",
        "tot20 = 0\n",
        "\n",
        "print('-----= Bem vindo ao cadastro de passageiros =-----\\n')\n",
        "opcao = int(input(' -==-==- Digite quantas pessoas serão cadastradas:   -==-==-  \\n'))\n",
        "\n",
        "\n",
        "\n",
        "for i in range (opcao):\n",
        "\n",
        "   print(f'------{i+1}ª Pessoa------\\n') #coletando os dados\n",
        "\n",
        "   nome = str(input('Nome: ')).strip()\n",
        "   sexo = str(input('Sexo M/F: ')).strip()\n",
        "   idade = int(input('Idade: '))\n",
        "\n",
        "   somaidade += idade #soma todas as idades digitadas\n",
        "\n",
        "   if i == 1 and sexo in 'Mm':\n",
        "      maior_idade_homen = idade\n",
        "      nome_do_homen_mais_velho = nome\n",
        "\n",
        "   elif  sexo in 'Mm' and idade >  maior_idade_homen:\n",
        "      maior_idade_homen = idade\n",
        "      nome_do_homen_mais_velho = nome\n",
        "\n",
        "   elif sexo in 'Ff' and idade < 20:\n",
        "      tot20 += 1    \n",
        "   else:\n",
        "    print('Opção inválida, volte ao menun inicial')\n",
        "  \n",
        "\n",
        "\n",
        "mediaidade = somaidade/opcao\n",
        "\n",
        "print(f'A média de idade do grupo é de : {mediaidade:.2f} anos')\n",
        "print(f'O homen mais velho tem {maior_idade_homen} anos e se chama {nome_do_homen_mais_velho}')\n",
        "print(f'Exitem {tot20} Mulheres menores de 20 anos')\n",
        "\n",
        "\n",
        "  "
      ],
      "metadata": {
        "colab": {
          "base_uri": "https://localhost:8080/"
        },
        "id": "IGUQ_GRpGQFy",
        "outputId": "85302211-ff67-44db-85df-0ef9e7cba24e"
      },
      "execution_count": null,
      "outputs": [
        {
          "output_type": "stream",
          "name": "stdout",
          "text": [
            "-----= Bem vindo ao cadastro de passageiros =-----\n",
            "\n",
            " -==-==- Digite quantas pessoas serão cadastradas:   -==-==-  \n",
            "2\n",
            "------1ª Pessoa------\n",
            "\n",
            "Nome: jose\n",
            "Sexo M/F: m\n",
            "Idade: 35\n",
            "------2ª Pessoa------\n",
            "\n",
            "Nome: msrio\n",
            "Sexo M/F: m\n",
            "Idade: 75\n",
            "A média de idade do grupo é de : 55.00 anos\n",
            "O homen mais velho tem 75 anos e se chama msrio\n",
            "Exitem 0 Mulheres menores de 20 anos\n"
          ]
        }
      ]
    },
    {
      "cell_type": "code",
      "source": [
        "#57 leia o sexo e só aceite F ou M se estiver errado pergunte de novo\n",
        "\n",
        "while True:\n",
        "  sexo = str(input('Digite o sexo: F ou M ')).strip().upper() [0]\n",
        "\n",
        "  if sexo == 'M' or sexo == 'F':\n",
        "    print('Sexo inserido com sucesso')\n",
        "    break\n",
        "     \n",
        "  else:\n",
        "    print('Digite o sexo novamente, sexo inválido ')\n",
        "    continue\n"
      ],
      "metadata": {
        "colab": {
          "base_uri": "https://localhost:8080/"
        },
        "id": "zh5EiXyPq_L8",
        "outputId": "6daeea05-6307-48d4-e6c8-0e7efcd51874"
      },
      "execution_count": null,
      "outputs": [
        {
          "output_type": "stream",
          "name": "stdout",
          "text": [
            "Digite o sexo: F ou M a\n",
            "Digite o sexo novamente em Maisculo \n",
            "Digite o sexo: F ou M b\n",
            "Digite o sexo novamente em Maisculo \n",
            "Digite o sexo: F ou M F\n",
            "Sexo inserido com sucesso\n"
          ]
        }
      ]
    },
    {
      "cell_type": "code",
      "source": [
        "#57 alternativa sem if else\n",
        "sexo = str(input('Digite o sexo: F ou M ')).strip().upper() [0]\n",
        "while sexo not in  'MmFf':\n",
        "  sexo = str(input('Digite o sexo novamente: F ou M ')).strip().upper() [0]\n",
        "\n",
        "print('Sexo inserido com sucesso')"
      ],
      "metadata": {
        "colab": {
          "base_uri": "https://localhost:8080/"
        },
        "id": "1JwzOOeWmnDS",
        "outputId": "8b8b6a11-c392-4e3d-85fc-4513127f2d0f"
      },
      "execution_count": null,
      "outputs": [
        {
          "output_type": "stream",
          "name": "stdout",
          "text": [
            "Digite o sexo: F ou M 2\n",
            "Digite o sexo novamente: F ou M s\n",
            "Digite o sexo novamente: F ou M d\n",
            "Digite o sexo novamente: F ou M m\n",
            "Sexo inserido com sucesso\n"
          ]
        }
      ]
    },
    {
      "cell_type": "code",
      "source": [
        "#58 Avaliando numero\n",
        "\n",
        "import random\n",
        "from time import sleep\n",
        "print('- \\u2620 -'*20)\n",
        "print('Pensei em um número: ? ')\n",
        "print('- \\u2620 -'*20)\n",
        "\n",
        "sorteio = random.randint(0,10)\n",
        "\n",
        "cont = 0\n",
        "while True:\n",
        "  n = int(input('Digite um numero entre 0 e 10 e veja se voce advinhou o numero que pensei: '))\n",
        "  print('Processando...')\n",
        "  sleep(2)\n",
        "  cont += 1\n",
        "  if n == sorteio:\n",
        "     print('Parabéns você acertou \\U0001F973!!')\n",
        "     break\n",
        "  else:\n",
        "     print(f'Não foi dessa vez ótario \\U0001F921!') \n",
        "     continue\n",
        "     \n",
        "print(f'Voce tentou acertar {cont} vezes')     \n"
      ],
      "metadata": {
        "colab": {
          "base_uri": "https://localhost:8080/"
        },
        "id": "-p0cQrvzwSoQ",
        "outputId": "2285e841-33e0-4799-e6db-6255845c0844"
      },
      "execution_count": null,
      "outputs": [
        {
          "output_type": "stream",
          "name": "stdout",
          "text": [
            "- ☠ -- ☠ -- ☠ -- ☠ -- ☠ -- ☠ -- ☠ -- ☠ -- ☠ -- ☠ -- ☠ -- ☠ -- ☠ -- ☠ -- ☠ -- ☠ -- ☠ -- ☠ -- ☠ -- ☠ -\n",
            "Pensei em um número: ? \n",
            "- ☠ -- ☠ -- ☠ -- ☠ -- ☠ -- ☠ -- ☠ -- ☠ -- ☠ -- ☠ -- ☠ -- ☠ -- ☠ -- ☠ -- ☠ -- ☠ -- ☠ -- ☠ -- ☠ -- ☠ -\n",
            "Digite um numero entre 0 e 10 e veja se voce advinhou o numero que pensei: 10\n",
            "Processando...\n",
            "Não foi dessa vez ótario 🤡!\n",
            "Digite um numero entre 0 e 10 e veja se voce advinhou o numero que pensei: 1\n",
            "Processando...\n",
            "Não foi dessa vez ótario 🤡!\n",
            "Digite um numero entre 0 e 10 e veja se voce advinhou o numero que pensei: 0\n",
            "Processando...\n",
            "Parabéns você acertou 🥳!!\n",
            "Voce tentou acertar 3 vezes\n"
          ]
        }
      ]
    },
    {
      "cell_type": "code",
      "source": [
        ",#59 menu de calculos\n",
        "from time import sleep\n",
        "\n",
        "print(5*'-=-','Menu de Opçõea ', '-=-'*5)\n",
        "\n",
        "print('Digites dois valores abaixo: ')\n",
        "sleep(1)\n",
        "numero1 = int(input('Digite um valor\\n '))\n",
        "sleep(1)\n",
        "print('Número digitado com sucesso...')\n",
        "sleep(1)\n",
        "numero2 = int(input('Digite outro valor\\n '))\n",
        "sleep(1)\n",
        "print('Número digitado com sucesso...')\n",
        "sleep(1)\n",
        "print('Processando informações, abrindo Menu de Opções')\n",
        "sleep(2)\n",
        "\n",
        "while True:\n",
        "\n",
        "  op = int(input('Menu de Opções:\\n 1 -Somar\\n 2 - Multiplica\\n 3 - Maior Numero\\n 4 - Outros valores \\n5 - Sair\\n '))\n",
        "  print('Processando informações aguarde')\n",
        "  sleep(2)\n",
        "\n",
        "  if op == 1:\n",
        "     somar = numero1 + numero2\n",
        "     print('calculando soma')\n",
        "     sleep(1)\n",
        "     print(f'A soma foi de: {somar}')\n",
        "     continue\n",
        "\n",
        "  elif op == 2:\n",
        "     mult = numero1 * numero2\n",
        "     print('calculando a Multiplicação')\n",
        "     sleep(1)\n",
        "     print(f'A multiplicação é: {mult}')\n",
        "     continue\n",
        "\n",
        "  elif op == 3:\n",
        "    if numero1 == numero2:\n",
        "      print('Verificando números digitados aguarde...')\n",
        "      sleep(1)\n",
        "      print('Os números são iguais')\n",
        "      continue\n",
        "    num = max(numero1,numero2)\n",
        "    print('Verificando o maior número digitado aguarde...')\n",
        "    sleep(1)\n",
        "    print(f'O maior número é: {num}')\n",
        "    continue\n",
        "\n",
        "  elif op ==  4: \n",
        "      print('Digite novos valores: ')\n",
        "      sleep(1)\n",
        "      numero1 = int(input('Digite um valor novamente '))\n",
        "      numero2 = int(input('Digite outro valor novamente '))\n",
        "      print('Processando dados aguarde...')\n",
        "      sleep(1)\n",
        "      continue\n",
        "\n",
        "  elif op ==  5:\n",
        "      print('Saindo do programa,obrigado por usar nosso sistema')\n",
        "      break \n",
        "\n",
        "  else:\n",
        "      print('Opção inválida, tente novamente')\n",
        "      sleep(1)\n",
        "      continue  \n",
        "       \n",
        "\n",
        "\n",
        "\n",
        "\n"
      ],
      "metadata": {
        "colab": {
          "base_uri": "https://localhost:8080/"
        },
        "id": "aroJzZXm18bo",
        "outputId": "dbd3887a-5668-47d4-fb60-bf9303ccb2da"
      },
      "execution_count": null,
      "outputs": [
        {
          "output_type": "stream",
          "name": "stdout",
          "text": [
            "-=--=--=--=--=- Menu de Opçõea  -=--=--=--=--=-\n",
            "Digites dois valores abaixo: \n",
            "Digite um valor\n",
            " 10\n",
            "Número digiado com sucesso...\n",
            "Digite outro valor\n",
            " 15\n",
            "Número digiado com sucesso...\n",
            "Processando informações, abrindo Menu de Opções\n",
            "Menu de Opções:\n",
            " 1 -Somar\n",
            " 2 - Multiplica\n",
            " 3 - Maior Numero\n",
            " 4 - Outros valores \n",
            "5 - Sair\n",
            " 1\n",
            "Processando informações aguarde\n",
            "calculando soma\n",
            "A soma foi de: 25\n",
            "Menu de Opções:\n",
            " 1 -Somar\n",
            " 2 - Multiplica\n",
            " 3 - Maior Numero\n",
            " 4 - Outros valores \n",
            "5 - Sair\n",
            " 3\n",
            "Processando informações aguarde\n",
            "Verificando o maior número digitado aguarde...\n",
            "O maior número é: 15\n",
            "Menu de Opções:\n",
            " 1 -Somar\n",
            " 2 - Multiplica\n",
            " 3 - Maior Numero\n",
            " 4 - Outros valores \n",
            "5 - Sair\n",
            " 2\n",
            "Processando informações aguarde\n",
            "calculando a Multiplicação\n",
            "A multiplicação é: 150\n",
            "Menu de Opções:\n",
            " 1 -Somar\n",
            " 2 - Multiplica\n",
            " 3 - Maior Numero\n",
            " 4 - Outros valores \n",
            "5 - Sair\n",
            " 5\n",
            "Processando informações aguarde\n",
            "Saindo do programa,obrigado por usar nosso sistema\n"
          ]
        }
      ]
    },
    {
      "cell_type": "code",
      "source": [
        "#60 fatorial WHILE\n",
        "\n",
        "n = int(input('Digite um valor para calcular o fatorial '))\n",
        "c = n\n",
        "fat = 1\n",
        "print(f'Calculando Fatorial {n}! = ', end='')\n",
        "while c > 0:\n",
        "  print(f'{c}', end='')\n",
        "  print(f' X ' if c > 1 else ' = ', end='')\n",
        "  fat *= c\n",
        "  c -= 1\n",
        "print(f'{fat}')   \n",
        "  \n"
      ],
      "metadata": {
        "id": "hHq9mXXhNZme",
        "outputId": "88e091e8-72ac-4fa1-c9a8-a56484847634",
        "colab": {
          "base_uri": "https://localhost:8080/"
        }
      },
      "execution_count": null,
      "outputs": [
        {
          "output_type": "stream",
          "name": "stdout",
          "text": [
            "Digite um valor para calcular o fatorial 5\n",
            "Calculando Fatorial 5! = 5 X 4 X 3 X 2 X 1 = 120\n"
          ]
        }
      ]
    },
    {
      "cell_type": "code",
      "source": [
        "#fatorial opção 2 FUNCTION \n",
        "from  math import factorial\n",
        "f = 0\n",
        "n = int(input('Digite um número e veja seu fatorial: '))\n",
        "f = factorial(n)\n",
        "print(f'O fatorial de {n} é: {f}')"
      ],
      "metadata": {
        "colab": {
          "base_uri": "https://localhost:8080/"
        },
        "id": "SYKpGfGaRWEg",
        "outputId": "1f0ee530-f767-432c-8e92-f3475b47f08b"
      },
      "execution_count": null,
      "outputs": [
        {
          "output_type": "stream",
          "name": "stdout",
          "text": [
            "Digite um número e veja seu fatorial: \n",
            "5\n",
            "O fatorial de 5 é: 120\n"
          ]
        }
      ]
    },
    {
      "cell_type": "code",
      "source": [
        "#fatorial opção 3 FOR\n",
        "\n",
        "n = int(input('Digite um número e veja seu fatorial: \\n'))\n",
        "f = 1\n",
        "for i in range(1, n+1):\n",
        "    print(f'{i}', end='')\n",
        "    if i < n:\n",
        "        print(' X ', end='')\n",
        "    else:\n",
        "        print(' = ', end='')\n",
        "    f *= i\n",
        "print(f)\n"
      ],
      "metadata": {
        "colab": {
          "base_uri": "https://localhost:8080/"
        },
        "id": "swJ88IhbXKvK",
        "outputId": "b5a4a305-51ab-40f6-ea6d-ada49a7035fa"
      },
      "execution_count": null,
      "outputs": [
        {
          "output_type": "stream",
          "name": "stdout",
          "text": [
            "Digite um número e veja seu fatorial: \n",
            "5\n",
            "1 X 2 X 3 X 4 X 5 = 120\n"
          ]
        }
      ]
    },
    {
      "cell_type": "code",
      "source": [
        "#61 calculando PA com WHILE\n",
        "\n",
        "termo = int(input('Digite um termo: '))\n",
        "razao = int(input('Digite a razão: '))\n",
        "c = 1 \n",
        "while c <= 10 :\n",
        "  print(termo, end = \" \")\n",
        "  termo += razao\n",
        "  c += 1\n",
        "  \n"
      ],
      "metadata": {
        "colab": {
          "base_uri": "https://localhost:8080/"
        },
        "id": "pVArcwhxL6DR",
        "outputId": "219db294-2d45-4959-b99f-d0017a491227"
      },
      "execution_count": null,
      "outputs": [
        {
          "output_type": "stream",
          "name": "stdout",
          "text": [
            "Digite um termo: 5\n",
            "Digite a razão: 3\n",
            "5 8 11 14 17 20 23 26 29 32 "
          ]
        }
      ]
    },
    {
      "cell_type": "code",
      "source": [
        "#62 quantos termos usuario quer ver\n",
        "\n",
        "c = 1 \n",
        "termo = int(input('Digite um termo: '))\n",
        "razao = int(input('Digite a razão: '))\n",
        "termos = int(input('Digite quantos termos voce quer ver: '))\n",
        "\n",
        "\n",
        "while c <= termos :\n",
        "  print(termo, end = \" \")\n",
        "  termo = razao + termo\n",
        "  c += 1\n"
      ],
      "metadata": {
        "id": "KI6qXE-yQz8y",
        "outputId": "f337d731-fdfd-4c97-f2b6-c7a24bdd948f",
        "colab": {
          "base_uri": "https://localhost:8080/"
        }
      },
      "execution_count": null,
      "outputs": [
        {
          "output_type": "stream",
          "name": "stdout",
          "text": [
            "Digite um termo: 5\n",
            "Digite a razão: 3\n",
            "Digite quantos termos voce quer ver: 10\n",
            "5 8 11 14 17 20 23 26 29 32 "
          ]
        }
      ]
    },
    {
      "cell_type": "code",
      "source": [
        "#62 quantos termos usuario quer ver versao 2.0\n",
        "\n",
        "termo = int(input('Digite o termo da PA: '))\n",
        "razao = int(input('Digite a razão da PA: '))\n",
        "quantos_termos = int(input('Digite quantos termos que ver: '))\n",
        "cont = 1\n",
        "#termo = primeiro\n",
        "while cont <= quantos_termos:\n",
        "  print(termo,f' -> ', end='')\n",
        "  termo = razao+termo\n",
        "  cont += 1\n",
        "print('FIM', end='')\n",
        "\n",
        "  "
      ],
      "metadata": {
        "colab": {
          "base_uri": "https://localhost:8080/"
        },
        "id": "SOUT_b06ePv6",
        "outputId": "d5127275-fa87-4f55-b50c-8fd21da42eea"
      },
      "execution_count": null,
      "outputs": [
        {
          "output_type": "stream",
          "name": "stdout",
          "text": [
            "Digite o termo da PA: 0\n",
            "Digite a razão da PA: 5\n",
            "Digite quantos termos que ver: 10\n",
            "0  -> 5  -> 10  -> 15  -> 20  -> 25  -> 30  -> 35  -> 40  -> 45  -> FIM"
          ]
        }
      ]
    },
    {
      "cell_type": "code",
      "source": [
        "#62 quantos termos usuario quer ver adcionando mais numeros depois\n",
        "\n",
        "c = 1 \n",
        "a1 = int(input('Digite um termo: '))\n",
        "r = int(input('Digite a razão: '))\n",
        "termos = int(input('Digite quantos termos voce quer ver: '))\n",
        "lista = []\n",
        "\n",
        "while c <= termos :\n",
        "  if r == 0 :\n",
        "    print('Não podemos adcionar 0 a razão, digite novamente: ')\n",
        "    continue\n",
        "  an = (a1 + ((c - 1)* r))\n",
        "  c += 1\n",
        "  lista.append(an)\n",
        "print(f'Os {termos} primeiros termos são {lista}')   \n",
        "\n",
        "while True:\n",
        "  opcao = int(input('Digite 1 - para adcionar mais termos\\n 2 - Sair \\n'))\n",
        "\n",
        "  if opcao == 1:\n",
        "     novos_termos = int(input('Digite quantos termos voce quer ver a mais: '))\n",
        "     for i in range(1, novos_termos+1):\n",
        "         an = (a1 + ((c - 1)* r))\n",
        "         c += 1\n",
        "         lista.append(an)\n",
        "         continue\n",
        "  elif opcao == 2:\n",
        "     print(f'Os a lista final de termos é: {lista}', end = \" \")\n",
        "     break\n",
        "  else:\n",
        "     print('Opção inválida digite novamente ')\n",
        "     continue\n",
        "  \n",
        "   \n"
      ],
      "metadata": {
        "colab": {
          "base_uri": "https://localhost:8080/"
        },
        "id": "BSTm7TzJIhSm",
        "outputId": "807e8e95-edbf-48f5-bad3-c2b10675a598"
      },
      "execution_count": null,
      "outputs": [
        {
          "output_type": "stream",
          "name": "stdout",
          "text": [
            "Digite um termo: 5\n",
            "Digite a razão: 3\n",
            "Digite quantos termos voce quer ver: 5\n",
            "Os 5 primeiros termos são [5, 8, 11, 14, 17]\n",
            "Digite 1 - para adcionar mais termos\n",
            " 2 - Sair \n",
            "1\n",
            "Digite quantos termos voce quer ver a mais: 5\n",
            "Digite 1 - para adcionar mais termos\n",
            " 2 - Sair \n",
            "2\n",
            "Os a lista final de termos é: [5, 8, 11, 14, 17, 20, 23, 26, 29, 32] "
          ]
        }
      ]
    },
    {
      "cell_type": "code",
      "source": [
        "#62 quantos termos usuario quer ver adcionando mais numeros depois V 2.0\n",
        "\n",
        "c = 1 \n",
        "total = 0\n",
        "lista = []\n",
        "\n",
        "termo = int(input('Digite um termo:\\n '))\n",
        "razao = int(input('Digite a razão:\\n '))\n",
        "mais = int(input('Quantos termos?\\n ')) \n",
        "\n",
        "while mais != 0 :\n",
        "  total += mais\n",
        "  while c <= total:\n",
        "    lista.append(termo)\n",
        "    print(termo,' -> ', end = \" \")\n",
        "    termo += razao\n",
        "    c += 1\n",
        "  print('PAUSA')\n",
        "  mais = int(input('Quantos termos a mais?\\n '))  \n",
        "print(f'O total de termos é: {total} termos, com a seguinte lista:  {lista} -> FIM')  "
      ],
      "metadata": {
        "colab": {
          "base_uri": "https://localhost:8080/"
        },
        "id": "c_v_SEc1hSUV",
        "outputId": "134125a2-b39e-43ce-9aa2-5416b67c1767"
      },
      "execution_count": null,
      "outputs": [
        {
          "output_type": "stream",
          "name": "stdout",
          "text": [
            "Digite um termo:\n",
            " 0\n",
            "Digite a razão:\n",
            " 2\n",
            "Quantos termos?\n",
            " 5\n",
            "0  ->  2  ->  4  ->  6  ->  8  ->  PAUSA\n",
            "Quantos termos a mais?\n",
            " 5\n",
            "10  ->  12  ->  14  ->  16  ->  18  ->  PAUSA\n",
            "Quantos termos a mais?\n",
            " 0\n",
            "O total de termos: 10, com os termos [0, 2, 4, 6, 8, 10, 12, 14, 16, 18] -> FIM\n"
          ]
        }
      ]
    },
    {
      "cell_type": "code",
      "source": [
        "n = 2\n",
        "lista = [0, '->'  ,1]\n",
        "\n",
        "print(lista)"
      ],
      "metadata": {
        "colab": {
          "base_uri": "https://localhost:8080/"
        },
        "id": "SCo_Wc4zsi4t",
        "outputId": "587f65b4-1a74-4d27-cda4-e9ef1a3d597c"
      },
      "execution_count": null,
      "outputs": [
        {
          "output_type": "stream",
          "name": "stdout",
          "text": [
            "[0, '->', 1]\n"
          ]
        }
      ]
    },
    {
      "cell_type": "code",
      "source": [
        "#63 fibonacci\n",
        "n = int(input('Quantos termos você quer mostrar? '))\n",
        "t1 = 0\n",
        "t2 = 1\n",
        "cont = 3\n",
        "print(f'{t1} -> {t2}', end='')\n",
        "while cont <= n:\n",
        "  t3 = t1 + t2\n",
        "  print(f' -> {t3}', end='')\n",
        "  t1 = t2\n",
        "  t2 = t3\n",
        "  cont += 1\n",
        "\n",
        "  "
      ],
      "metadata": {
        "colab": {
          "base_uri": "https://localhost:8080/"
        },
        "id": "KRbvJ-1xySZi",
        "outputId": "3aab5b20-697e-416f-c9fa-3e6a4f204e49"
      },
      "execution_count": null,
      "outputs": [
        {
          "output_type": "stream",
          "name": "stdout",
          "text": [
            "Quantos termos você quer mostrar? 10\n",
            "0 -> 1 -> 1 -> 2 -> 3 -> 5 -> 8 -> 13 -> 21 -> 34"
          ]
        }
      ]
    },
    {
      "cell_type": "code",
      "source": [
        "#63 Definindo a quantidade de números a serem gerados\n",
        "n = int(input('Quantos termos quer exibir: '))\n",
        "\n",
        "# Inicializando as variáveis com os dois primeiros números da sequência\n",
        "a = 0\n",
        "b = 1\n",
        "\n",
        "\n",
        "# Loop para gerar os próximos números da sequência\n",
        "for i in range(n):\n",
        "    print(a, end=' ')\n",
        "    a, b = b, a + b"
      ],
      "metadata": {
        "colab": {
          "base_uri": "https://localhost:8080/"
        },
        "id": "10VW080Uuhru",
        "outputId": "4a4a5ceb-e6af-432a-f5b2-9c0025bb84ee"
      },
      "execution_count": null,
      "outputs": [
        {
          "output_type": "stream",
          "name": "stdout",
          "text": [
            "Quantos termos quer exibir: 12\n",
            "0 1 1 2 3 5 8 13 21 34 55 89 "
          ]
        }
      ]
    },
    {
      "cell_type": "code",
      "source": [
        "#63 fibonacci\n",
        "t1 = 0\n",
        "t2 = 1\n",
        "t3 = t1+t2\n",
        "lista  = [t1,t2]\n",
        "cont = 3\n",
        "n = int(10)\n",
        "while cont <= n:\n",
        "  t3 = t1+t2  \n",
        "  cont += 1\n",
        "  t1 = t2\n",
        "  t2 = t3\n",
        "  lista.append(t3)\n",
        "print(lista)"
      ],
      "metadata": {
        "colab": {
          "base_uri": "https://localhost:8080/"
        },
        "id": "1amWfM0H3mhC",
        "outputId": "19cf5940-a36c-4d19-8449-d59234281031"
      },
      "execution_count": null,
      "outputs": [
        {
          "output_type": "stream",
          "name": "stdout",
          "text": [
            "[0, 1, 1, 2, 3, 5, 8, 13, 21, 34]\n"
          ]
        }
      ]
    },
    {
      "cell_type": "code",
      "source": [
        "#64 Números primos\n",
        "\n",
        "num = int(input(\"Digite um número: \"))\n",
        "\n",
        "# Verifica se o número é primo\n",
        "primo = True\n",
        "for i in range(2, num):\n",
        "    if num % i == 0:\n",
        "        primo = False\n",
        "        break\n",
        "\n",
        "# Exibe o resultado\n",
        "if primo:\n",
        "    print(num, \"é um número primo\")\n",
        "else:\n",
        "    print(num, \"não é um número primo\")\n",
        "\n",
        "\n"
      ],
      "metadata": {
        "colab": {
          "base_uri": "https://localhost:8080/"
        },
        "id": "bnWgzIOYRuSX",
        "outputId": "23609534-0da0-47fe-ddbd-b834c1a5d421"
      },
      "execution_count": null,
      "outputs": [
        {
          "output_type": "stream",
          "name": "stdout",
          "text": [
            "Digite um número: 13\n",
            "13 é um número primo\n"
          ]
        }
      ]
    },
    {
      "cell_type": "code",
      "source": [
        "#63 fiboncci\n",
        "#Fn = Fn - 1 + Fn - 2\n",
        "n = int(input('Digite n '))\n",
        "#for i in range(5):\n",
        " # fn = n + (n - 1)\n",
        " # print(fn)\n",
        "\n",
        "lista = [0,1]\n",
        "c = 0\n",
        "while lista[-1] <= n :\n",
        "    lista.append(lista[-1] + lista[-2])\n",
        "    c += 1\n",
        "print(lista)    "
      ],
      "metadata": {
        "colab": {
          "base_uri": "https://localhost:8080/"
        },
        "id": "glm_yFpkO9_3",
        "outputId": "7ae15269-9615-419c-ecc4-53f4cba93902"
      },
      "execution_count": null,
      "outputs": [
        {
          "output_type": "stream",
          "name": "stdout",
          "text": [
            "Digite n 5\n",
            "[0, 1, 1, 2, 3, 5, 8]\n"
          ]
        }
      ]
    },
    {
      "cell_type": "code",
      "source": [
        "#64/65 Crie um programa que leia vários números inteiros pelo teclado. \n",
        "#O programa só vai parar quando o usuário digitar o valor 999, que é a condição de parada. No final, mostre\n",
        "#quantos números foram digitados e qual foi a soma entre eles (desconsiderando o flag).\n",
        "\n",
        "n = int(input('Digite um valor: '))\n",
        "numeros = [n]\n",
        "\n",
        "while n != 999:\n",
        "  n = int(input('Digite um valor: '))\n",
        "  if n == 999:\n",
        "    break \n",
        "  elif n > 999:\n",
        "    print('Este valor é proíbido')\n",
        "    continue \n",
        "  numeros.append(n)\n",
        "    \n",
        "soma = sum(numeros)\n",
        "media = soma / len(numeros)\n",
        "maior = max(numeros)\n",
        "menor = min(numeros)\n",
        "print(f'A soma dos valores digitados é: {soma} e a média é {media} com o maior valor de {maior} e o menor valor é {menor} com a lista de valores {numeros}')    "
      ],
      "metadata": {
        "colab": {
          "base_uri": "https://localhost:8080/"
        },
        "id": "GtUfZXm3WY4N",
        "outputId": "ff4151d0-bf1d-41b7-dba5-3251e8a9db0b"
      },
      "execution_count": null,
      "outputs": [
        {
          "output_type": "stream",
          "name": "stdout",
          "text": [
            "Digite um valor: 10\n",
            "Digite um valor: 20\n",
            "Digite um valor: 30\n",
            "Digite um valor: 999\n",
            "A soma dos valores digitados é: 60 e a média é 20.0 com o maior valor de 30 e o menor valor é 10 com a lista de valores [10, 20, 30]\n"
          ]
        }
      ]
    },
    {
      "cell_type": "code",
      "source": [
        "#64 Crie um programa que leia vários números inteiros pelo teclado. \n",
        "#O programa só vai parar quando o usuário digitar o valor 999, que é a condição de parada. No final, mostre\n",
        "#quantos números foram digitados e qual foi a soma entre eles (desconsiderando o flag).\n",
        "n = cont = soma =0\n",
        "n = int(input('Digite um número ou 999 para sair: \\n'))\n",
        "while n != 999:\n",
        "  soma += n\n",
        "  cont += 1\n",
        "  n = int(input('Digite um número ou 999 para sair: \\n'))\n",
        "print(f'A soma é {soma} e tem {cont} digitos')  \n",
        "\n",
        " \n"
      ],
      "metadata": {
        "id": "-iufYJrD-o0C",
        "outputId": "3a3a3c1d-c6f5-4d55-c66c-8f6e9bcc86f1",
        "colab": {
          "base_uri": "https://localhost:8080/"
        }
      },
      "execution_count": null,
      "outputs": [
        {
          "output_type": "stream",
          "name": "stdout",
          "text": [
            "Digite um número ou 999 para sair: \n",
            "1\n",
            "Digite um número ou 999 para sair: \n",
            "2\n",
            "Digite um número ou 999 para sair: \n",
            "3\n",
            "Digite um número ou 999 para sair: \n",
            "999\n",
            "A soma é 6 e tem 3 digitos\n"
          ]
        }
      ]
    },
    {
      "cell_type": "code",
      "source": [
        "#65 Crie um programa que leia vários números inteiros pelo teclado. No final da execução, mostre a média entre todos os valores e qual foi o maior \n",
        "#e o menor valores lidos. O programa deve perguntar ao usuário se ele quer ou não continuar a digitar valores.\n",
        "\n",
        "numeros = []\n",
        "c=0\n",
        "while True:\n",
        "  op = int(input('Bem vindo, Digite 1 - Sair ou 2 - Continuar '))\n",
        "  if op == 2:\n",
        "    lista = int(input('Digite um valor: '))\n",
        "    numeros.append(lista)\n",
        "    c+=1\n",
        "    continue\n",
        "  elif op == 1:\n",
        "    print('Saindo do sistema')\n",
        "    break\n",
        "  else:\n",
        "    print('Número ou opção inválida')\n",
        "    continue \n",
        "\n",
        "soma = sum(numeros)\n",
        "media = soma/len(numeros)   \n",
        "maior = max(numeros)\n",
        "menor = min(numeros)  \n",
        "\n",
        "print(soma, media, maior, menor)\n",
        "\n",
        "\n",
        "  \n",
        "\n",
        "\n",
        "\n"
      ],
      "metadata": {
        "id": "k_QFNP5I7Ifl",
        "colab": {
          "base_uri": "https://localhost:8080/"
        },
        "outputId": "b59d4eb1-d4f3-4363-af5e-9118bf216855"
      },
      "execution_count": null,
      "outputs": [
        {
          "output_type": "stream",
          "name": "stdout",
          "text": [
            "Bem vindo, Digite 1 - Sair ou 2 - Continuar 2\n",
            "Digite um valor: 20\n",
            "Bem vindo, Digite 1 - Sair ou 2 - Continuar 2\n",
            "Digite um valor: 30\n",
            "Bem vindo, Digite 1 - Sair ou 2 - Continuar 2\n",
            "Digite um valor: 5\n",
            "Bem vindo, Digite 1 - Sair ou 2 - Continuar 2\n",
            "Digite um valor: 10\n",
            "Bem vindo, Digite 1 - Sair ou 2 - Continuar 1\n",
            "Saindo do sistema\n",
            "65 16.25 30 5\n"
          ]
        }
      ]
    },
    {
      "cell_type": "code",
      "source": [
        "#66 Crie um programa que leia números inteiros pelo teclado. O programa só vai parar quando o \n",
        "#usuário digitar o valor 999, que é a condição de parada. No final,\n",
        "# mostre quantos números foram digitados e qual foi a soma entre elas (desconsiderando o flag).\n",
        "\n",
        "numeros=cont = soma = 0\n",
        "while True:\n",
        "  numeros = int(input('Digite um numero ou 999 para sair: '))\n",
        "\n",
        "  if numeros == 999:\n",
        "    print('saindo do programa')\n",
        "    break\n",
        "\n",
        "  soma += numeros\n",
        "  cont += 1\n",
        "print(f'A soma dos {cont} números digitados é {soma}')    \n"
      ],
      "metadata": {
        "colab": {
          "base_uri": "https://localhost:8080/"
        },
        "id": "cNZkPWUnqjyl",
        "outputId": "1888c0ea-5f3c-4a16-a595-86858006e93c"
      },
      "execution_count": null,
      "outputs": [
        {
          "output_type": "stream",
          "name": "stdout",
          "text": [
            "Digite um numero ou 999 para sair: 1\n",
            "Digite um numero ou 999 para sair: 2\n",
            "Digite um numero ou 999 para sair: 3\n",
            "Digite um numero ou 999 para sair: 4\n",
            "Digite um numero ou 999 para sair: 5\n",
            "Digite um numero ou 999 para sair: 999\n",
            "saindo do programa\n",
            "A soma dos 5 números digitados é 15\n"
          ]
        }
      ]
    },
    {
      "cell_type": "code",
      "source": [
        "#67: Faça um programa que mostre a tabuada de vários números, um de cada vez, \n",
        "#para cada valor digitado pelo usuário. O programa será interrompido quando o número solicitado for negativo.\n",
        "from time import sleep\n",
        "n = cont = 0\n",
        "\n",
        "while True:\n",
        "  n = int(input('Digite um número e veja a tabuada dele: '))\n",
        "\n",
        "  if n <= 0:\n",
        "    print('Número negativo ou zero valor, saindo do programa')\n",
        "    break\n",
        "    3\n",
        "  for i in range(1, 11):\n",
        "    print(f'{n} x {i} = {n*i}')  \n",
        "    sleep(1)"
      ],
      "metadata": {
        "colab": {
          "base_uri": "https://localhost:8080/"
        },
        "id": "PQ_po_bbtLpR",
        "outputId": "2d430655-1b50-4832-b168-9696f5de349e"
      },
      "execution_count": null,
      "outputs": [
        {
          "output_type": "stream",
          "name": "stdout",
          "text": [
            "Digite um número e veja a tabuada dele: 2\n",
            "2 x 1 = 2\n",
            "2 x 2 = 4\n",
            "2 x 3 = 6\n",
            "2 x 4 = 8\n",
            "2 x 5 = 10\n",
            "2 x 6 = 12\n",
            "2 x 7 = 14\n",
            "2 x 8 = 16\n",
            "2 x 9 = 18\n",
            "2 x 10 = 20\n",
            "Digite um número e veja a tabuada dele: 0\n",
            "Número negativo ou zero valor, saindo do programa\n"
          ]
        }
      ]
    },
    {
      "cell_type": "code",
      "source": [
        "#68: Faça um programa que jogue par ou ímpar com o computador. O jogo só será interrompido quando \n",
        "#o jogador perder, mostrando o total de vitórias consecutivas que ele conquistou no final do jogo.\n",
        "# acertar a soma dos numeros se é par ou impar\n",
        "from random import randint\n",
        "v = 0\n",
        "while True:\n",
        "  jogador = int(input('Digite um numero de 0 a 10: '))\n",
        "  computador = randint(0,10)\n",
        "  total = computador + jogador\n",
        "  tipo = ' '\n",
        "  tipo = str(input('Digite PAR ou IMPAR para o resultado\\n')).upper().strip() [0]\n",
        "  if tipo == 'PAR' and total % 2 == 0:\n",
        "    #if total % 2 ==0:\n",
        "      print('Você venceu')\n",
        "      v += 1\n",
        "      print(f'Você escolheu {tipo} e Você venceu: {v} vezes,Você jogou: {jogador}, o Coputador jogou: {computador}, a soma dos valores é de: {total}')\n",
        "  elif tipo == 'IMPAR' and total % 2 == 1:\n",
        "    print('Você venceu!!')\n",
        "    v+=1  \n",
        "    print(f'Você escolheu {tipo} e Você venceu: {v} vezes,Você jogou: {jogador}, o Coputador jogou: {computador}, a soma dos valores é de: {total}')\n",
        "  else:\n",
        "    print(f'Você perdeu! Resultado {total}')\n",
        "    break\n",
        "\n",
        "  print('Vamos jogar novamente....') \n",
        "  "
      ],
      "metadata": {
        "colab": {
          "base_uri": "https://localhost:8080/"
        },
        "id": "hPZ5Hlqjz4zB",
        "outputId": "d9646f24-84fb-4df3-954e-4811f9521587"
      },
      "execution_count": null,
      "outputs": [
        {
          "output_type": "stream",
          "name": "stdout",
          "text": [
            "Digite um numero de 0 a 10: 6\n",
            "Digite PAR ou IMPAR para o resultado\n",
            "impar\n",
            "Você perdeu! Resultado 16\n"
          ]
        }
      ]
    },
    {
      "cell_type": "code",
      "source": [
        "#69 Crie um programa que leia a idade e o sexo de várias pessoas. \n",
        "#A cada pessoa cadastrada, o programa deverá perguntar se o usuário quer ou não continuar. No final, mostre:\n",
        "\n",
        "#A) quantas pessoas tem mais de 18 anos.\n",
        "\n",
        "#B) quantos homens foram cadastrados.\n",
        "\n",
        "#C) quantas mulheres tem menos de 20 anos.\n",
        "\n",
        "idade = 0\n",
        "tot20 = 0\n",
        "contM = 0\n",
        "contF = 0\n",
        "contIdade = 0\n",
        "print('-----= Bem vindo ao cadastro de pessoas =-----\\n')\n",
        "\n",
        "while True:\n",
        "\n",
        "  idade = int(input(' -==-==- Digite a idade:   -==-==-  \\n'))\n",
        "  if idade > 18:\n",
        "    contIdade += 1\n",
        "       \n",
        "  sexo = ' ' \n",
        "  while sexo not in 'FM':\n",
        "    sexo = str(input('   -==-==-  Digite o sexo [M/F]:   -==-==-   \\n')).upper().strip()[0]\n",
        "\n",
        "  if sexo == 'M':\n",
        "    contM += 1\n",
        "    \n",
        "\n",
        "  elif sexo == 'F':\n",
        "    if idade < 20 :\n",
        "      tot20 += 1\n",
        "\n",
        "  op = ' '\n",
        "  while op not in 'SN': \n",
        "    op = str(input('Deseja cadastrar mais uma pessoa? [S/N]: ')).upper().strip()[0]\n",
        "\n",
        "  if op == 'S':\n",
        "     continue\n",
        "\n",
        "  elif op == 'N':\n",
        "     print('Saindo do programa...\\n')\n",
        "     break\n",
        "\n",
        "print(f'O total de pessoas maiores de 18 é de: {contIdade}\\n')\n",
        "print(f'O total de homens cadastrados é de: {contM}\\n')\n",
        "print(f'Exitem {tot20} Mulheres menores de 20 anos')\n"
      ],
      "metadata": {
        "id": "Mk1rVRdluZGU"
      },
      "execution_count": null,
      "outputs": []
    },
    {
      "cell_type": "code",
      "source": [
        "\n",
        "#70: Crie um programa que leia o nome e o preço de vários produtos. \n",
        "#O programa deverá perguntar se o usuário vai continuar ou não. No final, mostre:\n",
        "\n",
        "#A) qual é o total gasto na compra.\n",
        "\n",
        "#B) quantos produtos custam mais de R$1000.\n",
        "\n",
        "#C) qual é o nome do produto mais barato.\n",
        "\n",
        "soma = 0\n",
        "listaPreco = []\n",
        "listaProduto = []\n",
        "while True:\n",
        "  produto = str(input('Digite o nome do produto:\\n'))\n",
        "  listaProduto.append(produto)\n",
        "\n",
        "  preco = float(input('Digite o preço do Produto R$: \\n'))\n",
        "  listaPreco.append(preco)\n",
        "\n",
        "  \n",
        "\n",
        "  menor_preco = listaPreco.index(min(listaPreco))\n",
        "  nome_produto_mais_barato = listaProduto[menor_preco]\n",
        "\n",
        "\n",
        "  op=' '\n",
        "  op = str(input('Deseja continuar [S/N]: \\n')).upper().strip()[0]\n",
        "           \n",
        "  if op == 'S':\n",
        "     continue\n",
        "\n",
        "  if op == 'N':\n",
        "    print('{:-^40}'.format ('Saindo do Programa'))\n",
        "    break \n",
        "\n",
        "cont_maior_1000 = 0\n",
        "for preco in listaPreco:\n",
        "    if preco > 1000:\n",
        "        cont_maior_1000 += 1\n",
        "\n",
        "soma = sum(listaPreco)\n",
        "print(f'Os produtodos cadastrados são: {listaProduto} \\ncom valores de R$ {listaPreco}, \\nsoma dos valores e de R${soma:.2f}')\n",
        "print(f'O produto mais barato é \"{nome_produto_mais_barato}\" com preço de R$ {min(listaPreco):.2f}')\n",
        "print(f'{cont_maior_1000} produtos têm preço maior que R$ 1000')"
      ],
      "metadata": {
        "colab": {
          "base_uri": "https://localhost:8080/"
        },
        "id": "8I1SCVO_3aUx",
        "outputId": "6ec26a55-07e5-465c-b11a-51dd24eaa867"
      },
      "execution_count": null,
      "outputs": [
        {
          "output_type": "stream",
          "name": "stdout",
          "text": [
            "Digite o nome do produto:\n",
            "carro\n",
            "Digite o preço do Produto R$: \n",
            "25000\n",
            "Deseja continuar [S/N]: \n",
            "s\n",
            "Digite o nome do produto:\n",
            "pao\n",
            "Digite o preço do Produto R$: \n",
            "3\n",
            "Deseja continuar [S/N]: \n",
            "s\n",
            "Digite o nome do produto:\n",
            "celular\n",
            "Digite o preço do Produto R$: \n",
            "1000\n",
            "Deseja continuar [S/N]: \n",
            "n\n",
            "-----------Saindo do Programa-----------\n",
            "Os produtodos cadastrados são: ['carro', 'pao', 'celular'] \n",
            "com valores de R$ [25000.0, 3.0, 1000.0], \n",
            "soma dos valores e de R$26003.00\n",
            "O produto mais barato é \"pao\" com preço de R$ 3.00\n",
            "1 produtos têm preço maior que R$ 1000\n"
          ]
        }
      ]
    },
    {
      "cell_type": "code",
      "source": [
        "#71 simulando um caixa eletronico\n",
        "cedulas = [100, 50, 20, 10, 5, 1]\n",
        "\n",
        "while True:\n",
        "    valor = int(input(\"Digite o valor a ser sacado: \"))\n",
        "\n",
        "    for cedula in cedulas:\n",
        "        quantidade = valor // cedula\n",
        "        if quantidade > 0:\n",
        "            valor -= quantidade * cedula\n",
        "            print(f\"{quantidade} cédula(s) de R${cedula}\")\n",
        "\n",
        "        if valor == 0:\n",
        "            break\n",
        "\n",
        "    op = int(input('Deseja fazer outro Saque? DIGITE [1] para SIM ou [2] para NÃO\\n'))\n",
        "    \n",
        "    if op == 1:\n",
        "        continue\n",
        "\n",
        "    elif op == 2:\n",
        "        print('Obrigado por usar o Banco Becker')\n",
        "        break\n",
        "\n",
        "    else:\n",
        "        print('opção inválida')\n",
        "        continue"
      ],
      "metadata": {
        "id": "mHArQccVPiGZ",
        "outputId": "e940fce3-e0ab-4209-967d-0d3df7eebc5f",
        "colab": {
          "base_uri": "https://localhost:8080/"
        }
      },
      "execution_count": null,
      "outputs": [
        {
          "output_type": "stream",
          "name": "stdout",
          "text": [
            "Digite o valor a ser sacado: 356\n",
            "3 cédula(s) de R$100\n",
            "1 cédula(s) de R$50\n",
            "1 cédula(s) de R$5\n",
            "1 cédula(s) de R$1\n",
            "Deseja fazer outro Saque? DIGITE [1] para SIM ou [2] para NÃO\n",
            "2\n",
            "Obrigado por usar o Banco Becker\n"
          ]
        }
      ]
    },
    {
      "cell_type": "code",
      "source": [
        "!pip install hashlib\n"
      ],
      "metadata": {
        "colab": {
          "base_uri": "https://localhost:8080/"
        },
        "id": "-Ly4u_nb9Hvs",
        "outputId": "6f8905a6-cd7a-460c-d641-e9faa6529c07"
      },
      "execution_count": null,
      "outputs": [
        {
          "output_type": "stream",
          "name": "stdout",
          "text": [
            "Looking in indexes: https://pypi.org/simple, https://us-python.pkg.dev/colab-wheels/public/simple/\n",
            "Collecting hashlib\n",
            "  Using cached hashlib-20081119.zip (42 kB)\n",
            "  \u001b[1;31merror\u001b[0m: \u001b[1msubprocess-exited-with-error\u001b[0m\n",
            "  \n",
            "  \u001b[31m×\u001b[0m \u001b[32mpython setup.py egg_info\u001b[0m did not run successfully.\n",
            "  \u001b[31m│\u001b[0m exit code: \u001b[1;36m1\u001b[0m\n",
            "  \u001b[31m╰─>\u001b[0m See above for output.\n",
            "  \n",
            "  \u001b[1;35mnote\u001b[0m: This error originates from a subprocess, and is likely not a problem with pip.\n",
            "  Preparing metadata (setup.py) ... \u001b[?25l\u001b[?25herror\n",
            "\u001b[1;31merror\u001b[0m: \u001b[1mmetadata-generation-failed\u001b[0m\n",
            "\n",
            "\u001b[31m×\u001b[0m Encountered error while generating package metadata.\n",
            "\u001b[31m╰─>\u001b[0m See above for output.\n",
            "\n",
            "\u001b[1;35mnote\u001b[0m: This is an issue with the package mentioned above, not pip.\n",
            "\u001b[1;36mhint\u001b[0m: See above for details.\n"
          ]
        }
      ]
    },
    {
      "cell_type": "code",
      "source": [
        "#criptografia de senha  usandl sal e SHA256\n",
        "\n",
        "import hashlib\n",
        "import os\n",
        "\n",
        "# Gera um salt aleatório\n",
        "salt = os.urandom(128)\n",
        "\n",
        "senha = input(\"Digite a senha a ser criptografada: \")\n",
        "\n",
        "# Concatena o salt com a senha\n",
        "senha_com_salt = salt + senha.encode()\n",
        "\n",
        "# Criptografa a senha com o salt usando o algoritmo SHA-256\n",
        "senha_criptografada = hashlib.sha256(senha_com_salt).hexdigest()\n",
        "\n",
        "print(\"A senha criptografada é:\", senha_criptografada)"
      ],
      "metadata": {
        "colab": {
          "base_uri": "https://localhost:8080/"
        },
        "id": "jftU5big9Ebm",
        "outputId": "57e60b8d-49c3-48e4-b585-62c996432274"
      },
      "execution_count": null,
      "outputs": [
        {
          "output_type": "stream",
          "name": "stdout",
          "text": [
            "Digite a senha a ser criptografada: Raissa123@1\n",
            "A senha criptografada é: a7c5bdc43083db32f2114177e7128cb9ba08ba4b54692f46aac768f375fa3ce7\n"
          ]
        }
      ]
    },
    {
      "cell_type": "code",
      "source": [
        "from IPython.display import Image\n",
        "try:\n",
        "  filename = take_photo()\n",
        "  print('Saved to {}'.format(filename))\n",
        "  \n",
        "  # Show the image which was just taken.\n",
        "  display(Image(filename))\n",
        "except Exception as err:\n",
        "  # Errors will be thrown if the user does not have a webcam or if they do not\n",
        "  # grant the page permission to access it.\n",
        "  print(str(err))"
      ],
      "metadata": {
        "colab": {
          "base_uri": "https://localhost:8080/",
          "height": 514
        },
        "id": "0jqRLzU9DjMt",
        "outputId": "d505e9dd-da3c-4fe0-c7f4-69b8d719c2c0"
      },
      "execution_count": null,
      "outputs": [
        {
          "output_type": "display_data",
          "data": {
            "text/plain": [
              "<IPython.core.display.Javascript object>"
            ],
            "application/javascript": [
              "\n",
              "    async function takePhoto(quality) {\n",
              "      const div = document.createElement('div');\n",
              "      const capture = document.createElement('button');\n",
              "      capture.textContent = 'Capture';\n",
              "      div.appendChild(capture);\n",
              "\n",
              "      const video = document.createElement('video');\n",
              "      video.style.display = 'block';\n",
              "      const stream = await navigator.mediaDevices.getUserMedia({video: true});\n",
              "\n",
              "      document.body.appendChild(div);\n",
              "      div.appendChild(video);\n",
              "      video.srcObject = stream;\n",
              "      await video.play();\n",
              "\n",
              "      // Resize the output to fit the video element.\n",
              "      google.colab.output.setIframeHeight(document.documentElement.scrollHeight, true);\n",
              "\n",
              "      // Wait for Capture to be clicked.\n",
              "      await new Promise((resolve) => capture.onclick = resolve);\n",
              "\n",
              "      const canvas = document.createElement('canvas');\n",
              "      canvas.width = video.videoWidth;\n",
              "      canvas.height = video.videoHeight;\n",
              "      canvas.getContext('2d').drawImage(video, 0, 0);\n",
              "      stream.getVideoTracks()[0].stop();\n",
              "      div.remove();\n",
              "      return canvas.toDataURL('image/jpeg', quality);\n",
              "    }\n",
              "    "
            ]
          },
          "metadata": {}
        },
        {
          "output_type": "stream",
          "name": "stdout",
          "text": [
            "Saved to photo.jpg\n"
          ]
        },
        {
          "output_type": "display_data",
          "data": {
            "image/jpeg": "[encoded data removed]",
            "text/plain": [
              "<IPython.core.display.Image object>"
            ]
          },
          "metadata": {}
        }
      ]
    },
    {
      "cell_type": "code",
      "source": [
        "#dicionario,lista e tuplas\n",
        "#Essas linhas criam uma lista vazia, uma tupla vazia e um dicionário vazio, respectivamente.\n",
        "#Lista list=[]\n",
        "#Tupla tupla=()\n",
        "#Dicionario dic={}\n",
        "\n",
        "'''pessoa = {'Nome':['Davi','Maria'],'Altura':['1.76m','2.10'],'Sexo':['Masculino','Feminino']}\n",
        "print(pessoa['Nome'])\n",
        "print(pessoa['Altura'])\n",
        "print('Nome:',pessoa['Nome'][0],'Altura:',pessoa['Altura'][0],'Sexo:',pessoa['Sexo'][0])\n",
        "print(pessoa)'''\n",
        "\n",
        "pessoas = {}\n",
        "\n",
        "while True:\n",
        "    nome = str(input('Digite o Nome: (Ou sair para sair\\n)')).upper().strip()\n",
        "    if nome == 'SAIR':\n",
        "      break\n",
        "    idade = int(input('Digite a idade:\\n '))\n",
        "    sexo = str(input('Digite o Sexo: \\n'))\n",
        "\n",
        "    pessoa ={'Nome': nome, 'Sexo': sexo, 'Idade': idade}\n",
        "    pessoas[nome] = pessoa\n",
        "for nome, pessoa in pessoas.items():\n",
        "  print(f'Nome: {pessoa[\"Nome\"]}, Sexo: {pessoa[\"Sexo\"]}, Idade: {pessoa[\"Idade\"]}')\n",
        " "
      ],
      "metadata": {
        "colab": {
          "base_uri": "https://localhost:8080/"
        },
        "id": "ZBYJ2BdbeYDz",
        "outputId": "90526c40-071d-4c2b-9366-b585aece1f48"
      },
      "execution_count": null,
      "outputs": [
        {
          "output_type": "stream",
          "name": "stdout",
          "text": [
            "Digite o Nome: (Ou sair para sair\n",
            ")davi\n",
            "Digite a idade:\n",
            " 43\n",
            "Digite o Sexo: \n",
            "masculino\n",
            "Digite o Nome: (Ou sair para sair\n",
            ")maria\n",
            "Digite a idade:\n",
            " 15\n",
            "Digite o Sexo: \n",
            "feminino\n",
            "Digite o Nome: (Ou sair para sair\n",
            ")sair\n",
            "Nome: DAVI, Sexo: masculino, Idade: 43\n",
            "Nome: MARIA, Sexo: feminino, Idade: 15\n",
            "{'Nome': 'MARIA', 'Sexo': 'feminino', 'Idade': 15}\n"
          ]
        }
      ]
    },
    {
      "cell_type": "code",
      "source": [
        "comedies = (\"Arrested Development\", \"How I Met Your Mother\", \"Always Sunny\")\n",
        "for show in comedies:\n",
        "    print(show)"
      ],
      "metadata": {
        "colab": {
          "base_uri": "https://localhost:8080/"
        },
        "id": "OjaL7B3Nq2al",
        "outputId": "6ccd4849-e0af-46f6-e532-0bc744306707"
      },
      "execution_count": null,
      "outputs": [
        {
          "output_type": "stream",
          "name": "stdout",
          "text": [
            "Arrested Development\n",
            "How I Met Your Mother\n",
            "Always Sunny\n"
          ]
        }
      ]
    },
    {
      "cell_type": "code",
      "source": [
        "#MEU PRÒPIO TRADUTOR\n",
        "#!pip install translate\n",
        "from translate import Translator\n",
        "\n",
        "translator = Translator(from_lang ='pt', to_lang ='en')\n",
        "\n",
        "palavra = str(input('Digite uma palavra:' ))\n",
        "\n",
        "traducao = translator.translate(palavra)\n",
        "\n",
        "\n",
        "print(f'A palavra:  {palavra}   traduzida é: {traducao}')"
      ],
      "metadata": {
        "colab": {
          "base_uri": "https://localhost:8080/"
        },
        "id": "zL7CP4u-1CCU",
        "outputId": "bd9f48c2-84ad-4c62-f925-b84296c3d1f6"
      },
      "execution_count": null,
      "outputs": [
        {
          "output_type": "stream",
          "name": "stdout",
          "text": [
            "Looking in indexes: https://pypi.org/simple, https://us-python.pkg.dev/colab-wheels/public/simple/\n",
            "Requirement already satisfied: translate in /usr/local/lib/python3.9/dist-packages (3.6.1)\n",
            "Requirement already satisfied: lxml in /usr/local/lib/python3.9/dist-packages (from translate) (4.9.2)\n",
            "Requirement already satisfied: libretranslatepy==2.1.1 in /usr/local/lib/python3.9/dist-packages (from translate) (2.1.1)\n",
            "Requirement already satisfied: click in /usr/local/lib/python3.9/dist-packages (from translate) (8.1.3)\n",
            "Requirement already satisfied: requests in /usr/local/lib/python3.9/dist-packages (from translate) (2.27.1)\n",
            "Requirement already satisfied: idna<4,>=2.5 in /usr/local/lib/python3.9/dist-packages (from requests->translate) (3.4)\n",
            "Requirement already satisfied: urllib3<1.27,>=1.21.1 in /usr/local/lib/python3.9/dist-packages (from requests->translate) (1.26.15)\n",
            "Requirement already satisfied: charset-normalizer~=2.0.0 in /usr/local/lib/python3.9/dist-packages (from requests->translate) (2.0.12)\n",
            "Requirement already satisfied: certifi>=2017.4.17 in /usr/local/lib/python3.9/dist-packages (from requests->translate) (2022.12.7)\n",
            "Digite uma palavra:pai\n",
            "A palavra:  pai   traduzida é: father\n"
          ]
        }
      ]
    },
    {
      "cell_type": "code",
      "source": [
        "from google.colab import drive\n",
        "drive.mount('/gdrive')\n",
        "%cd /gdrive"
      ],
      "metadata": {
        "id": "KrcRq-V33z9J"
      },
      "execution_count": null,
      "outputs": []
    },
    {
      "cell_type": "code",
      "source": [
        "class Animal:\n",
        "    def __init__(self, nome, idade):\n",
        "        self.nome = nome\n",
        "        self.idade = idade\n",
        "\n",
        "    def fazerSom(self):\n",
        "        pass\n",
        "\n",
        "\n",
        "class Gato(Animal):\n",
        "  def __init__(self, nome):\n",
        "        self.nome = nome\n",
        "\n",
        "  def fazerSom(self):\n",
        "    return 'mia'\n",
        "\n",
        "class Cachorro(Animal):\n",
        "  def __init__(self, nome):\n",
        "        self.nome = nome\n",
        "  def fazerSom(self):\n",
        "    return 'late'        \n",
        "\n",
        "gato = Gato('Mimi')\n",
        "print(gato.fazerSom()) # output: mia\n",
        "\n",
        "dog = Cachorro('Caramelo')\n",
        "print(dog.fazerSom()) # output: late\n"
      ],
      "metadata": {
        "id": "08hy77Fa4Odt",
        "colab": {
          "base_uri": "https://localhost:8080/"
        },
        "outputId": "b54271d3-2388-4230-bff1-1f5e326662ee"
      },
      "execution_count": null,
      "outputs": [
        {
          "output_type": "stream",
          "name": "stdout",
          "text": [
            "mia\n",
            "late\n"
          ]
        }
      ]
    },
    {
      "cell_type": "code",
      "source": [
        "import IPython\n",
        "js_code = '''\n",
        "document.querySelector(\"#output-area\").appendChild(document.createTextNode(\"hello world!\"));\n",
        "'''\n",
        "display(IPython.display.Javascript(js_code))"
      ],
      "metadata": {
        "id": "vtxuXOcwDyAD"
      },
      "execution_count": null,
      "outputs": []
    },
    {
      "cell_type": "code",
      "source": [
        "letras = ['a','b','c']\n",
        "numero = [1,2,3]\n",
        "juntos = letras + numeros\n",
        "for i in range(0,3):\n",
        "  juntos1 = ''.join(letras)\n",
        "  i =+ 1\n",
        "  print(juntos1,'->', end='')\n",
        "  #print(juntos)\n",
        "print('FIM', end='') "
      ],
      "metadata": {
        "colab": {
          "base_uri": "https://localhost:8080/"
        },
        "id": "KEoZR7wOyJ-F",
        "outputId": "f1545d32-04b6-4945-863b-b35c90af07ff"
      },
      "execution_count": null,
      "outputs": [
        {
          "output_type": "stream",
          "name": "stdout",
          "text": [
            "abc ->abc ->abc ->FIM"
          ]
        }
      ]
    },
    {
      "cell_type": "code",
      "source": [
        "c =1\n",
        "lista = []\n",
        "valor = ''\n",
        "\n",
        "while c != 'SAIR':\n",
        "  \n",
        "  valor = str(input('Digite um valor ou SAIR para sair ')).upper().strip()\n",
        "  if valor == 'SAIR':\n",
        "     break\n",
        "  c += 1 \n",
        " \n",
        "  lista.append(valor)\n",
        "c = c - 1     \n",
        "print(f'A lista é {lista} e tem {c} Elementos')\n",
        "print('FIM') "
      ],
      "metadata": {
        "colab": {
          "base_uri": "https://localhost:8080/"
        },
        "id": "dwhySqGRc9Ss",
        "outputId": "5e7b8137-6f8b-4ab5-ba0b-29487a9ede23"
      },
      "execution_count": null,
      "outputs": [
        {
          "output_type": "stream",
          "name": "stdout",
          "text": [
            "Digite um valor ou SAIR para sair 10\n",
            "Digite um valor ou SAIR para sair 20\n",
            "Digite um valor ou SAIR para sair sair\n",
            "A lista é ['10', '20'] e tem 2 Elementos\n",
            "FIM\n"
          ]
        }
      ]
    },
    {
      "cell_type": "code",
      "source": [
        "#cofre\n",
        "\n",
        "from time import sleep\n",
        "\n",
        "moedas = []\n",
        "moeda = 0\n",
        "quantidade_reais = 0\n",
        "quantidade_dolares = 0\n",
        "quantidade_euros = 0\n",
        "valor_total = 0\n",
        "converterDolarEmReal = 0\n",
        "converterEuroEmReal = 0\n",
        "moeda_converter = 0\n",
        "op_convercao = 0\n",
        "\n",
        "quantidade_moedas = int(input('Quantas moedas você quer adicionar?: '))\n",
        "\n",
        "for c in range(quantidade_moedas):\n",
        "   opcao = int(input('Escolha a Moeda:\\n1 - Real\\n2 - Dolar\\n3 - Euro\\n'))\n",
        "\n",
        "   if opcao == 1:\n",
        "    moeda = 'Real'\n",
        "\n",
        "   elif opcao == 2:\n",
        "    moeda = 'Dolar'\n",
        " \n",
        "   elif opcao == 3:\n",
        "    moeda = 'Euro'\n",
        "   \n",
        "   else:\n",
        "    print('Opção inválida!')\n",
        "    continue;\n",
        "\n",
        "   valor = float(input(f'Digite o valor da moeda de {moeda}: '))\n",
        "\n",
        "   nova_moeda = {'moeda': moeda, 'valor': valor}\n",
        "   \n",
        "   moedas.append(nova_moeda)\n",
        "   valor_total = valor_total + valor\n",
        "\n",
        "#print(f'{moeda} {valor} adicionado com sucesso à lista de moedas!')\n",
        "\n",
        "for moeda in moedas:\n",
        "    if moeda['moeda'] == 'Real':\n",
        "        quantidade_reais += 1\n",
        "\n",
        "    elif moeda['moeda'] == 'Dolar':\n",
        "        quantidade_dolares += 1\n",
        "        \n",
        "\n",
        "    elif moeda['moeda'] == 'Euro':\n",
        "        quantidade_euros += 1\n",
        "        \n",
        "\n",
        "        op_convercao = int(input('Deseja converter a moeda em real?  1 - Sim  2 - Não == '))\n",
        "        print('Processando opção de convesão....')\n",
        "        sleep(2)\n",
        "    while op_convercao == 1:\n",
        "        #if op_convercao == 1:\n",
        "                moeda_converter = int(input('Qual moeda deseja converter 1 - Dolar 2 - Euro  3 - Sair'))\n",
        "                print('Aguarde Processando...')\n",
        "                sleep(2);\n",
        "\n",
        "                if moeda_converter == 1:\n",
        "                         print(f'Convertendo moeda....')\n",
        "                         sleep(2)\n",
        "                         converterDolarEmReal = moeda['valor']  * 5.25\n",
        "                         print(f'Moeda Convertida {moeda[\"valor\"]}')\n",
        "\n",
        "                elif moeda_converter== 2:\n",
        "                         print(f'Convertendo moeda....')\n",
        "                         sleep(2)\n",
        "                         converterEuroEmReal = moeda['valor'] * 5.35\n",
        "                         print(f'Moeda Convertida {moeda[\"valor\"]}')\n",
        "\n",
        "                elif moeda_converter== 3:\n",
        "                         print(f'Saindo....')\n",
        "                         sleep(2)\n",
        "                         continue\n",
        "                else:\n",
        "                  print('Opção Inválida')\n",
        "                  sleep(2)\n",
        "                  print('Voltando Menu')\n",
        "                  continue;\n",
        "\n",
        "                  op_convercao = input('Deseja converter outra moeda em real? Digite Sim  OU  Não ').upper\n",
        "                  print('Processando requisção, aguarde!...')\n",
        "                  sleep(2)\n",
        "\n",
        "\n",
        "   # else:\n",
        "     # print('Voltando para o Menu')\n",
        "     # continue;\n",
        "\n",
        "\n",
        "print(f'''Foram adcionadas {quantidade_moedas} Moedas,\n",
        "{quantidade_reais} de Reais - {quantidade_dolares} de Dolar -]\n",
        "{quantidade_euros} de Euro\\n o Valor Total foi de {valor_total} Dolar Convertido {converterDolarEmReal} e Euro Convertido {converterEuroEmReal}''')\n",
        "       \n",
        "\n",
        "\n",
        "\n",
        "\n",
        "#print(f'''Foram adcionadas {quantidade_moedas} Moedas,\n",
        "#{quantidade_reais} de Reais - {quantidade_dolares} de Dolar -]\n",
        "#{quantidade_euros} de Euro\\n o Valor Total foi de {valor_total} Dolar Convertido {converterDolarEmReal} e Euro Convertido {converterEuroEmReal}''')"
      ],
      "metadata": {
        "colab": {
          "base_uri": "https://localhost:8080/",
          "height": 884
        },
        "id": "v6JRkDo1cIh5",
        "outputId": "deefcb92-4ad4-482a-8147-8e27c1d5d58c"
      },
      "execution_count": null,
      "outputs": [
        {
          "output_type": "stream",
          "name": "stdout",
          "text": [
            "Quantas moedas você quer adicionar?: 3\n",
            "Escolha a Moeda:\n",
            "1 - Real\n",
            "2 - Dolar\n",
            "3 - Euro\n",
            "2\n",
            "Digite o valor da moeda de Dolar: 3\n",
            "Escolha a Moeda:\n",
            "1 - Real\n",
            "2 - Dolar\n",
            "3 - Euro\n",
            "3\n",
            "Digite o valor da moeda de Euro: 3\n",
            "Escolha a Moeda:\n",
            "1 - Real\n",
            "2 - Dolar\n",
            "3 - Euro\n",
            "1\n",
            "Digite o valor da moeda de Real: 5\n",
            "Deseja converter a moeda em real?  1 - Sim  2 - Não == 1\n",
            "Processando opção de convesão....\n",
            "Qual moeda deseja converter 1 - Dolar 2 - Euro2\n",
            "Aguarde Processando...\n",
            "Convertendo moeda....\n",
            "Moeda Convertida 3.0\n",
            "Qual moeda deseja converter 1 - Dolar 2 - Euro1\n",
            "Aguarde Processando...\n",
            "Convertendo moeda....\n",
            "Moeda Convertida 3.0\n"
          ]
        },
        {
          "output_type": "error",
          "ename": "KeyboardInterrupt",
          "evalue": "ignored",
          "traceback": [
            "\u001b[0;31m---------------------------------------------------------------------------\u001b[0m",
            "\u001b[0;31mKeyboardInterrupt\u001b[0m                         Traceback (most recent call last)",
            "\u001b[0;32m<ipython-input-24-86369c6cdf5c>\u001b[0m in \u001b[0;36m<module>\u001b[0;34m\u001b[0m\n\u001b[1;32m     56\u001b[0m     \u001b[0;32mwhile\u001b[0m \u001b[0mop_convercao\u001b[0m \u001b[0;34m==\u001b[0m \u001b[0;36m1\u001b[0m\u001b[0;34m:\u001b[0m\u001b[0;34m\u001b[0m\u001b[0;34m\u001b[0m\u001b[0m\n\u001b[1;32m     57\u001b[0m         \u001b[0;31m#if op_convercao == 1:\u001b[0m\u001b[0;34m\u001b[0m\u001b[0;34m\u001b[0m\u001b[0m\n\u001b[0;32m---> 58\u001b[0;31m                 \u001b[0mmoeda_converter\u001b[0m \u001b[0;34m=\u001b[0m \u001b[0mint\u001b[0m\u001b[0;34m(\u001b[0m\u001b[0minput\u001b[0m\u001b[0;34m(\u001b[0m\u001b[0;34m'Qual moeda deseja converter 1 - Dolar 2 - Euro'\u001b[0m\u001b[0;34m)\u001b[0m\u001b[0;34m)\u001b[0m\u001b[0;34m\u001b[0m\u001b[0;34m\u001b[0m\u001b[0m\n\u001b[0m\u001b[1;32m     59\u001b[0m                 \u001b[0mprint\u001b[0m\u001b[0;34m(\u001b[0m\u001b[0;34m'Aguarde Processando...'\u001b[0m\u001b[0;34m)\u001b[0m\u001b[0;34m\u001b[0m\u001b[0;34m\u001b[0m\u001b[0m\n\u001b[1;32m     60\u001b[0m                 \u001b[0msleep\u001b[0m\u001b[0;34m(\u001b[0m\u001b[0;36m2\u001b[0m\u001b[0;34m)\u001b[0m\u001b[0;34m;\u001b[0m\u001b[0;34m\u001b[0m\u001b[0;34m\u001b[0m\u001b[0m\n",
            "\u001b[0;32m/usr/local/lib/python3.9/dist-packages/ipykernel/kernelbase.py\u001b[0m in \u001b[0;36mraw_input\u001b[0;34m(self, prompt)\u001b[0m\n\u001b[1;32m    858\u001b[0m                 \u001b[0;34m\"raw_input was called, but this frontend does not support input requests.\"\u001b[0m\u001b[0;34m\u001b[0m\u001b[0;34m\u001b[0m\u001b[0m\n\u001b[1;32m    859\u001b[0m             )\n\u001b[0;32m--> 860\u001b[0;31m         return self._input_request(str(prompt),\n\u001b[0m\u001b[1;32m    861\u001b[0m             \u001b[0mself\u001b[0m\u001b[0;34m.\u001b[0m\u001b[0m_parent_ident\u001b[0m\u001b[0;34m,\u001b[0m\u001b[0;34m\u001b[0m\u001b[0;34m\u001b[0m\u001b[0m\n\u001b[1;32m    862\u001b[0m             \u001b[0mself\u001b[0m\u001b[0;34m.\u001b[0m\u001b[0m_parent_header\u001b[0m\u001b[0;34m,\u001b[0m\u001b[0;34m\u001b[0m\u001b[0;34m\u001b[0m\u001b[0m\n",
            "\u001b[0;32m/usr/local/lib/python3.9/dist-packages/ipykernel/kernelbase.py\u001b[0m in \u001b[0;36m_input_request\u001b[0;34m(self, prompt, ident, parent, password)\u001b[0m\n\u001b[1;32m    902\u001b[0m             \u001b[0;32mexcept\u001b[0m \u001b[0mKeyboardInterrupt\u001b[0m\u001b[0;34m:\u001b[0m\u001b[0;34m\u001b[0m\u001b[0;34m\u001b[0m\u001b[0m\n\u001b[1;32m    903\u001b[0m                 \u001b[0;31m# re-raise KeyboardInterrupt, to truncate traceback\u001b[0m\u001b[0;34m\u001b[0m\u001b[0;34m\u001b[0m\u001b[0m\n\u001b[0;32m--> 904\u001b[0;31m                 \u001b[0;32mraise\u001b[0m \u001b[0mKeyboardInterrupt\u001b[0m\u001b[0;34m(\u001b[0m\u001b[0;34m\"Interrupted by user\"\u001b[0m\u001b[0;34m)\u001b[0m \u001b[0;32mfrom\u001b[0m \u001b[0;32mNone\u001b[0m\u001b[0;34m\u001b[0m\u001b[0;34m\u001b[0m\u001b[0m\n\u001b[0m\u001b[1;32m    905\u001b[0m             \u001b[0;32mexcept\u001b[0m \u001b[0mException\u001b[0m \u001b[0;32mas\u001b[0m \u001b[0me\u001b[0m\u001b[0;34m:\u001b[0m\u001b[0;34m\u001b[0m\u001b[0;34m\u001b[0m\u001b[0m\n\u001b[1;32m    906\u001b[0m                 \u001b[0mself\u001b[0m\u001b[0;34m.\u001b[0m\u001b[0mlog\u001b[0m\u001b[0;34m.\u001b[0m\u001b[0mwarning\u001b[0m\u001b[0;34m(\u001b[0m\u001b[0;34m\"Invalid Message:\"\u001b[0m\u001b[0;34m,\u001b[0m \u001b[0mexc_info\u001b[0m\u001b[0;34m=\u001b[0m\u001b[0;32mTrue\u001b[0m\u001b[0;34m)\u001b[0m\u001b[0;34m\u001b[0m\u001b[0;34m\u001b[0m\u001b[0m\n",
            "\u001b[0;31mKeyboardInterrupt\u001b[0m: Interrupted by user"
          ]
        }
      ]
    },
    {
      "cell_type": "code",
      "source": [
        "#cofre\n",
        "moedas = []\n",
        "moeda = 0\n",
        "quantidade_reais = 0\n",
        "quantidade_dolares = 0\n",
        "quantidade_euros = 0\n",
        "valor_total = 0\n",
        "converterDolarEmReal = 0\n",
        "converterEuroEmReal = 0\n",
        "moeda_converter = 0\n",
        "op_convercao = ' '\n",
        "\n",
        "quantidade_moedas = int(input('Quantas moedas você quer adicionar?: '))\n",
        "\n",
        "for c in range(quantidade_moedas):\n",
        "    opcao = int(input('Escolha a Moeda:\\n1 - Real\\n2 - Dolar\\n3 - Euro\\n'))\n",
        "\n",
        "    if opcao == 1:\n",
        "        moeda = 'Real'\n",
        "    elif opcao == 2:\n",
        "        moeda = 'Dolar'\n",
        "    elif opcao == 3:\n",
        "        moeda = 'Euro'\n",
        "    else:\n",
        "        print('Opção inválida!')\n",
        "\n",
        "    valor = float(input(f'Digite o valor da moeda de {moeda}: '))\n",
        "\n",
        "    nova_moeda = {'moeda': moeda, 'valor': valor}\n",
        "\n",
        "    moedas.append(nova_moeda)\n",
        "    valor_total = valor_total + valor\n",
        "\n",
        "#print(f'{moeda} {valor} adicionado com sucesso à lista de moedas!')\n",
        "\n",
        "for moeda in moedas:\n",
        "    if moeda['moeda'] == 'Real':\n",
        "        quantidade_reais += 1\n",
        "    elif moeda['moeda'] == 'Dolar':\n",
        "        quantidade_dolares += 1\n",
        "    elif moeda['moeda'] == 'Euro':\n",
        "        quantidade_euros += 1\n",
        "\n",
        "    op_convercao = input('Deseja converter um moeda em real?Digite  Sim ou Não  ').upper()\n",
        "    while op_convercao == 'SIM':\n",
        "        moeda_converter = input('Qual moeda deseja converter? Dolar , Euro?  Ou Digite Sair para sair').upper()\n",
        "\n",
        "        if moeda_converter == 'DOLAR':\n",
        "            converterDolarEmReal = moeda['valor'] * 5.25\n",
        "            print('Convertendo valores, aguarde...')\n",
        "            sleep(2)\n",
        "            print(f'Moeda de US$ {moeda[\"valor\"]} Convertida com sucesso ')\n",
        "\n",
        "        elif moeda_converter == 'EURO':\n",
        "            converterEuroEmReal = moeda['valor'] * 5.35\n",
        "            print('Convertendo valores, aguarde...')\n",
        "            sleep(2)\n",
        "            print(f'Moeda de € {moeda[\"valor\"]} Convertida com sucesso ')\n",
        "\n",
        "        elif moeda_converter == 'SAIR':\n",
        "\n",
        "          print('Inciando Menu....')\n",
        "          sleep(2)\n",
        "          continue\n",
        "\n",
        "        else:\n",
        "            print('Opção Inválida')\n",
        "            continue\n",
        "\n",
        "        op_convercao = input('Deseja converter outra moeda em real? Digite Sim  OU  Não ').upper\n",
        "        print('Processando requisção, aguarde!...')\n",
        "        sleep(2)\n",
        "\n",
        "print(f'''Foram adicionadas {quantidade_moedas} Moedas\\n,\n",
        "{quantidade_reais} de Reais - {quantidade_dolares} de Dolar\\n -\n",
        "{quantidade_euros} de Euro.\n",
        "O Valor Total depositado foi de {valor_total}\\n - O Valor do Dolar Convertido US$,{converterDolarEmReal:.2f}\\n e o valor do Euro Convertido €{converterEuroEmReal:.2f}''')"
      ],
      "metadata": {
        "colab": {
          "base_uri": "https://localhost:8080/"
        },
        "id": "cxUhDP1NV8Cl",
        "outputId": "b092fece-9371-4bc3-df15-dfcdfa7cdc03"
      },
      "execution_count": null,
      "outputs": [
        {
          "output_type": "stream",
          "name": "stdout",
          "text": [
            "Quantas moedas você quer adicionar?: 3\n",
            "Escolha a Moeda:\n",
            "1 - Real\n",
            "2 - Dolar\n",
            "3 - Euro\n",
            "1\n",
            "Digite o valor da moeda de Real: 5\n",
            "Escolha a Moeda:\n",
            "1 - Real\n",
            "2 - Dolar\n",
            "3 - Euro\n",
            "2\n",
            "Digite o valor da moeda de Dolar: 10\n",
            "Escolha a Moeda:\n",
            "1 - Real\n",
            "2 - Dolar\n",
            "3 - Euro\n",
            "3\n",
            "Digite o valor da moeda de Euro: 10\n",
            "Deseja converter a moeda em real? 1 - Sim 2 - Não == 1\n",
            "Qual moeda deseja converter? 1 - Dolar 2 - Euro  3 - Sair1\n",
            "Convertendo valores, aguarde...\n",
            "Moeda de US$ 5.0 Convertida com sucesso \n",
            "Deseja converter outra moeda em real? 1 - Sim 2 - Não == 1\n",
            "Processando requisção, aguarde!...\n",
            "Deseja converter a moeda em real? 1 - Sim 2 - Não == 1\n",
            "Qual moeda deseja converter? 1 - Dolar 2 - Euro  3 - Sair2\n",
            "Convertendo valores, aguarde...\n",
            "Moeda de € 10.0 Convertida com sucesso \n",
            "Deseja converter outra moeda em real? 1 - Sim 2 - Não == 2\n",
            "Processando requisção, aguarde!...\n",
            "Deseja converter a moeda em real? 1 - Sim 2 - Não == 2\n",
            "Foram adicionadas 3 Moedas\n",
            ",\n",
            "1 de Reais\n",
            " - 1 de Dolar\n",
            " -\n",
            "1 de Euro.\n",
            "\n",
            "O Valor Total foi de 25.0 - \n",
            "o Valor do Dolar Convertido US$,26.25\n",
            " e o valor do Euro Convertido €53.50\n"
          ]
        }
      ]
    },
    {
      "cell_type": "code",
      "source": [
        "(( 10 / 2  ) > 5 ) or not ( 3 < 2 )"
      ],
      "metadata": {
        "colab": {
          "base_uri": "https://localhost:8080/"
        },
        "id": "Bdr7cEdmvZxy",
        "outputId": "84e36f8c-b2c5-469d-db16-726b74162d0a"
      },
      "execution_count": null,
      "outputs": [
        {
          "output_type": "execute_result",
          "data": {
            "text/plain": [
              "True"
            ]
          },
          "metadata": {},
          "execution_count": 12
        }
      ]
    },
    {
      "cell_type": "code",
      "source": [
        "numbers = [1, 2, 3, 4, 5]\n",
        "for num in numbers:\n",
        "  if num == 3:\n",
        "   continue\n",
        "   print(num)\n",
        "  else:\n",
        "   print(\"Done\")"
      ],
      "metadata": {
        "colab": {
          "base_uri": "https://localhost:8080/"
        },
        "id": "yQh2ogXRu-f8",
        "outputId": "52816823-4446-487f-ff6f-db7f809a9ed0"
      },
      "execution_count": null,
      "outputs": [
        {
          "output_type": "stream",
          "name": "stdout",
          "text": [
            "Done\n",
            "Done\n",
            "Done\n",
            "Done\n"
          ]
        }
      ]
    },
    {
      "cell_type": "code",
      "source": [
        "!pip install scapy\n",
        "\n",
        "from scapy.all import *\n",
        "\n",
        "def packet_callback(packet):\n",
        "    print(packet.summary())\n",
        "\n",
        "def packet_callback(packet):\n",
        "    src_ip = packet[IP].src\n",
        "    dst_ip = packet[IP].dst\n",
        "    print(f\"Source IP: {src_ip}, Destination IP: {dst_ip}\")    \n",
        "\n",
        "sniff(prn=packet_callback, count=10)"
      ],
      "metadata": {
        "colab": {
          "base_uri": "https://localhost:8080/"
        },
        "id": "Q0q8XJlqwib4",
        "outputId": "6ef59a42-142f-4b8e-c1ac-eb89d81ec7b8"
      },
      "execution_count": null,
      "outputs": [
        {
          "output_type": "stream",
          "name": "stdout",
          "text": [
            "Looking in indexes: https://pypi.org/simple, https://us-python.pkg.dev/colab-wheels/public/simple/\n",
            "Collecting scapy\n",
            "  Downloading scapy-2.5.0.tar.gz (1.3 MB)\n",
            "\u001b[2K     \u001b[90m━━━━━━━━━━━━━━━━━━━━━━━━━━━━━━━━━━━━━━━━\u001b[0m \u001b[32m1.3/1.3 MB\u001b[0m \u001b[31m15.1 MB/s\u001b[0m eta \u001b[36m0:00:00\u001b[0m\n",
            "\u001b[?25h  Preparing metadata (setup.py) ... \u001b[?25l\u001b[?25hdone\n",
            "Building wheels for collected packages: scapy\n",
            "  Building wheel for scapy (setup.py) ... \u001b[?25l\u001b[?25hdone\n",
            "  Created wheel for scapy: filename=scapy-2.5.0-py2.py3-none-any.whl size=1444346 sha256=4e8aadbaef4bd0bd1c477ac0168b3e17f2313e8eb842b521a7026db4cb53fe3b\n",
            "  Stored in directory: /root/.cache/pip/wheels/dd/1b/47/d46b1a87e339be501612cf4cd1bf57742e534f9c9aac7b00d6\n",
            "Successfully built scapy\n",
            "Installing collected packages: scapy\n",
            "Successfully installed scapy-2.5.0\n",
            "Source IP: 172.28.0.1, Destination IP: 172.28.0.12\n",
            "Source IP: 172.28.0.12, Destination IP: 172.28.0.1\n",
            "Source IP: 172.28.0.12, Destination IP: 172.28.0.1\n",
            "Source IP: 172.28.0.1, Destination IP: 172.28.0.12\n",
            "Source IP: 172.28.0.1, Destination IP: 172.28.0.12\n",
            "Source IP: 172.28.0.12, Destination IP: 172.28.0.1\n",
            "Source IP: 172.28.0.12, Destination IP: 172.28.0.1\n",
            "Source IP: 172.28.0.1, Destination IP: 172.28.0.12\n",
            "Source IP: 172.28.0.1, Destination IP: 172.28.0.12\n",
            "Source IP: 172.28.0.12, Destination IP: 172.28.0.1\n"
          ]
        },
        {
          "output_type": "execute_result",
          "data": {
            "text/plain": [
              "<Sniffed: TCP:10 UDP:0 ICMP:0 Other:0>"
            ]
          },
          "metadata": {},
          "execution_count": 1
        }
      ]
    },
    {
      "cell_type": "code",
      "source": [
        "print(\"+\" + 10 * \"-\" + \"+\")\n",
        "print((\"|\" + \" \" * 10 + \"|\\n\") * 5, end=\"\")\n",
        "print(\"+\" + 10 * \"-\" + \"+\")"
      ],
      "metadata": {
        "id": "biGuzDkDTy7p"
      },
      "execution_count": null,
      "outputs": []
    },
    {
      "cell_type": "code",
      "source": [
        "\n",
        "import pprint\n",
        "\n",
        "\n",
        "\n",
        "nums = {4: 1, 3: 2, 1: 1, 2: 3}\n",
        "\n",
        "\n",
        "\n",
        "pprint.pprint(nums, sort_dicts=True)"
      ],
      "metadata": {
        "colab": {
          "base_uri": "https://localhost:8080/"
        },
        "id": "AQd5qbhwdC8b",
        "outputId": "c11ac5af-63ac-48c0-8b8c-10a7562395c2"
      },
      "execution_count": null,
      "outputs": [
        {
          "output_type": "stream",
          "name": "stdout",
          "text": [
            "{1: 1, 2: 3, 3: 2, 4: 1}\n"
          ]
        }
      ]
    },
    {
      "cell_type": "code",
      "source": [
        "palavra = 'abc'*3\n",
        "for i in palavra.split(','):\n",
        "  print(i)"
      ],
      "metadata": {
        "id": "z_VM9_J5prYO",
        "outputId": "30c761bc-1b39-4f08-b525-7b0635a4bd33",
        "colab": {
          "base_uri": "https://localhost:8080/"
        }
      },
      "execution_count": null,
      "outputs": [
        {
          "output_type": "stream",
          "name": "stdout",
          "text": [
            "abcabcabc\n"
          ]
        }
      ]
    },
    {
      "cell_type": "code",
      "source": [
        "x = 1\n",
        "y = 1.0\n",
        "z = \"1\"\n",
        "\n",
        "if x == y:\n",
        "    print(\"one\")\n",
        "if y == int(z):\n",
        "    print(\"two\")\n",
        "elif x == y:\n",
        "    print(\"three\")\n",
        "else:\n",
        "    print(\"four\")"
      ],
      "metadata": {
        "colab": {
          "base_uri": "https://localhost:8080/"
        },
        "id": "RmusP99SXh4F",
        "outputId": "4e293801-f108-4594-dc93-924cfad58e3a"
      },
      "execution_count": null,
      "outputs": [
        {
          "output_type": "stream",
          "name": "stdout",
          "text": [
            "one\n",
            "two\n"
          ]
        }
      ]
    },
    {
      "cell_type": "code",
      "source": [
        "# Store the current largest number here.\n",
        "largest_number = -999999999\n",
        "\n",
        "# Input the first value.\n",
        "number = int(input(\"Enter a number or type -1 to stop: \"))\n",
        "\n",
        "# If the number is not equal to -1, continue.\n",
        "while number != -1:\n",
        "    # Is number larger than largest_number?\n",
        "    if number > largest_number:\n",
        "        # Yes, update largest_number.\n",
        "        largest_number = number\n",
        "    # Input the next number.\n",
        "    number = int(input(\"Enter a number or type -1 to stop: \"))\n",
        "\n",
        "# Print the largest number.\n",
        "print(\"The largest number is:\", largest_number)"
      ],
      "metadata": {
        "colab": {
          "base_uri": "https://localhost:8080/"
        },
        "id": "gMI1jH80Hi_u",
        "outputId": "14c3a01f-1c72-4f46-e4cc-83ace5824756"
      },
      "execution_count": null,
      "outputs": [
        {
          "output_type": "stream",
          "name": "stdout",
          "text": [
            "Enter a number or type -1 to stop: 250\n",
            "Enter a number or type -1 to stop: 1\n",
            "Enter a number or type -1 to stop: -1\n",
            "The largest number is: 250\n"
          ]
        }
      ]
    },
    {
      "cell_type": "code",
      "source": [
        "# A program that reads a sequence of numbers\n",
        "# and counts how many numbers are even and how many are odd.\n",
        "# The program terminates when zero is entered.\n",
        "\n",
        "odd_numbers = 0\n",
        "even_numbers = 0\n",
        "\n",
        "# Read the first number.\n",
        "number = int(input(\"Enter a number or type 0 to stop: \"))\n",
        "\n",
        "# 0 terminates execution.\n",
        "while number != 0:\n",
        "    # Check if the number is odd.\n",
        "    if number % 2 == 1:\n",
        "        # Increase the odd_numbers counter.\n",
        "        odd_numbers += 1\n",
        "    else:\n",
        "        # Increase the even_numbers counter.\n",
        "        even_numbers += 1\n",
        "    # Read the next number.\n",
        "    number = int(input(\"Enter a number or type 0 to stop: \"))\n",
        "\n",
        "# Print results.\n",
        "print(\"Odd numbers count:\", odd_numbers)\n",
        "print(\"Even numbers count:\", even_numbers)"
      ],
      "metadata": {
        "colab": {
          "base_uri": "https://localhost:8080/"
        },
        "id": "JSWCoBK7IVo1",
        "outputId": "acb5f13e-198f-4ef0-ef89-41786ee06963"
      },
      "execution_count": null,
      "outputs": [
        {
          "output_type": "stream",
          "name": "stdout",
          "text": [
            "Enter a number or type 0 to stop: 24\n",
            "Enter a number or type 0 to stop: 20\n",
            "Enter a number or type 0 to stop: 19\n",
            "Enter a number or type 0 to stop: 33\n",
            "Enter a number or type 0 to stop: 0\n",
            "Odd numbers count: 2\n",
            "Even numbers count: 2\n"
          ]
        }
      ]
    },
    {
      "cell_type": "code",
      "source": [
        "counter = 5\n",
        "while counter != 0:\n",
        "    print(\"Inside the loop.\", counter)\n",
        "    counter -= 1\n",
        "print(\"Outside the loop.\", counter)"
      ],
      "metadata": {
        "colab": {
          "base_uri": "https://localhost:8080/"
        },
        "id": "cG0PqPsQI4WV",
        "outputId": "241ab7c7-f203-4f75-db9d-858f4e1853aa"
      },
      "execution_count": null,
      "outputs": [
        {
          "output_type": "stream",
          "name": "stdout",
          "text": [
            "Inside the loop. 5\n",
            "Inside the loop. 4\n",
            "Inside the loop. 3\n",
            "Inside the loop. 2\n",
            "Inside the loop. 1\n",
            "Outside the loop. 0\n"
          ]
        }
      ]
    },
    {
      "cell_type": "code",
      "source": [
        "secret = 777\n",
        "print(\n",
        "\"\"\"\n",
        "+================================+\n",
        "| Welcome to my game, muggle!    |\n",
        "| Enter an integer number        |\n",
        "| and guess what number I've     |\n",
        "| picked for you.                |\n",
        "| So, what is the secret number? |\n",
        "+================================+\n",
        "\"\"\")\n",
        "number = int(input('Digite um numero ' ))\n",
        "\n",
        "while number != secret:\n",
        "    \n",
        "    if number == secret:\n",
        "        print('Ha ha! You are stuck in my loop!')\n",
        "       \n",
        "    \n",
        "    elif number != secret:\n",
        "        number = int(input('Você errou digite um numero novamente ' ))\n",
        "\n",
        "    else:\n",
        "        print('Numero invalido')\n",
        "        continue\n",
        "        \n",
        "\n",
        "print('\"Well done, muggle! You are free now.\"')"
      ],
      "metadata": {
        "colab": {
          "base_uri": "https://localhost:8080/"
        },
        "id": "eV97erk-MPQl",
        "outputId": "8c0cc3af-4784-410b-e8d0-a7178f012dee"
      },
      "execution_count": null,
      "outputs": [
        {
          "output_type": "stream",
          "name": "stdout",
          "text": [
            "\n",
            "+================================+\n",
            "| Welcome to my game, muggle!    |\n",
            "| Enter an integer number        |\n",
            "| and guess what number I've     |\n",
            "| picked for you.                |\n",
            "| So, what is the secret number? |\n",
            "+================================+\n",
            "\n",
            "Digite um numero100\n",
            "Digite um numero novamente777\n",
            "\"Well done, muggle! You are free now.\"\n"
          ]
        }
      ]
    },
    {
      "cell_type": "code",
      "source": [
        "for i in range(100):\n",
        "    # do_something()\n",
        "    print('pass')"
      ],
      "metadata": {
        "id": "B9LbvwvcM-fe"
      },
      "execution_count": null,
      "outputs": []
    },
    {
      "cell_type": "code",
      "source": [
        "from time import sleep\n",
        "\n",
        "for i in range(0,6):\n",
        "    print(f'{i} Mississipi!')\n",
        "    sleep(1)\n",
        "\n",
        "# Write a for loop that counts to five.\n",
        "    # Body of the loop - print the loop iteration number and the word \"Mississippi\".\n",
        "    # Body of the loop - use: time.sleep(1)\n",
        "\n",
        "# Write a print function with the final message."
      ],
      "metadata": {
        "id": "UpJo5RFIPKYH",
        "outputId": "de0dbab0-0c23-4d1e-a6f2-0262523ac7c5",
        "colab": {
          "base_uri": "https://localhost:8080/"
        }
      },
      "execution_count": null,
      "outputs": [
        {
          "output_type": "stream",
          "name": "stdout",
          "text": [
            "0 Mississipi!\n",
            "1 Mississipi!\n",
            "2 Mississipi!\n",
            "3 Mississipi!\n",
            "4 Mississipi!\n",
            "5 Mississipi!\n"
          ]
        }
      ]
    },
    {
      "cell_type": "code",
      "source": [
        "largest_number = -99999999\n",
        "counter = 0\n",
        "\n",
        "while True:\n",
        "    number = int(input(\"Enter a number or type -1 to end program: \"))\n",
        "    if number == -1:\n",
        "        break\n",
        "    counter += 1\n",
        "    if number > largest_number:\n",
        "        largest_number = number\n",
        "\n",
        "if counter != 0:\n",
        "    print(\"The largest number is\", largest_number ,'o programa foi executado',counter,'vezes')\n",
        "else:\n",
        "    print(\"You haven't entered any number.\")"
      ],
      "metadata": {
        "colab": {
          "base_uri": "https://localhost:8080/"
        },
        "id": "VP_IMQubSEWU",
        "outputId": "00b062a5-d467-44a0-946c-f6a814ad1458"
      },
      "execution_count": null,
      "outputs": [
        {
          "output_type": "stream",
          "name": "stdout",
          "text": [
            "Enter a number or type -1 to end program: 25\n",
            "Enter a number or type -1 to end program: 10\n",
            "Enter a number or type -1 to end program: -1\n",
            "The largest number is 25 o programa foi executado  2 vezes\n"
          ]
        }
      ]
    },
    {
      "cell_type": "code",
      "source": [
        "secreta = 'chupacabra'\n",
        "palavra = input('Digite uma palavra ')\n",
        "\n",
        "while True :\n",
        "    \n",
        "    if palavra == secreta:\n",
        "        print(\"You've successfully left the loop.\")\n",
        "        break\n",
        "    else: \n",
        "        palavra = input('Digite uma palavra novamente ')"
      ],
      "metadata": {
        "id": "ubt30aRaThcM"
      },
      "execution_count": null,
      "outputs": []
    },
    {
      "cell_type": "code",
      "source": [
        "# Prompt the user to enter a word\n",
        "# and assign it to the user_word variable.\n",
        "user_word = input('Digite uma palavra ').upper()\n",
        "\n",
        "for letter in user_word:\n",
        "    # Complete the body of the for loop.\n",
        "    if letter in ['A', 'E', 'I', 'O', 'U']:\n",
        "        # se a letra for uma vogal, pula para a próxima iteração do loop\n",
        "        continue\n",
        "    print(letter)    \n"
      ],
      "metadata": {
        "colab": {
          "base_uri": "https://localhost:8080/"
        },
        "id": "cUt_umKVXh5d",
        "outputId": "4cb5691a-2e7e-4b8e-f03d-43f6dc9f0fd0"
      },
      "execution_count": null,
      "outputs": [
        {
          "output_type": "stream",
          "name": "stdout",
          "text": [
            "(1, 'Andy', 17, [90, 97, 96])\n"
          ]
        }
      ]
    },
    {
      "cell_type": "code",
      "source": [
        "word_without_vowels = \"\"\n",
        "\n",
        "# Prompt the user to enter a word\n",
        "# and assign it to the user_word variable.\n",
        "user_word = input(\"Introduza uma palavra: \").upper()\n",
        "\n",
        "\n",
        "for letter in user_word:\n",
        "    # Complete the body of the loop.\n",
        "\n",
        "# Print the word assigned to word_without_vowels.\n",
        " # Execução condicional para ignorar as vogais\n",
        "    if letter == \"A\":\n",
        "        continue\n",
        "    elif letter == \"E\":\n",
        "        continue\n",
        "    elif letter == \"I\":\n",
        "        continue\n",
        "    elif letter == \"O\":\n",
        "        continue\n",
        "    elif letter == \"U\":\n",
        "        continue\n",
        "    else:\n",
        "        # Concatenar as letras não vogais numa string\n",
        "        word_without_vowels += letter\n",
        "\n",
        "# Imprimir a palavra sem as vogais\n",
        "print(word_without_vowels)"
      ],
      "metadata": {
        "id": "0eHyTnxYbjH0"
      },
      "execution_count": null,
      "outputs": []
    },
    {
      "cell_type": "code",
      "source": [
        "def fun_x(x):\n",
        "    x=x+'2'\n",
        "    x=x*2\n",
        "    return x\n",
        "print(fun_x('python'))"
      ],
      "metadata": {
        "id": "ap6k4v5HzDf6",
        "outputId": "0ae69db5-f386-42a9-83e5-a7e155a3ce5f",
        "colab": {
          "base_uri": "https://localhost:8080/"
        }
      },
      "execution_count": null,
      "outputs": [
        {
          "output_type": "stream",
          "name": "stdout",
          "text": [
            "python2python2\n"
          ]
        }
      ]
    },
    {
      "cell_type": "code",
      "source": [
        "for i in range(10,-1,-1):\n",
        "   s = i\n",
        "   print(s)\n",
        "    "
      ],
      "metadata": {
        "id": "E5helCVaH7tR",
        "outputId": "8028af2d-706c-4a7d-b813-c374751f89ad",
        "colab": {
          "base_uri": "https://localhost:8080/"
        }
      },
      "execution_count": null,
      "outputs": [
        {
          "output_type": "stream",
          "name": "stdout",
          "text": [
            "10\n",
            "9\n",
            "8\n",
            "7\n",
            "6\n",
            "5\n",
            "4\n",
            "3\n",
            "2\n",
            "1\n",
            "0\n"
          ]
        }
      ]
    },
    {
      "cell_type": "code",
      "source": [
        "nums = [10, 20, 30]\n",
        "temp =nums\n",
        "nums.append(temp)\n",
        "print(nums)"
      ],
      "metadata": {
        "id": "i5mK00EVd06Z",
        "outputId": "a90a5448-2e84-46a7-9d57-e6ba86b46cc8",
        "colab": {
          "base_uri": "https://localhost:8080/"
        }
      },
      "execution_count": null,
      "outputs": [
        {
          "output_type": "stream",
          "name": "stdout",
          "text": [
            "[10, 20, 30, [...]]\n"
          ]
        }
      ]
    },
    {
      "cell_type": "code",
      "source": [
        "def func(x):\n",
        " x[0]='def'\n",
        " x[1]='abc'\n",
        " return id(x)\n",
        "q = ['abc', 'def']\n",
        "print(id(q) == func(q))"
      ],
      "metadata": {
        "id": "PacSypDwiZYp",
        "outputId": "982dd642-844f-4f39-f175-70a46f37c48c",
        "colab": {
          "base_uri": "https://localhost:8080/"
        }
      },
      "execution_count": null,
      "outputs": [
        {
          "output_type": "stream",
          "name": "stdout",
          "text": [
            "True\n"
          ]
        }
      ]
    },
    {
      "cell_type": "code",
      "source": [
        "s = \"1234\"\n",
        "print(list(s))\n"
      ],
      "metadata": {
        "id": "sUAQnxUzjS-Y",
        "outputId": "ab9596e3-a488-497b-80de-8c4452206430",
        "colab": {
          "base_uri": "https://localhost:8080/"
        }
      },
      "execution_count": null,
      "outputs": [
        {
          "output_type": "stream",
          "name": "stdout",
          "text": [
            "['1', '2', '3', '4']\n"
          ]
        }
      ]
    },
    {
      "cell_type": "code",
      "source": [
        "#manipulando arquvios\n",
        "\n",
        "def escrever_arquivo():\n",
        "    nome_arquivo = input(\"Digite o nome do arquivo: \")\n",
        "    conteudo = input(\"Digite o conteúdo do arquivo: \")\n",
        "\n",
        "    with open(nome_arquivo, 'w') as arquivo:\n",
        "        arquivo.write(conteudo)\n",
        "        print(f\"Arquivo {nome_arquivo} salvo com sucesso!\")\n",
        "\n",
        "def ler_arquivo():\n",
        "    nome_arquivo = input(\"Digite o nome do arquivo: \")\n",
        "\n",
        "    with open(nome_arquivo, 'r') as arquivo:\n",
        "        conteudo = arquivo.read()\n",
        "        print(conteudo)        \n",
        "\n",
        "escrever_arquivo()  \n",
        "ler_arquivo()      "
      ],
      "metadata": {
        "colab": {
          "base_uri": "https://localhost:8080/"
        },
        "id": "-Ut8Wlu9chq6",
        "outputId": "6d8fab3d-24c4-43e0-a35e-1133b978c9c6"
      },
      "execution_count": null,
      "outputs": [
        {
          "output_type": "stream",
          "name": "stdout",
          "text": [
            "Digite o nome do arquivo: davi\n",
            "Digite o conteúdo do arquivo: teste\n",
            "Arquivo davi salvo com sucesso!\n",
            "Digite o nome do arquivo: davi\n",
            "teste\n"
          ]
        }
      ]
    },
    {
      "cell_type": "code",
      "source": [
        "#We need a function that can transform a number (integer) into a string.\n",
        "\n",
        "#What ways of achieving this do you know?\n",
        "\n",
        "'''Examples (input --> output):\n",
        "123  --> \"123\"\n",
        "999  --> \"999\"\n",
        "-100 --> \"-100\"'''\n",
        "\n",
        "number = int(input('Digite um numero: '))\n",
        "number2 = str(number)\n",
        "print(number2)"
      ],
      "metadata": {
        "id": "TG285WM1iCtx",
        "colab": {
          "base_uri": "https://localhost:8080/"
        },
        "outputId": "529993f3-e3b4-44a2-93de-0fb1e1e8984b"
      },
      "execution_count": null,
      "outputs": [
        {
          "output_type": "stream",
          "name": "stdout",
          "text": [
            "Digite um numero: 5\n",
            "number\n"
          ]
        }
      ]
    },
    {
      "cell_type": "code",
      "source": [
        "a = int(input('Digite: '))\n",
        "b = int(input('Digite: '))\n",
        "\n",
        "c = a // b\n",
        "d = a / b\n",
        "print(c)\n",
        "print(d)"
      ],
      "metadata": {
        "colab": {
          "base_uri": "https://localhost:8080/"
        },
        "id": "kdMjJ4UfRNUl",
        "outputId": "692e6970-c506-4957-ac98-e82fc21b9a22"
      },
      "execution_count": null,
      "outputs": [
        {
          "output_type": "stream",
          "name": "stdout",
          "text": [
            "Digite: 4\n",
            "Digite: 6\n",
            "0\n",
            "0.6666666666666666\n"
          ]
        }
      ]
    },
    {
      "cell_type": "code",
      "source": [
        "if __name__ == '__main__':\n",
        "    n = int(input())\n",
        "    seq = ''.join(str(i) \n",
        "    for i in range(1, n+1))\n",
        "    print(seq)"
      ],
      "metadata": {
        "colab": {
          "base_uri": "https://localhost:8080/"
        },
        "id": "L0NY3XaMhHya",
        "outputId": "cc6f6b07-6b14-47b1-f996-534168941669"
      },
      "execution_count": null,
      "outputs": [
        {
          "output_type": "stream",
          "name": "stdout",
          "text": [
            "5\n",
            "12345\n"
          ]
        }
      ]
    },
    {
      "cell_type": "code",
      "source": [
        "#listando repositórios do GitHub\n",
        "\n",
        "import requests\n",
        "\n",
        "class ListaRepositorio():\n",
        "    \n",
        "    def __init__(self,usuario):\n",
        "        self._usuario = usuario\n",
        "        \n",
        "        \n",
        "    def requisicao_api(self):\n",
        "        \n",
        "        resposta = requests.get( f'https://api.github.com/users/{self._usuario}/repos')\n",
        "        \n",
        "        if resposta.status_code == 200:\n",
        "            return resposta.json()\n",
        "        else:\n",
        "            return resposta.status_code    \n",
        "        \n",
        "    def imprime_repositorios(self):\n",
        "        \n",
        "        dados_api = self.requisicao_api()\n",
        "        \n",
        "        if type(dados_api) is not int:\n",
        "            for i in range(len(dados_api)):\n",
        "                print(dados_api[i]['name'])\n",
        "        else:\n",
        "            print(dados_api)\n",
        "            \n",
        "            \n",
        "repositorios = ListaRepositorio('VonBeckera')\n",
        "repositorios.imprime_repositorios() "
      ],
      "metadata": {
        "colab": {
          "base_uri": "https://localhost:8080/"
        },
        "id": "nd4Hp3WsAWIW",
        "outputId": "f65a61d1-9ad5-4107-eb43-0f2b5c411d35"
      },
      "execution_count": null,
      "outputs": [
        {
          "output_type": "stream",
          "name": "stdout",
          "text": [
            "Eclipse\n",
            "Python\n",
            "Teste\n"
          ]
        }
      ]
    },
    {
      "cell_type": "code",
      "source": [
        "pip install flask\n",
        "pip install pandas\n",
        "pip install watchdog\n",
        "pip install xlsxwriter\n",
        "\n",
        "from flask import Flask, request, jsonify\n",
        "import pandas as pd\n",
        "import os\n",
        "\n",
        "app = Flask(__name__)\n",
        "\n",
        "# Define o caminho para o arquivo Excel\n",
        "excel_path = 'caminho/para/o/arquivo/excel.xlsx'\n",
        "\n",
        "# Lê os dados do Excel\n",
        "df = pd.read_excel(excel_path)\n",
        "\n",
        "# Define a rota para receber os dados do Excel\n",
        "@app.route('/update', methods=['POST'])\n",
        "def update_excel():\n",
        "    global df\n",
        "\n",
        "    # Lê os dados enviados via POST\n",
        "    data = request.json\n",
        "\n",
        "    # Atualiza o dataframe com os novos dados\n",
        "    df = pd.DataFrame(data)\n",
        "\n",
        "    # Salva os dados no arquivo Excel\n",
        "    writer = pd.ExcelWriter(excel_path, engine='xlsxwriter')\n",
        "    df.to_excel(writer, index=False)\n",
        "    writer.save()\n",
        "\n",
        "    return jsonify({'status': 'success'})\n",
        "\n",
        "# Define a rota para retornar os dados do Excel\n",
        "@app.route('/data')\n",
        "def get_data():\n",
        "    global df\n",
        "    return df.to_json(orient='records')\n",
        "\n",
        "if __name__ == '__main__':\n",
        "    app.run(debug=True)"
      ],
      "metadata": {
        "colab": {
          "base_uri": "https://localhost:8080/"
        },
        "id": "Wc2FzqzBtNF-",
        "outputId": "fcc5a607-9835-4bc4-c940-c700a646c344"
      },
      "execution_count": null,
      "outputs": [
        {
          "output_type": "stream",
          "name": "stdout",
          "text": [
            "Erro ao acessar a API: 404\n"
          ]
        }
      ]
    },
    {
      "cell_type": "markdown",
      "source": [
        "CURSO EM VÍDEO -> MUNDO 03\n"
      ],
      "metadata": {
        "id": "JI0Dt9-RGXZU"
      }
    },
    {
      "cell_type": "code",
      "source": [
        "#TUPLAS#COmeçam com ()\n",
        "\n",
        "lanches = ('Hamburguer','Suco','Pizza','Pudim','Batata Frita')\n",
        "#print(lanches)\n",
        "#print(lanches[0])\n",
        "#print(lanches[:2])\n",
        "#print(lanches[2:])\n",
        "#print(lanches[-2])\n",
        "#print(lanches[1:3])\n",
        "#print(lanches[1:2:1])\n",
        "\n",
        "#imprimir a tupla sem posição\n",
        "for cont in lanches:\n",
        "  print(cont)\n",
        "\n",
        "print('=='*30)\n",
        "#imprimir usando o elemento da tupla com sua posição impressa\n",
        "for cont in range(0,len(lanches)):\n",
        "  print(f'Eu comi: {lanches[cont]} posição: {cont}')\n",
        "\n",
        "print('=='*30)\n",
        "#imprimir usando o elemento da tupla com sua posição impressa usando enumerate\n",
        "for pos,cont in enumerate(lanches):\n",
        "  print(f'Eu comi: {cont} na posicção {pos}')\n",
        "\n",
        "print('=='*30)\n",
        "\n",
        "#colocando a tupla para exibir elementos em ordem\n",
        "print(sorted(lanches))\n",
        "\n",
        "print('=='*30)\n",
        "'''\n",
        "for i in lanches:\n",
        "  print(i)\n",
        "\n",
        "testar = 'Refri' not in lanches\n",
        "testar2 = 'Refri' in lanches\n",
        "\n",
        "if testar == True:\n",
        "  print('e verdadeiro que Refri não faz parte da lista')\n",
        "if testar2 == False:\n",
        "  print('Refri não faz parte da lista')  \n",
        "\n",
        "print(testar)\n",
        "print(testar2)'''"
      ],
      "metadata": {
        "colab": {
          "base_uri": "https://localhost:8080/",
          "height": 400
        },
        "id": "RoCA_HOuGdAq",
        "outputId": "7dbdfa5f-79bd-4341-9c2e-76d413c133b2"
      },
      "execution_count": null,
      "outputs": [
        {
          "output_type": "stream",
          "name": "stdout",
          "text": [
            "Hamburguer\n",
            "Suco\n",
            "Pizza\n",
            "Pudim\n",
            "Batata Frita\n",
            "============================================================\n",
            "Eu comi: Hamburguer posição: 0\n",
            "Eu comi: Suco posição: 1\n",
            "Eu comi: Pizza posição: 2\n",
            "Eu comi: Pudim posição: 3\n",
            "Eu comi: Batata Frita posição: 4\n",
            "============================================================\n",
            "Eu comi: Hamburguer na posicção 0\n",
            "Eu comi: Suco na posicção 1\n",
            "Eu comi: Pizza na posicção 2\n",
            "Eu comi: Pudim na posicção 3\n",
            "Eu comi: Batata Frita na posicção 4\n",
            "============================================================\n",
            "['Batata Frita', 'Hamburguer', 'Pizza', 'Pudim', 'Suco']\n",
            "============================================================\n"
          ]
        },
        {
          "output_type": "execute_result",
          "data": {
            "text/plain": [
              "\"\\nfor i in lanches:\\n  print(i)\\n\\ntestar = 'Refri' not in lanches\\ntestar2 = 'Refri' in lanches\\n\\nif testar == True:\\n  print('e verdadeiro que Refri não faz parte da lista')\\nif testar2 == False:\\n  print('Refri não faz parte da lista')  \\n\\nprint(testar)\\nprint(testar2)\""
            ],
            "application/vnd.google.colaboratory.intrinsic+json": {
              "type": "string"
            }
          },
          "metadata": {},
          "execution_count": 10
        }
      ]
    },
    {
      "cell_type": "code",
      "source": [
        "lanches = ('Hamburguer','Suco','Pizza','Pudim','Batata Frita','Suco')\n",
        "lanches2 = ('macarrao','bolo','sorvete')\n",
        "lanches3 = lanches + lanches2\n",
        "\n",
        "print(lanches3)\n",
        "print('=='*50)\n",
        "\n",
        "print(sorted(lanches3))\n",
        "print('=='*50)\n",
        "\n",
        "for pos,cont in enumerate(lanches):\n",
        "  print(f'Eu comi: {cont} na posicção {pos}')\n",
        "print('=='*50)\n",
        "\n",
        "#achando a primeira ocorrencia de um objeto index()\n",
        "print(lanches.index('Suco'))  \n",
        "print('=='*50)\n",
        "\n",
        "#quantas vezes aparece um objeto count()\n",
        "print(lanches.count('Suco'))\n"
      ],
      "metadata": {
        "colab": {
          "base_uri": "https://localhost:8080/"
        },
        "id": "ksn_CMN2IEly",
        "outputId": "9bb46afb-e256-4fb4-ea28-978dac8de85f"
      },
      "execution_count": null,
      "outputs": [
        {
          "output_type": "stream",
          "name": "stdout",
          "text": [
            "('Hamburguer', 'Suco', 'Pizza', 'Pudim', 'Batata Frita', 'Suco', 'macarrao', 'bolo', 'sorvete')\n",
            "====================================================================================================\n",
            "['Batata Frita', 'Hamburguer', 'Pizza', 'Pudim', 'Suco', 'Suco', 'bolo', 'macarrao', 'sorvete']\n",
            "====================================================================================================\n",
            "Eu comi: Hamburguer na posicção 0\n",
            "Eu comi: Suco na posicção 1\n",
            "Eu comi: Pizza na posicção 2\n",
            "Eu comi: Pudim na posicção 3\n",
            "Eu comi: Batata Frita na posicção 4\n",
            "Eu comi: Suco na posicção 5\n",
            "====================================================================================================\n",
            "1\n",
            "====================================================================================================\n",
            "2\n"
          ]
        }
      ]
    },
    {
      "cell_type": "code",
      "source": [
        "#72  Crie um programa que tenha uma dupla totalmente preenchida com uma contagem por extenso, \n",
        "#de zero até vinte. Seu programa deverá ler um número pelo teclado (entre 0 e 20) e mostrá-lo por extenso. \n",
        "\n",
        "numeros_por_extenso = ('zero', 'um', 'dois', 'três', 'quatro', 'cinco', 'seis', 'sete', 'oito', 'nove', 'dez', 'onze', 'doze', 'treze', 'catorze', 'quinze', 'dezesseis', 'dezessete', 'dezoito', 'dezenove', 'vinte')\n",
        "\n",
        "while True:\n",
        "    numero = int(input('Digite um valor entre 0 e 20: '))\n",
        "    op = input('Deseja continuar? [S/N] ').strip().upper()\n",
        "\n",
        "    if op == 'N':\n",
        "      break\n",
        "\n",
        "    else:\n",
        "      print(f'O número que você digitou foi {numeros_por_extenso[numero]}.')\n",
        "      continue  \n",
        "    \n",
        "    if numero >= 0 and numero <= 20:\n",
        "      break\n",
        "\n",
        "    else:\n",
        "        print('Número inválido. Tente novamente.')\n",
        "        \n",
        "    \n",
        "    \n",
        "\n",
        "print(f'O número que você digitou foi {numeros_por_extenso[numero]}.')\n"
      ],
      "metadata": {
        "colab": {
          "base_uri": "https://localhost:8080/"
        },
        "id": "5mjGZUCnONb8",
        "outputId": "07273a93-0cef-47a2-9a77-e998d14e510a"
      },
      "execution_count": null,
      "outputs": [
        {
          "output_type": "stream",
          "name": "stdout",
          "text": [
            "Digite um valor entre 0 e 20: 10\n",
            "Deseja continuar? [S/N] s\n",
            "O número que você digitou foi dez.\n",
            "Digite um valor entre 0 e 20: 9\n",
            "Deseja continuar? [S/N] n\n",
            "O número que você digitou foi nove.\n"
          ]
        }
      ]
    },
    {
      "cell_type": "code",
      "source": [
        "# 073: Crie uma tupla preenchida com os 20 primeiros colocados da Tabela do \n",
        "#Campeonato Brasileiro de Futebol, na ordem de colocação. Depois mostre:\n",
        "#a) Os 5 primeiros times.\n",
        "#b) Os últimos 4 colocados.\n",
        "#c) Times em ordem alfabética. \n",
        "#d) Em que posição está o time da Chapecoense.\n",
        "\n",
        "campeonato_brasileiro = (\"Palmeiras\", \"Atlético-MG\", \"Fortaleza\", \"Bragantino\", \"Athletico-PR\", \n",
        "                        \"Fluminense\", \"Flamengo\", \"Cuiabá\", \"Santos\", \"Atlético-GO\", \n",
        "                        \"Corinthians\", \"Internacional\", \"Juventude\", \"Ceará\", \"São Paulo\", \n",
        "                        \"Sport Recife\", \"América-MG\", \"Grêmio\", \"Bahia\", \"Chapecoense\")\n",
        "\n",
        "\n",
        "print(f'O 5 primeiros times são: {campeonato_brasileiro[0:5]}')\n",
        "\n",
        "print(f'O 4 últimos colocados são os times: {campeonato_brasileiro[-4:]}')\n",
        "\n",
        "print(f'O 4 últimos colocados são os times: {sorted(campeonato_brasileiro)}')\n",
        "\n",
        "print(f'O Chapecoense está na: {campeonato_brasileiro.index(\"Chapecoense\")+1}ª posição')\n",
        "\n"
      ],
      "metadata": {
        "colab": {
          "base_uri": "https://localhost:8080/"
        },
        "id": "qriRqv1MzLot",
        "outputId": "ec89d285-c0b1-4fe5-cc0b-7c7b32c8be8d"
      },
      "execution_count": 10,
      "outputs": [
        {
          "output_type": "stream",
          "name": "stdout",
          "text": [
            "O 5 primeiros times são: ('Palmeiras', 'Atlético-MG', 'Fortaleza', 'Bragantino', 'Athletico-PR')\n",
            "O 4 últimos colocados são os times: ('América-MG', 'Grêmio', 'Bahia', 'Chapecoense')\n",
            "O 4 últimos colocados são os times: ['América-MG', 'Athletico-PR', 'Atlético-GO', 'Atlético-MG', 'Bahia', 'Bragantino', 'Ceará', 'Chapecoense', 'Corinthians', 'Cuiabá', 'Flamengo', 'Fluminense', 'Fortaleza', 'Grêmio', 'Internacional', 'Juventude', 'Palmeiras', 'Santos', 'Sport Recife', 'São Paulo']\n",
            "O Chapecoense está na: 20ª posição\n"
          ]
        }
      ]
    },
    {
      "cell_type": "code",
      "source": [
        "tpl = (1,2,3,4,5)\n",
        "print(tpl.index(3, 2, 4))"
      ],
      "metadata": {
        "colab": {
          "base_uri": "https://localhost:8080/"
        },
        "id": "6JPurymIwusr",
        "outputId": "bf5c9cf4-78e6-497b-db30-875ff172a5cb"
      },
      "execution_count": 11,
      "outputs": [
        {
          "output_type": "stream",
          "name": "stdout",
          "text": [
            "2\n"
          ]
        }
      ]
    },
    {
      "cell_type": "code",
      "source": [
        "#074 - Maior e menor valores em Tupla sorteado\n",
        "from random import randint\n",
        "lista = (randint(0,10),randint(0,10),randint(0,10),randint(0,10),randint(0,10))\n",
        "print(f'O valores sorteados são: {lista}')\n",
        "print(f'\\nMaior valor foi {max(lista)} é o menor valor foi {min(lista)}')\n",
        "\n",
        "\n",
        "\n"
      ],
      "metadata": {
        "colab": {
          "base_uri": "https://localhost:8080/"
        },
        "id": "8wUo-rKq5Hw1",
        "outputId": "80799148-0859-49b9-837b-37386ce1c841"
      },
      "execution_count": 46,
      "outputs": [
        {
          "output_type": "stream",
          "name": "stdout",
          "text": [
            "O valores sorteados são: (2, 5, 5, 9, 0)\n",
            "\n",
            "Maior valor foi 9 é o menor valor foi 0\n"
          ]
        }
      ]
    },
    {
      "cell_type": "code",
      "source": [
        "#75\n",
        "lista = []\n",
        "cont = 0\n",
        "pares=[]\n",
        "for i in range(1,5):\n",
        "  n = int(input((f'Digite o {i}ª número: ')))\n",
        "  lista.append(n)\n",
        "\n",
        "  #if n == 9:\n",
        "    #cont +=1\n",
        "for i in lista:\n",
        "  if i % 2 == 0:\n",
        "    pares.append(i)\n",
        "\n",
        "  \n",
        "tupla_lista = tuple(lista)\n",
        "pares_tupla = tuple(pares)\n",
        "cont_nove = tupla_lista.count(9)\n",
        "\n",
        "\n",
        "print(f'A tupla é : {tupla_lista}')\n",
        "print('-=-'*15)\n",
        "if 3 in lista:\n",
        "  print('-=-'*15)\n",
        "  print(f'A posição do número 3 é : {tupla_lista.index(3)+1} posição')\n",
        "  print('-=-'*15)\n",
        "else:\n",
        "  print('-=-'*15)\n",
        "  print('O número 3 não foi encontrado')  \n",
        "  print('-=-'*15)\n",
        "print(f' número 9 apareceu {cont_nove} vezes')\n",
        "print('-=-'*15)\n",
        "print(f'Os números pares são:{pares_tupla} ')  \n",
        "print('-=-'*15)"
      ],
      "metadata": {
        "colab": {
          "base_uri": "https://localhost:8080/"
        },
        "id": "HQ1ARAyvLu4o",
        "outputId": "3ae43d6f-1e75-4d38-a77e-fb316c850cba"
      },
      "execution_count": 68,
      "outputs": [
        {
          "output_type": "stream",
          "name": "stdout",
          "text": [
            "Digite o 1ª número: 9\n",
            "Digite o 2ª número: 10\n",
            "Digite o 3ª número: 2\n",
            "Digite o 4ª número: 5\n",
            "A tupla é : (9, 10, 2, 5)\n",
            "-=--=--=--=--=--=--=--=--=--=--=--=--=--=--=-\n",
            "-=--=--=--=--=--=--=--=--=--=--=--=--=--=--=-\n",
            "O número 3 não foi encontrado\n",
            "-=--=--=--=--=--=--=--=--=--=--=--=--=--=--=-\n",
            " número 9 apareceu 1 vezes\n",
            "-=--=--=--=--=--=--=--=--=--=--=--=--=--=--=-\n",
            "5e os números pares são:(10, 2) \n",
            "-=--=--=--=--=--=--=--=--=--=--=--=--=--=--=-\n"
          ]
        }
      ]
    },
    {
      "cell_type": "code",
      "source": [],
      "metadata": {
        "id": "YNXkk-1JbXBE"
      },
      "execution_count": null,
      "outputs": []
    },
    {
      "cell_type": "code",
      "source": [
        "#CRIPTOGRAFIA COM AES\n",
        "from cryptography.fernet import Fernet\n",
        "from getpass import getpass\n",
        "\n",
        "def aes_encrypt(message, key):\n",
        "    f = Fernet(key)\n",
        "    encrypted_message = f.encrypt(message.encode())\n",
        "    return encrypted_message\n",
        "\n",
        "def aes_decrypt(encrypted_message, key):\n",
        "    f = Fernet(key)\n",
        "    decrypted_message = f.decrypt(encrypted_message)\n",
        "    return decrypted_message.decode()\n",
        "\n",
        "mensagem_original = getpass(\"Digite a mensagem que deseja criptografar: \")\n",
        "chave = Fernet.generate_key()\n",
        "\n",
        "mensagem_criptografada = aes_encrypt(mensagem_original, chave)\n",
        "print(\"Mensagem criptografada:\", mensagem_criptografada)\n",
        "\n",
        "mensagem_descriptografada = aes_decrypt(mensagem_criptografada, chave)\n",
        "print(\"Mensagem descriptografada:\", mensagem_descriptografada)"
      ],
      "metadata": {
        "colab": {
          "base_uri": "https://localhost:8080/"
        },
        "id": "K7FTDt2dl3Sf",
        "outputId": "47a638b5-182c-4caa-8ffc-91535e6e89de"
      },
      "execution_count": null,
      "outputs": [
        {
          "output_type": "stream",
          "name": "stdout",
          "text": [
            "Digite a mensagem que deseja criptografar: ··········\n",
            "Mensagem criptografada: b'gAAAAABkL4S6b7Ozz0fVHeXPvKO6Yi5PbNCt4DSpYLIHOLmUlrSrEvwhAxI66Kw7qBx8bBExqtwggZKRsaWZ18CzTBQky7Dbyw=='\n",
            "Mensagem descriptografada: eu amo voce\n"
          ]
        }
      ]
    },
    {
      "cell_type": "code",
      "source": [
        "i = 0\n",
        "while i <= 3:\n",
        "  i+=2\n",
        "  print(\"*\")"
      ],
      "metadata": {
        "id": "XpOtBu3kIVqT",
        "outputId": "31db83f4-17c3-4964-a895-b14bf6319cd9",
        "colab": {
          "base_uri": "https://localhost:8080/"
        }
      },
      "execution_count": null,
      "outputs": [
        {
          "output_type": "stream",
          "name": "stdout",
          "text": [
            "*\n",
            "*\n"
          ]
        }
      ]
    },
    {
      "cell_type": "code",
      "source": [
        "''' O código irá imprimir a lista [1, 2, 3] quatro vezes, pois o loop for será \n",
        "executado 4 vezes devido ao uso do operador de deslocamento de bits << que multiplica o valor de len(lista) por 2 elevado a 2 (ou seja, 4).\n",
        "\n",
        "No primeiro ciclo do loop, i será igual a 0 e a lista [1, 2, 3] será impressa.\n",
        "No segundo ciclo, i será igual a 1 e a lista [1, 2, 3] será impressa novamente. \n",
        "O loop continuará a executar até que i seja igual a 11 (pois len(lista) é igual \n",
        "a 3 e multiplicado por 4 dá 12, mas como a contagem começa em 0, o loop terminará quando i for igual a 11).\n",
        "No entanto, como a lista é sempre a mesma e não há nenhuma mudança sendo feita na mesma dentro do loop, \n",
        "o resultado será apenas a impressão da lista [1, 2, 3] quatro vezes.\n",
        "'''\n",
        "#lista = [1,2,3]\n",
        "#for i in range(len(lista)<<50):\n",
        "  #print(lista,i)\n",
        "\n",
        "#for i in range(10<<10):\n",
        "  #print('@',i)  \n",
        "\n",
        "b = bin((10^2)*10)\n",
        "\n",
        "print(b[2:])\n",
        "\n"
      ],
      "metadata": {
        "id": "ODlww9kAIsfC",
        "outputId": "0692917c-369a-41d1-b8f5-dfb402db7d6f",
        "colab": {
          "base_uri": "https://localhost:8080/"
        }
      },
      "execution_count": null,
      "outputs": [
        {
          "output_type": "stream",
          "name": "stdout",
          "text": [
            "1010000\n"
          ]
        }
      ]
    },
    {
      "cell_type": "code",
      "source": [
        "a = bin(14)\n",
        "b = a[2:]\n",
        "print(b)\n",
        "\n",
        "14 >> 9 "
      ],
      "metadata": {
        "id": "-seIfWPJugga",
        "outputId": "9b41fef2-c48b-46fd-c5c0-fca9c2c16e57",
        "colab": {
          "base_uri": "https://localhost:8080/"
        }
      },
      "execution_count": null,
      "outputs": [
        {
          "output_type": "stream",
          "name": "stdout",
          "text": [
            "1110\n"
          ]
        },
        {
          "output_type": "execute_result",
          "data": {
            "text/plain": [
              "0"
            ]
          },
          "metadata": {},
          "execution_count": 29
        }
      ]
    },
    {
      "cell_type": "code",
      "source": [
        "from random import randint\n",
        "\n",
        "def gerar_ISBN():\n",
        "  isbn = \"9\"\n",
        "  print(isbn, end='')\n",
        "\n",
        "  for i in range(12):\n",
        "    isbn += str(randint(0,9))\n",
        "    print(isbn[-1], end='')\n",
        "\n",
        "  return isbn\n",
        "\n",
        "def validar_ISBN13(isbn):\n",
        "  if len(isbn) != 13:\n",
        "    return False\n",
        "\n",
        "  soma = 0\n",
        "  for i in range(12):\n",
        "    if i % 2 == 0:\n",
        "      soma += int(isbn[i])\n",
        "    else:\n",
        "      soma += 3 * int(isbn[i])\n",
        "\n",
        "  verif = (10 - (soma % 10)) % 10\n",
        "\n",
        "  return int(isbn[12]) == verif\n",
        "\n",
        "# exemplo de uso\n",
        "isbn = gerar_ISBN()\n",
        "if validar_ISBN13(isbn):\n",
        "  print(\"\\nO ISBN-13\", isbn, \"é válido\")\n",
        "else:\n",
        "  print(\"\\nO ISBN-13\", isbn, \"é inválido\")"
      ],
      "metadata": {
        "id": "Vmn9kW9_xvV0",
        "outputId": "9a26f453-7129-475f-f370-e8cc404a946e",
        "colab": {
          "base_uri": "https://localhost:8080/"
        }
      },
      "execution_count": null,
      "outputs": [
        {
          "output_type": "stream",
          "name": "stdout",
          "text": [
            "9899769354715\n",
            "O ISBN-13 9899769354715 é inválido\n"
          ]
        }
      ]
    },
    {
      "cell_type": "code",
      "source": [
        "from itertools import permutations\n",
        "\n",
        "\n",
        "\n",
        "list1 = [\"A\", \"B\", \"C\"]\n",
        "\n",
        "print(len(list(permutations(list1, 3))))"
      ],
      "metadata": {
        "id": "DbuxBe5rrKQp",
        "outputId": "93dea53d-8e92-4b01-c1f7-f73825113979",
        "colab": {
          "base_uri": "https://localhost:8080/"
        }
      },
      "execution_count": null,
      "outputs": [
        {
          "output_type": "stream",
          "name": "stdout",
          "text": [
            "6\n"
          ]
        }
      ]
    },
    {
      "cell_type": "code",
      "source": [
        "'''palavra = \"A screaming comes across the sky.\"\n",
        "nova = palavra.replace('s','$')\n",
        "print(nova)\n",
        "\n",
        "p = \"Hemingway\"\n",
        "p2= p.find('m')\n",
        "print(p2)\n",
        "\n",
        "string = 'O um anel para todos dominar'\n",
        "print(string)\n",
        "\n",
        "concatenacao = 't'+'h'+'r'+'e'+'e','t'+'h'+'r'+'e'+'e','t'+'h'+'r'+'e'+'e'\n",
        "multi =('Three '*3)\n",
        "print(multi)\n",
        "print(concatenacao)\n",
        "fatiar = \"It was a bright cold day in April, and the clocks were striking thirteen.\"\n",
        "novaFatiar = fatiar[:34]\n",
        "print(novaFatiar)\n",
        "\n",
        "palavra= 'camus'\n",
        "print(palavra[0])\n",
        "print(palavra[1])\n",
        "print(palavra[2])\n",
        "print(palavra[3])\n",
        "print(palavra[4])\n",
        "\n",
        "frase =  ('Yesterday I wrote a [resposta_um]. I sent it to [resposta_dois]!')\n",
        "\n",
        "r1 = input('Digite a resposta 1: ')\n",
        "r2 = input('Digite a resposta 2: ')\n",
        "novaFrase = (f'Yesterday I wrote a {r1}. I sent it to {r2}!')\n",
        "print(novaFrase)\n",
        "\n",
        "frase2 = \"aldous Huxley was born in 1894.\"\n",
        "maiuscula = frase2.capitalize()\n",
        "print(maiuscula)\n",
        "\n",
        "lista =[\"The\", \"fox\", \"jumped\", \"over\", \"the\", \"fence\", \".\"]\n",
        "correta = ' '.join(lista).replace(' .','.')\n",
        "print(correta)\n",
        "\n",
        "lst = \"Where now? Who now? When now?\".split(\"?\")\n",
        "print(lst)'''\n"
      ],
      "metadata": {
        "id": "IM9bQSgG0ZYr",
        "outputId": "14d02380-1f97-477c-e291-c6b456f5ae64",
        "colab": {
          "base_uri": "https://localhost:8080/"
        }
      },
      "execution_count": null,
      "outputs": [
        {
          "output_type": "stream",
          "name": "stdout",
          "text": [
            "['Where now', ' Who now', ' When now', '']\n"
          ]
        }
      ]
    },
    {
      "cell_type": "code",
      "source": [
        "# Usando for para deixar tudo maiusculo:\n",
        "\n",
        "lista = 'A medalha foi dada a ele'\n",
        "\n",
        "for i in lista:\n",
        "  x = lista.upper()\n",
        "print(x)"
      ],
      "metadata": {
        "id": "yrWv28R28URC",
        "outputId": "f0d70d65-e596-421a-de5e-bfa2decbf8e6",
        "colab": {
          "base_uri": "https://localhost:8080/"
        }
      },
      "execution_count": null,
      "outputs": [
        {
          "output_type": "stream",
          "name": "stdout",
          "text": [
            "A MEDALHA FOI DADA A ELE\n"
          ]
        }
      ]
    },
    {
      "cell_type": "code",
      "source": [
        "name = ['davi','pedro','maria']\n",
        "for i in name:\n",
        "  print(i)\n",
        " \n"
      ],
      "metadata": {
        "id": "5Dp592Ch8UXC",
        "outputId": "676172c8-66ad-4d60-8111-b308802ee33b",
        "colab": {
          "base_uri": "https://localhost:8080/"
        }
      },
      "execution_count": null,
      "outputs": [
        {
          "output_type": "stream",
          "name": "stdout",
          "text": [
            "davi\n",
            "pedro\n",
            "maria\n"
          ]
        }
      ]
    },
    {
      "cell_type": "code",
      "source": [],
      "metadata": {
        "id": "mLJonOLO-Ybc",
        "outputId": "6851fcf6-d783-4448-b838-9d72c9f9c134",
        "colab": {
          "base_uri": "https://localhost:8080/"
        }
      },
      "execution_count": null,
      "outputs": [
        {
          "output_type": "stream",
          "name": "stdout",
          "text": [
            "GOT\n",
            "Narcos\n",
            "Vice\n"
          ]
        }
      ]
    }
  ]
}